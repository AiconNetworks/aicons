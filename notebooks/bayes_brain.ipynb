{
 "cells": [
  {
   "cell_type": "markdown",
   "metadata": {},
   "source": [
    "# Bayes Brain"
   ]
  },
  {
   "cell_type": "code",
   "execution_count": 13,
   "metadata": {},
   "outputs": [],
   "source": [
    "import sys\n",
    "import os\n",
    "from pathlib import Path\n",
    "\n",
    "# Add parent directory to path for imports\n",
    "notebook_dir = Path.cwd()\n",
    "project_root = notebook_dir.parent\n",
    "sys.path.append(str(project_root))"
   ]
  },
  {
   "cell_type": "code",
   "execution_count": 14,
   "metadata": {},
   "outputs": [
    {
     "name": "stdout",
     "output_type": "stream",
     "text": [
      "Adding continuous factor...\n",
      "Creating continuous factor with TensorFlow: conversion_rate\n",
      "Added continuous factor with TensorFlow distribution: conversion_rate\n",
      "Adding categorical factor...\n",
      "Creating categorical factor with TensorFlow: best_channel\n",
      "Added categorical factor with TensorFlow distribution: best_channel\n",
      "Adding discrete factor...\n",
      "Creating discrete factor with TensorFlow: ad_count\n",
      "Added discrete factor with TensorFlow distribution: ad_count\n",
      "\n",
      "Initial state:\n",
      "AIcon State (3 factors):\n",
      "\n",
      "conversion_rate:\n",
      "  Type: continuous\n",
      "  Distribution: normal\n",
      "  Current value: 0.05\n",
      "  Mean: 0.05\n",
      "  Uncertainty: 0.01\n",
      "  Constraints: >= 0.0, <= 1.0\n",
      "  Description: Conversion rate for ads\n",
      "\n",
      "best_channel:\n",
      "  Type: categorical\n",
      "  Distribution: categorical\n",
      "  Current value: facebook\n",
      "  Categories (probability):\n",
      "    facebook: 0.40\n",
      "    google: 0.30\n",
      "    tiktok: 0.20\n",
      "    instagram: 0.10\n",
      "  Description: Best performing ad channel\n",
      "\n",
      "ad_count:\n",
      "  Type: discrete\n",
      "  Distribution: categorical\n",
      "  Current value: 3\n",
      "  Possible values: [1, 2, 3, 4, 5, 6, 7, 8, 9, 10]\n",
      "  Description: Number of ads per campaign\n"
     ]
    },
    {
     "ename": "TypeError",
     "evalue": "MarketingSensor.__init__() got an unexpected keyword argument 'factor_mapping'",
     "output_type": "error",
     "traceback": [
      "\u001b[31m---------------------------------------------------------------------------\u001b[39m",
      "\u001b[31mTypeError\u001b[39m                                 Traceback (most recent call last)",
      "\u001b[36mCell\u001b[39m\u001b[36m \u001b[39m\u001b[32mIn[14]\u001b[39m\u001b[32m, line 56\u001b[39m\n\u001b[32m     53\u001b[39m \u001b[38;5;28mprint\u001b[39m(aicon.get_state(format_nicely=\u001b[38;5;28;01mTrue\u001b[39;00m))\n\u001b[32m     55\u001b[39m \u001b[38;5;66;03m# Create a MarketingSensor with factor mapping in the constructor\u001b[39;00m\n\u001b[32m---> \u001b[39m\u001b[32m56\u001b[39m marketing_sensor = \u001b[43mMarketingSensor\u001b[49m\u001b[43m(\u001b[49m\n\u001b[32m     57\u001b[39m \u001b[43m    \u001b[49m\u001b[43mname\u001b[49m\u001b[43m=\u001b[49m\u001b[33;43m\"\u001b[39;49m\u001b[33;43mcampaign_data\u001b[39;49m\u001b[33;43m\"\u001b[39;49m\u001b[43m,\u001b[49m\u001b[43m \u001b[49m\n\u001b[32m     58\u001b[39m \u001b[43m    \u001b[49m\u001b[43mreliability\u001b[49m\u001b[43m=\u001b[49m\u001b[32;43m0.8\u001b[39;49m\u001b[43m,\u001b[49m\n\u001b[32m     59\u001b[39m \u001b[43m    \u001b[49m\u001b[43mfactor_mapping\u001b[49m\u001b[43m=\u001b[49m\u001b[43m{\u001b[49m\n\u001b[32m     60\u001b[39m \u001b[43m        \u001b[49m\u001b[33;43m\"\u001b[39;49m\u001b[33;43mbase_conversion_rate\u001b[39;49m\u001b[33;43m\"\u001b[39;49m\u001b[43m:\u001b[49m\u001b[43m \u001b[49m\u001b[33;43m\"\u001b[39;49m\u001b[33;43mconversion_rate\u001b[39;49m\u001b[33;43m\"\u001b[39;49m\u001b[43m,\u001b[49m\n\u001b[32m     61\u001b[39m \u001b[43m        \u001b[49m\u001b[33;43m\"\u001b[39;49m\u001b[33;43mprimary_channel\u001b[39;49m\u001b[33;43m\"\u001b[39;49m\u001b[43m:\u001b[49m\u001b[43m \u001b[49m\u001b[33;43m\"\u001b[39;49m\u001b[33;43mbest_channel\u001b[39;49m\u001b[33;43m\"\u001b[39;49m\u001b[43m,\u001b[49m\n\u001b[32m     62\u001b[39m \u001b[43m        \u001b[49m\u001b[33;43m\"\u001b[39;49m\u001b[33;43moptimal_daily_ads\u001b[39;49m\u001b[33;43m\"\u001b[39;49m\u001b[43m:\u001b[49m\u001b[43m \u001b[49m\u001b[33;43m\"\u001b[39;49m\u001b[33;43mad_count\u001b[39;49m\u001b[33;43m\"\u001b[39;49m\n\u001b[32m     63\u001b[39m \u001b[43m    \u001b[49m\u001b[43m}\u001b[49m\n\u001b[32m     64\u001b[39m \u001b[43m)\u001b[49m\n",
      "\u001b[31mTypeError\u001b[39m: MarketingSensor.__init__() got an unexpected keyword argument 'factor_mapping'"
     ]
    }
   ],
   "source": [
    "# Import required libraries\n",
    "import tensorflow as tf\n",
    "import tensorflow_probability as tfp\n",
    "import numpy as np\n",
    "import matplotlib.pyplot as plt\n",
    "\n",
    "# Import our AIcon class and the TensorFlow sensors\n",
    "from aicons.definitions.simple_bad_aicon import SimpleBadAIcon\n",
    "from aicons.bayesbrainGPT.sensors.tf_sensors import MarketingSensor\n",
    "\n",
    "# TFP shortcuts\n",
    "tfd = tfp.distributions\n",
    "tfb = tfp.bijectors\n",
    "\n",
    "# Set random seed for reproducibility\n",
    "np.random.seed(42)\n",
    "tf.random.set_seed(42)\n",
    "\n",
    "# Create an AIcon with our own factor names\n",
    "aicon = SimpleBadAIcon(name=\"Marketing Campaign\")\n",
    "\n",
    "# Add factors with our own naming convention\n",
    "print(\"Adding continuous factor...\")\n",
    "aicon.add_factor_continuous(\n",
    "    name=\"conversion_rate\", \n",
    "    value=0.05, \n",
    "    uncertainty=0.01,\n",
    "    lower_bound=0.0,\n",
    "    upper_bound=1.0,\n",
    "    description=\"Conversion rate for ads\"\n",
    ")\n",
    "\n",
    "print(\"Adding categorical factor...\")\n",
    "aicon.add_factor_categorical(\n",
    "    name=\"best_channel\",\n",
    "    value=\"facebook\",\n",
    "    categories=[\"facebook\", \"google\", \"tiktok\", \"instagram\"],\n",
    "    probs=[0.4, 0.3, 0.2, 0.1],\n",
    "    description=\"Best performing ad channel\"\n",
    ")\n",
    "\n",
    "print(\"Adding discrete factor...\")\n",
    "aicon.add_factor_discrete(\n",
    "    name=\"ad_count\",\n",
    "    value=3,\n",
    "    min_value=1,\n",
    "    max_value=10,\n",
    "    description=\"Number of ads per campaign\"\n",
    ")\n",
    "\n",
    "# Print the initial state\n",
    "print(\"\\nInitial state:\")\n",
    "print(aicon.get_state(format_nicely=True))\n",
    "\n",
    "# Create a MarketingSensor with factor mapping in the constructor\n",
    "marketing_sensor = MarketingSensor(\n",
    "    name=\"campaign_data\", \n",
    "    reliability=0.8,\n",
    "    factor_mapping={\n",
    "        \"base_conversion_rate\": \"conversion_rate\",\n",
    "        \"primary_channel\": \"best_channel\",\n",
    "        \"optimal_daily_ads\": \"ad_count\"\n",
    "    }\n",
    ")\n"
   ]
  },
  {
   "cell_type": "code",
   "execution_count": null,
   "metadata": {},
   "outputs": [],
   "source": []
  }
 ],
 "metadata": {
  "kernelspec": {
   "display_name": "babel-PAVoc7qP-py3.12",
   "language": "python",
   "name": "python3"
  },
  "language_info": {
   "codemirror_mode": {
    "name": "ipython",
    "version": 3
   },
   "file_extension": ".py",
   "mimetype": "text/x-python",
   "name": "python",
   "nbconvert_exporter": "python",
   "pygments_lexer": "ipython3",
   "version": "3.12.7"
  }
 },
 "nbformat": 4,
 "nbformat_minor": 2
}
