{
 "cells": [
  {
   "cell_type": "markdown",
   "metadata": {},
   "source": [
    "# Bayes Brain"
   ]
  },
  {
   "cell_type": "code",
   "execution_count": 1,
   "metadata": {},
   "outputs": [],
   "source": [
    "import sys\n",
    "import os\n",
    "from pathlib import Path\n",
    "\n",
    "# Add parent directory to path for imports\n",
    "notebook_dir = Path.cwd()\n",
    "project_root = notebook_dir.parent\n",
    "sys.path.append(str(project_root))"
   ]
  },
  {
   "cell_type": "code",
   "execution_count": null,
   "metadata": {},
   "outputs": [],
   "source": [
    "from aicon.bayesbrainGPT.bayesbrain import BayesBrain\n",
    "from aicons.bayesbrainGPT.perception.perception import BayesianPerception\n",
    "from aicons.bayesbrainGPT.sensors.meta_s.meta_ads_sales_sensor import MetaAdsSalesSensor\n",
    "\n",
    "# Initialize the brain\n",
    "brain = BayesBrain()\n",
    "\n",
    "# Set initial state factors with priors\n",
    "brain.set_state_factors({\n",
    "    \"purchases\": {\n",
    "        \"type\": \"continuous\",\n",
    "        \"value\": 20.0,\n",
    "        \"params\": {\"loc\": 20.0, \"scale\": 10.0}\n",
    "    },\n",
    "    \"purchase_roas\": {\n",
    "        \"type\": \"continuous\",\n",
    "        \"value\": 2.0,\n",
    "        \"params\": {\"loc\": 2.0, \"scale\": 0.5}\n",
    "    }\n",
    "    # ...other factors\n",
    "})\n",
    "\n",
    "# Create perception system\n",
    "perception = BayesianPerception(brain)\n",
    "\n",
    "# Create and register Meta Ads sensor\n",
    "sensor = MetaAdsSalesSensor(\n",
    "    name=\"meta_ads\",\n",
    "    reliability=0.9,\n",
    "    access_token=\"YOUR_ACCESS_TOKEN\",\n",
    "    ad_account_id=\"YOUR_AD_ACCOUNT_ID\",\n",
    "    campaign_id=\"YOUR_CAMPAIGN_ID\"\n",
    ")\n",
    "\n",
    "# Define factor mapping\n",
    "factor_mapping = {\n",
    "    \"purchases\": \"purchases\",\n",
    "    \"purchase_roas\": \"roas\",\n",
    "    # ...map other factors as needed\n",
    "}\n",
    "\n",
    "# Register sensor with perception system\n",
    "perception.register_sensor(\"meta_ads\", sensor, factor_mapping)\n",
    "\n",
    "# Update state from sensor data\n",
    "perception.update_from_sensor(\"meta_ads\")\n",
    "\n",
    "# Get updated state\n",
    "updated_state = brain.get_state_factors()\n",
    "print(\"Updated state:\", updated_state)"
   ]
  }
 ],
 "metadata": {
  "kernelspec": {
   "display_name": "babel-PAVoc7qP-py3.12",
   "language": "python",
   "name": "python3"
  },
  "language_info": {
   "codemirror_mode": {
    "name": "ipython",
    "version": 3
   },
   "file_extension": ".py",
   "mimetype": "text/x-python",
   "name": "python",
   "nbconvert_exporter": "python",
   "pygments_lexer": "ipython3",
   "version": "3.12.7"
  }
 },
 "nbformat": 4,
 "nbformat_minor": 2
}
