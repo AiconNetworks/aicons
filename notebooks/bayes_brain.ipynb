{
 "cells": [
  {
   "cell_type": "markdown",
   "metadata": {},
   "source": [
    "# Bayes Brain"
   ]
  },
  {
   "cell_type": "code",
   "execution_count": 5,
   "metadata": {},
   "outputs": [],
   "source": [
    "import sys\n",
    "import os\n",
    "from pathlib import Path\n",
    "\n",
    "# Add parent directory to path for imports\n",
    "notebook_dir = Path.cwd()\n",
    "project_root = notebook_dir.parent\n",
    "sys.path.append(str(project_root))"
   ]
  },
  {
   "cell_type": "code",
   "execution_count": 7,
   "metadata": {},
   "outputs": [
    {
     "name": "stdout",
     "output_type": "stream",
     "text": [
      "Empty state created: \n",
      "Number of factors: 0\n",
      "\n",
      "State after adding factors:\n",
      "conversion_rate: 0.05\n",
      "channel: facebook\n",
      "budget: 1000.0\n",
      "Number of factors: 3\n",
      "\n",
      "Current beliefs: {'conversion_rate': 0.05, 'channel': 'facebook', 'budget': 1000.0}\n",
      "\n",
      "Accessing individual factors:\n",
      "Conversion rate: 0.05\n",
      "Channel: facebook\n",
      "Budget: 1000.0\n",
      "\n",
      "State after reset:\n",
      "{'conversion_rate': 0.05, 'channel': 'facebook', 'budget': 1000.0}\n",
      "\n",
      "Creating a pre-configured state:\n",
      "Number of factors in pre-configured state: 14\n",
      "Factors in pre-configured state: ['phi_ad1', 'phi_ad2', 'phi_ad3', 'c_ad1', 'c_ad2', 'c_ad3', 'delta_day1', 'delta_day2', 'delta_day3', 'delta_day4', 'delta_day5', 'sigma', 'roi_target', 'risk_tolerance']\n"
     ]
    }
   ],
   "source": [
    "# Import the BayesianState class\n",
    "from aicons.bayesbrainGPT.state_representation.bayesian_state import BayesianState\n",
    "\n",
    "# Create an empty BayesianState\n",
    "state = BayesianState()\n",
    "print(\"Empty state created:\", state)\n",
    "print(\"Number of factors:\", len(state.factors))\n",
    "\n",
    "# Add some latent variables to the state\n",
    "conv_rate = state.add_continuous_latent(\n",
    "    name=\"conversion_rate\", \n",
    "    mean=0.05,  # 5% conversion rate\n",
    "    uncertainty=0.01,\n",
    "    description=\"Conversion rate for the main ad\"\n",
    ")\n",
    "\n",
    "channel = state.add_categorical_latent(\n",
    "    name=\"channel\",\n",
    "    initial_value=\"facebook\",\n",
    "    possible_values=[\"facebook\", \"google\", \"tiktok\", \"instagram\"],\n",
    "    description=\"Ad channel\"\n",
    ")\n",
    "\n",
    "budget = state.add_continuous_latent(\n",
    "    name=\"budget\",\n",
    "    mean=1000.0,\n",
    "    uncertainty=100.0,\n",
    "    description=\"Daily budget in dollars\"\n",
    ")\n",
    "\n",
    "# Check the state now\n",
    "print(\"\\nState after adding factors:\")\n",
    "print(state)\n",
    "print(\"Number of factors:\", len(state.factors))\n",
    "\n",
    "# Get current beliefs\n",
    "beliefs = state.get_beliefs()\n",
    "print(\"\\nCurrent beliefs:\", beliefs)\n",
    "\n",
    "# Access individual factors\n",
    "print(\"\\nAccessing individual factors:\")\n",
    "print(f\"Conversion rate: {state.factors['conversion_rate'].value}\")\n",
    "print(f\"Channel: {state.factors['channel'].value}\")\n",
    "print(f\"Budget: {state.factors['budget'].value}\")\n",
    "\n",
    "# Reset the state\n",
    "state.reset()\n",
    "print(\"\\nState after reset:\")\n",
    "print(state.get_beliefs())\n",
    "\n",
    "# Try creating a pre-configured state\n",
    "print(\"\\nCreating a pre-configured state:\")\n",
    "ad_state = BayesianState()\n",
    "ad_state.create_ad_budget_state(num_ads=3, num_days=5)\n",
    "print(f\"Number of factors in pre-configured state: {len(ad_state.factors)}\")\n",
    "print(\"Factors in pre-configured state:\", list(ad_state.factors.keys()))"
   ]
  },
  {
   "cell_type": "code",
   "execution_count": null,
   "metadata": {},
   "outputs": [],
   "source": []
  }
 ],
 "metadata": {
  "kernelspec": {
   "display_name": "aicons-gjUkZMUK-py3.13",
   "language": "python",
   "name": "python3"
  },
  "language_info": {
   "codemirror_mode": {
    "name": "ipython",
    "version": 3
   },
   "file_extension": ".py",
   "mimetype": "text/x-python",
   "name": "python",
   "nbconvert_exporter": "python",
   "pygments_lexer": "ipython3",
   "version": "3.13.0"
  }
 },
 "nbformat": 4,
 "nbformat_minor": 2
}
