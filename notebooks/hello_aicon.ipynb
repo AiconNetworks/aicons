{
 "cells": [
  {
   "cell_type": "code",
   "execution_count": 19,
   "metadata": {},
   "outputs": [],
   "source": [
    "import sys\n",
    "import os\n",
    "import numpy as np\n",
    "from pathlib import Path\n",
    "from datetime import datetime\n",
    "import importlib  # For reloading modules during testing\n",
    "\n",
    "# Add parent directory to path for imports\n",
    "notebook_dir = Path.cwd()\n",
    "project_root = notebook_dir.parent\n",
    "sys.path.append(str(project_root))\n",
    "\n",
    "# First import the modules\n",
    "import aicons.definitions.aicon\n",
    "import aicons.bayesbrainGPT.utility_function.utility_function\n",
    "import aicons.bayesbrainGPT.decision_making.action_space\n",
    "\n",
    "# Now reload them for development/testing\n",
    "importlib.reload(aicons.definitions.aicon)\n",
    "importlib.reload(aicons.bayesbrainGPT.utility_function.utility_function)\n",
    "importlib.reload(aicons.bayesbrainGPT.decision_making.action_space)\n",
    "\n",
    "# Import the classes after reloading\n",
    "from aicons.definitions.aicon import AIcon"
   ]
  },
  {
   "cell_type": "code",
   "execution_count": 20,
   "metadata": {},
   "outputs": [
    {
     "name": "stdout",
     "output_type": "stream",
     "text": [
      "AIcon created: marketing_aicon\n"
     ]
    }
   ],
   "source": [
    "# Create the AIcon\n",
    "aicon = AIcon(\"marketing_aicon\")\n",
    "print(f\"AIcon created: {aicon.name}\")"
   ]
  },
  {
   "cell_type": "markdown",
   "metadata": {},
   "source": [
    "### Defining Action Space"
   ]
  },
  {
   "cell_type": "code",
   "execution_count": 21,
   "metadata": {},
   "outputs": [
    {
     "data": {
      "text/plain": [
       "ActionSpace(dimensions=2, constraints=1)"
      ]
     },
     "execution_count": 21,
     "metadata": {},
     "output_type": "execute_result"
    }
   ],
   "source": [
    "# Define action space for budget allocation\n",
    "aicon.define_action_space(\n",
    "    space_type='marketing',\n",
    "    total_budget=1000.0,\n",
    "    num_ads=2,\n",
    "    budget_step=100.0,\n",
    "    ad_names=['google', 'facebook']\n",
    ")"
   ]
  },
  {
   "cell_type": "code",
   "execution_count": 12,
   "metadata": {},
   "outputs": [
    {
     "name": "stdout",
     "output_type": "stream",
     "text": [
      "\n",
      "Action Space Details:\n",
      "--------------------------------------------------\n",
      "Number of dimensions: 2\n",
      "\n",
      "Dimensions:\n",
      "\n",
      "Name: google_budget\n",
      "Type: continuous\n",
      "Range: [0.0, 1000.0]\n",
      "Step: 100.0\n",
      "\n",
      "Name: facebook_budget\n",
      "Type: continuous\n",
      "Range: [0.0, 1000.0]\n",
      "Step: 100.0\n",
      "--------------------------------------------------\n",
      "\n",
      "Sample Actions:\n",
      "--------------------------------------------------\n",
      "Action: {'google_budget': 400.0, 'facebook_budget': 600.0}\n",
      "Action: {'google_budget': 500.0, 'facebook_budget': 500.0}\n",
      "Action: {'google_budget': 200.0, 'facebook_budget': 800.0}\n"
     ]
    }
   ],
   "source": [
    "# Then print the action space details\n",
    "action_space = aicon.action_space\n",
    "print(\"\\nAction Space Details:\")\n",
    "print(\"-\" * 50)\n",
    "print(f\"Number of dimensions: {len(action_space.dimensions)}\")\n",
    "print(\"\\nDimensions:\")\n",
    "for dim in action_space.dimensions:\n",
    "    print(f\"\\nName: {dim.name}\")\n",
    "    print(f\"Type: {dim.dim_type}\")\n",
    "    if dim.dim_type == 'continuous':\n",
    "        print(f\"Range: [{dim.min_value}, {dim.max_value}]\")\n",
    "        print(f\"Step: {dim.step}\")\n",
    "    elif dim.dim_type == 'discrete':\n",
    "        print(f\"Values: {dim.values}\")\n",
    "print(\"-\" * 50)\n",
    "\n",
    "# You can also sample some actions to see what they look like\n",
    "print(\"\\nSample Actions:\")\n",
    "print(\"-\" * 50)\n",
    "for _ in range(3):\n",
    "    action = action_space.sample()\n",
    "    print(f\"Action: {action}\")"
   ]
  },
  {
   "cell_type": "markdown",
   "metadata": {},
   "source": [
    "### Defining Utility Function"
   ]
  },
  {
   "cell_type": "code",
   "execution_count": null,
   "metadata": {},
   "outputs": [],
   "source": [
    "# Define utility function for ROI\n",
    "aicon.define_utility_function(\n",
    "    utility_type='weighted_sum',\n",
    "    weights={'google': 0.6, 'facebook': 0.4}\n",
    ")\n"
   ]
  },
  {
   "cell_type": "markdown",
   "metadata": {},
   "source": [
    "### Defining State Rep State"
   ]
  },
  {
   "cell_type": "code",
   "execution_count": null,
   "metadata": {},
   "outputs": [],
   "source": [
    "# Add state factors\n",
    "aicon.add_state_factor(\n",
    "    name='base_conversion_rate',\n",
    "    factor_type='continuous',\n",
    "    value=0.05,\n",
    "    uncertainty=0.01\n",
    ")\n",
    "\n",
    "aicon.add_state_factor(\n",
    "    name='primary_channel',\n",
    "    factor_type='categorical',\n",
    "    value='google',\n",
    "    categories=['google', 'facebook'],\n",
    "    probs=[0.7, 0.3]\n",
    ")"
   ]
  }
 ],
 "metadata": {
  "kernelspec": {
   "display_name": "babel-PAVoc7qP-py3.12",
   "language": "python",
   "name": "python3"
  },
  "language_info": {
   "codemirror_mode": {
    "name": "ipython",
    "version": 3
   },
   "file_extension": ".py",
   "mimetype": "text/x-python",
   "name": "python",
   "nbconvert_exporter": "python",
   "pygments_lexer": "ipython3",
   "version": "3.12.7"
  }
 },
 "nbformat": 4,
 "nbformat_minor": 2
}
