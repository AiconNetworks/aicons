{
 "cells": [
  {
   "cell_type": "code",
   "execution_count": 1,
   "metadata": {},
   "outputs": [],
   "source": [
    "import sys\n",
    "import os\n",
    "import numpy as np\n",
    "from pathlib import Path\n",
    "from datetime import datetime\n",
    "import importlib  # For reloading modules during testing\n",
    "\n",
    "# Add parent directory to path for imports\n",
    "notebook_dir = Path.cwd()\n",
    "project_root = notebook_dir.parent\n",
    "sys.path.append(str(project_root))\n",
    "\n",
    "# Import all necessary modules first\n",
    "import aicons.bayesbrainGPT.bayes_brain_ref\n",
    "import aicons.bayesbrainGPT.utility_function.utility_base\n",
    "import aicons.bayesbrainGPT.utility_function.linear_utility\n",
    "import aicons.bayesbrainGPT.utility_function\n",
    "import aicons.definitions.aicon\n",
    "\n",
    "# Now we can reload them\n",
    "importlib.reload(aicons.bayesbrainGPT.bayes_brain_ref)\n",
    "importlib.reload(aicons.bayesbrainGPT.utility_function.utility_base)\n",
    "importlib.reload(aicons.bayesbrainGPT.utility_function)  # Reload the package first\n",
    "importlib.reload(aicons.definitions.aicon)\n",
    "importlib.reload(aicons.bayesbrainGPT)\n",
    "importlib.reload(aicons)\n",
    "\n",
    "# Import the classes we need\n",
    "from aicons.definitions.aicon import AIcon"
   ]
  },
  {
   "cell_type": "code",
   "execution_count": 2,
   "metadata": {},
   "outputs": [
    {
     "name": "stdout",
     "output_type": "stream",
     "text": [
      "AIcon created: marketing_aicon\n"
     ]
    }
   ],
   "source": [
    "# Create the AIcon\n",
    "aicon = AIcon(\"marketing_aicon\")\n",
    "print(f\"AIcon created: {aicon.name}\")"
   ]
  },
  {
   "cell_type": "markdown",
   "metadata": {},
   "source": [
    "### Defining Action Space"
   ]
  },
  {
   "cell_type": "code",
   "execution_count": 3,
   "metadata": {},
   "outputs": [
    {
     "data": {
      "text/plain": [
       "ActionSpace(dimensions=2, constraints=1)"
      ]
     },
     "execution_count": 3,
     "metadata": {},
     "output_type": "execute_result"
    }
   ],
   "source": [
    "# Define an action space\n",
    "aicon.define_action_space(\n",
    "    space_type='marketing',\n",
    "    total_budget=1000.0,\n",
    "    num_ads=2,\n",
    "    budget_step=100.0,\n",
    "    ad_names=['google', 'facebook']\n",
    ")"
   ]
  },
  {
   "cell_type": "code",
   "execution_count": 4,
   "metadata": {},
   "outputs": [
    {
     "name": "stdout",
     "output_type": "stream",
     "text": [
      "dimensions: ['google_budget: [0.0, 1000.0] step=100.0', 'facebook_budget: [0.0, 1000.0] step=100.0']\n",
      "constraints: ['<function create_marketing_ads_space.<locals>.budget_sum_constraint at 0x3108b4180>']\n",
      "actions: [{'google_budget': 100.0, 'facebook_budget': 900.0}, {'google_budget': 900.0, 'facebook_budget': 100.0}, {'google_budget': 500.0, 'facebook_budget': 500.0}, {'google_budget': 400.0, 'facebook_budget': 600.0}, {'google_budget': 100.0, 'facebook_budget': 900.0}, {'google_budget': 700.0, 'facebook_budget': 300.0}, {'google_budget': 900.0, 'facebook_budget': 100.0}, {'google_budget': 400.0, 'facebook_budget': 600.0}, {'google_budget': 300.0, 'facebook_budget': 700.0}, {'google_budget': 500.0, 'facebook_budget': 500.0}, {'google_budget': 900.0, 'facebook_budget': 100.0}, {'google_budget': 600.0, 'facebook_budget': 400.0}, {'google_budget': 500.0, 'facebook_budget': 500.0}, {'google_budget': 700.0, 'facebook_budget': 300.0}, {'google_budget': 0.0, 'facebook_budget': 1000.0}, {'google_budget': 200.0, 'facebook_budget': 800.0}, {'google_budget': 300.0, 'facebook_budget': 700.0}, {'google_budget': 800.0, 'facebook_budget': 200.0}, {'google_budget': 400.0, 'facebook_budget': 600.0}, {'google_budget': 600.0, 'facebook_budget': 400.0}, {'google_budget': 200.0, 'facebook_budget': 800.0}, {'google_budget': 600.0, 'facebook_budget': 400.0}, {'google_budget': 100.0, 'facebook_budget': 900.0}, {'google_budget': 300.0, 'facebook_budget': 700.0}, {'google_budget': 900.0, 'facebook_budget': 100.0}, {'google_budget': 600.0, 'facebook_budget': 400.0}, {'google_budget': 500.0, 'facebook_budget': 500.0}, {'google_budget': 200.0, 'facebook_budget': 800.0}, {'google_budget': 700.0, 'facebook_budget': 300.0}, {'google_budget': 200.0, 'facebook_budget': 800.0}, {'google_budget': 700.0, 'facebook_budget': 300.0}, {'google_budget': 400.0, 'facebook_budget': 600.0}, {'google_budget': 1000.0, 'facebook_budget': 0.0}, {'google_budget': 300.0, 'facebook_budget': 700.0}, {'google_budget': 300.0, 'facebook_budget': 700.0}, {'google_budget': 800.0, 'facebook_budget': 200.0}, {'google_budget': 500.0, 'facebook_budget': 500.0}, {'google_budget': 900.0, 'facebook_budget': 100.0}, {'google_budget': 600.0, 'facebook_budget': 400.0}, {'google_budget': 1000.0, 'facebook_budget': 0.0}, {'google_budget': 700.0, 'facebook_budget': 300.0}, {'google_budget': 600.0, 'facebook_budget': 400.0}, {'google_budget': 400.0, 'facebook_budget': 600.0}, {'google_budget': 500.0, 'facebook_budget': 500.0}, {'google_budget': 200.0, 'facebook_budget': 800.0}, {'google_budget': 800.0, 'facebook_budget': 200.0}, {'google_budget': 600.0, 'facebook_budget': 400.0}, {'google_budget': 600.0, 'facebook_budget': 400.0}, {'google_budget': 500.0, 'facebook_budget': 500.0}, {'google_budget': 800.0, 'facebook_budget': 200.0}, {'google_budget': 700.0, 'facebook_budget': 300.0}, {'google_budget': 900.0, 'facebook_budget': 100.0}, {'google_budget': 700.0, 'facebook_budget': 300.0}, {'google_budget': 200.0, 'facebook_budget': 800.0}, {'google_budget': 400.0, 'facebook_budget': 600.0}, {'google_budget': 300.0, 'facebook_budget': 700.0}, {'google_budget': 400.0, 'facebook_budget': 600.0}, {'google_budget': 200.0, 'facebook_budget': 800.0}, {'google_budget': 500.0, 'facebook_budget': 500.0}, {'google_budget': 400.0, 'facebook_budget': 600.0}, {'google_budget': 0.0, 'facebook_budget': 1000.0}, {'google_budget': 0.0, 'facebook_budget': 1000.0}, {'google_budget': 500.0, 'facebook_budget': 500.0}, {'google_budget': 400.0, 'facebook_budget': 600.0}, {'google_budget': 700.0, 'facebook_budget': 300.0}, {'google_budget': 400.0, 'facebook_budget': 600.0}, {'google_budget': 100.0, 'facebook_budget': 900.0}, {'google_budget': 600.0, 'facebook_budget': 400.0}, {'google_budget': 600.0, 'facebook_budget': 400.0}, {'google_budget': 300.0, 'facebook_budget': 700.0}, {'google_budget': 200.0, 'facebook_budget': 800.0}, {'google_budget': 900.0, 'facebook_budget': 100.0}, {'google_budget': 200.0, 'facebook_budget': 800.0}, {'google_budget': 200.0, 'facebook_budget': 800.0}, {'google_budget': 200.0, 'facebook_budget': 800.0}, {'google_budget': 800.0, 'facebook_budget': 200.0}, {'google_budget': 300.0, 'facebook_budget': 700.0}, {'google_budget': 600.0, 'facebook_budget': 400.0}, {'google_budget': 700.0, 'facebook_budget': 300.0}, {'google_budget': 600.0, 'facebook_budget': 400.0}, {'google_budget': 600.0, 'facebook_budget': 400.0}, {'google_budget': 700.0, 'facebook_budget': 300.0}, {'google_budget': 800.0, 'facebook_budget': 200.0}, {'google_budget': 500.0, 'facebook_budget': 500.0}, {'google_budget': 400.0, 'facebook_budget': 600.0}, {'google_budget': 600.0, 'facebook_budget': 400.0}, {'google_budget': 800.0, 'facebook_budget': 200.0}, {'google_budget': 1000.0, 'facebook_budget': 0.0}, {'google_budget': 900.0, 'facebook_budget': 100.0}, {'google_budget': 200.0, 'facebook_budget': 800.0}, {'google_budget': 300.0, 'facebook_budget': 700.0}, {'google_budget': 600.0, 'facebook_budget': 400.0}, {'google_budget': 300.0, 'facebook_budget': 700.0}, {'google_budget': 600.0, 'facebook_budget': 400.0}, {'google_budget': 800.0, 'facebook_budget': 200.0}, {'google_budget': 800.0, 'facebook_budget': 200.0}, {'google_budget': 900.0, 'facebook_budget': 100.0}, {'google_budget': 1000.0, 'facebook_budget': 0.0}, {'google_budget': 700.0, 'facebook_budget': 300.0}, {'google_budget': 600.0, 'facebook_budget': 400.0}, {'google_budget': 0.0, 'facebook_budget': 1000.0}, {'google_budget': 1000.0, 'facebook_budget': 0.0}, {'google_budget': 100.0, 'facebook_budget': 900.0}, {'google_budget': 600.0, 'facebook_budget': 400.0}, {'google_budget': 900.0, 'facebook_budget': 100.0}, {'google_budget': 200.0, 'facebook_budget': 800.0}, {'google_budget': 600.0, 'facebook_budget': 400.0}, {'google_budget': 500.0, 'facebook_budget': 500.0}, {'google_budget': 400.0, 'facebook_budget': 600.0}, {'google_budget': 200.0, 'facebook_budget': 800.0}, {'google_budget': 300.0, 'facebook_budget': 700.0}, {'google_budget': 800.0, 'facebook_budget': 200.0}, {'google_budget': 500.0, 'facebook_budget': 500.0}, {'google_budget': 300.0, 'facebook_budget': 700.0}, {'google_budget': 800.0, 'facebook_budget': 200.0}, {'google_budget': 700.0, 'facebook_budget': 300.0}, {'google_budget': 300.0, 'facebook_budget': 700.0}, {'google_budget': 600.0, 'facebook_budget': 400.0}, {'google_budget': 500.0, 'facebook_budget': 500.0}, {'google_budget': 900.0, 'facebook_budget': 100.0}, {'google_budget': 700.0, 'facebook_budget': 300.0}, {'google_budget': 100.0, 'facebook_budget': 900.0}, {'google_budget': 800.0, 'facebook_budget': 200.0}, {'google_budget': 100.0, 'facebook_budget': 900.0}, {'google_budget': 700.0, 'facebook_budget': 300.0}, {'google_budget': 600.0, 'facebook_budget': 400.0}, {'google_budget': 300.0, 'facebook_budget': 700.0}, {'google_budget': 300.0, 'facebook_budget': 700.0}, {'google_budget': 200.0, 'facebook_budget': 800.0}, {'google_budget': 700.0, 'facebook_budget': 300.0}, {'google_budget': 300.0, 'facebook_budget': 700.0}, {'google_budget': 900.0, 'facebook_budget': 100.0}, {'google_budget': 600.0, 'facebook_budget': 400.0}, {'google_budget': 900.0, 'facebook_budget': 100.0}, {'google_budget': 400.0, 'facebook_budget': 600.0}, {'google_budget': 800.0, 'facebook_budget': 200.0}, {'google_budget': 900.0, 'facebook_budget': 100.0}, {'google_budget': 500.0, 'facebook_budget': 500.0}, {'google_budget': 400.0, 'facebook_budget': 600.0}, {'google_budget': 200.0, 'facebook_budget': 800.0}, {'google_budget': 100.0, 'facebook_budget': 900.0}, {'google_budget': 400.0, 'facebook_budget': 600.0}, {'google_budget': 700.0, 'facebook_budget': 300.0}, {'google_budget': 700.0, 'facebook_budget': 300.0}, {'google_budget': 500.0, 'facebook_budget': 500.0}, {'google_budget': 600.0, 'facebook_budget': 400.0}, {'google_budget': 500.0, 'facebook_budget': 500.0}, {'google_budget': 800.0, 'facebook_budget': 200.0}, {'google_budget': 500.0, 'facebook_budget': 500.0}, {'google_budget': 600.0, 'facebook_budget': 400.0}, {'google_budget': 500.0, 'facebook_budget': 500.0}, {'google_budget': 100.0, 'facebook_budget': 900.0}, {'google_budget': 200.0, 'facebook_budget': 800.0}, {'google_budget': 1000.0, 'facebook_budget': 0.0}, {'google_budget': 800.0, 'facebook_budget': 200.0}, {'google_budget': 500.0, 'facebook_budget': 500.0}, {'google_budget': 800.0, 'facebook_budget': 200.0}, {'google_budget': 400.0, 'facebook_budget': 600.0}, {'google_budget': 800.0, 'facebook_budget': 200.0}, {'google_budget': 0.0, 'facebook_budget': 1000.0}, {'google_budget': 600.0, 'facebook_budget': 400.0}, {'google_budget': 200.0, 'facebook_budget': 800.0}, {'google_budget': 600.0, 'facebook_budget': 400.0}, {'google_budget': 600.0, 'facebook_budget': 400.0}, {'google_budget': 600.0, 'facebook_budget': 400.0}, {'google_budget': 500.0, 'facebook_budget': 500.0}, {'google_budget': 700.0, 'facebook_budget': 300.0}, {'google_budget': 500.0, 'facebook_budget': 500.0}, {'google_budget': 500.0, 'facebook_budget': 500.0}, {'google_budget': 600.0, 'facebook_budget': 400.0}, {'google_budget': 900.0, 'facebook_budget': 100.0}, {'google_budget': 300.0, 'facebook_budget': 700.0}, {'google_budget': 200.0, 'facebook_budget': 800.0}, {'google_budget': 900.0, 'facebook_budget': 100.0}, {'google_budget': 100.0, 'facebook_budget': 900.0}, {'google_budget': 200.0, 'facebook_budget': 800.0}, {'google_budget': 300.0, 'facebook_budget': 700.0}, {'google_budget': 100.0, 'facebook_budget': 900.0}, {'google_budget': 300.0, 'facebook_budget': 700.0}, {'google_budget': 800.0, 'facebook_budget': 200.0}, {'google_budget': 400.0, 'facebook_budget': 600.0}, {'google_budget': 400.0, 'facebook_budget': 600.0}, {'google_budget': 500.0, 'facebook_budget': 500.0}, {'google_budget': 500.0, 'facebook_budget': 500.0}, {'google_budget': 200.0, 'facebook_budget': 800.0}, {'google_budget': 900.0, 'facebook_budget': 100.0}, {'google_budget': 700.0, 'facebook_budget': 300.0}, {'google_budget': 500.0, 'facebook_budget': 500.0}, {'google_budget': 600.0, 'facebook_budget': 400.0}, {'google_budget': 500.0, 'facebook_budget': 500.0}, {'google_budget': 400.0, 'facebook_budget': 600.0}, {'google_budget': 900.0, 'facebook_budget': 100.0}, {'google_budget': 100.0, 'facebook_budget': 900.0}, {'google_budget': 300.0, 'facebook_budget': 700.0}, {'google_budget': 500.0, 'facebook_budget': 500.0}, {'google_budget': 100.0, 'facebook_budget': 900.0}, {'google_budget': 500.0, 'facebook_budget': 500.0}, {'google_budget': 300.0, 'facebook_budget': 700.0}, {'google_budget': 600.0, 'facebook_budget': 400.0}, {'google_budget': 500.0, 'facebook_budget': 500.0}, {'google_budget': 500.0, 'facebook_budget': 500.0}, {'google_budget': 700.0, 'facebook_budget': 300.0}, {'google_budget': 0.0, 'facebook_budget': 1000.0}, {'google_budget': 700.0, 'facebook_budget': 300.0}, {'google_budget': 0.0, 'facebook_budget': 1000.0}, {'google_budget': 500.0, 'facebook_budget': 500.0}, {'google_budget': 100.0, 'facebook_budget': 900.0}, {'google_budget': 500.0, 'facebook_budget': 500.0}, {'google_budget': 400.0, 'facebook_budget': 600.0}, {'google_budget': 400.0, 'facebook_budget': 600.0}, {'google_budget': 600.0, 'facebook_budget': 400.0}, {'google_budget': 500.0, 'facebook_budget': 500.0}, {'google_budget': 500.0, 'facebook_budget': 500.0}, {'google_budget': 700.0, 'facebook_budget': 300.0}, {'google_budget': 300.0, 'facebook_budget': 700.0}, {'google_budget': 900.0, 'facebook_budget': 100.0}, {'google_budget': 600.0, 'facebook_budget': 400.0}, {'google_budget': 600.0, 'facebook_budget': 400.0}, {'google_budget': 800.0, 'facebook_budget': 200.0}, {'google_budget': 800.0, 'facebook_budget': 200.0}, {'google_budget': 600.0, 'facebook_budget': 400.0}, {'google_budget': 400.0, 'facebook_budget': 600.0}, {'google_budget': 700.0, 'facebook_budget': 300.0}, {'google_budget': 500.0, 'facebook_budget': 500.0}, {'google_budget': 500.0, 'facebook_budget': 500.0}, {'google_budget': 200.0, 'facebook_budget': 800.0}, {'google_budget': 500.0, 'facebook_budget': 500.0}, {'google_budget': 600.0, 'facebook_budget': 400.0}, {'google_budget': 600.0, 'facebook_budget': 400.0}, {'google_budget': 400.0, 'facebook_budget': 600.0}, {'google_budget': 500.0, 'facebook_budget': 500.0}, {'google_budget': 600.0, 'facebook_budget': 400.0}, {'google_budget': 900.0, 'facebook_budget': 100.0}, {'google_budget': 100.0, 'facebook_budget': 900.0}, {'google_budget': 400.0, 'facebook_budget': 600.0}, {'google_budget': 600.0, 'facebook_budget': 400.0}, {'google_budget': 800.0, 'facebook_budget': 200.0}, {'google_budget': 500.0, 'facebook_budget': 500.0}, {'google_budget': 100.0, 'facebook_budget': 900.0}, {'google_budget': 300.0, 'facebook_budget': 700.0}, {'google_budget': 700.0, 'facebook_budget': 300.0}, {'google_budget': 300.0, 'facebook_budget': 700.0}, {'google_budget': 500.0, 'facebook_budget': 500.0}, {'google_budget': 600.0, 'facebook_budget': 400.0}, {'google_budget': 800.0, 'facebook_budget': 200.0}, {'google_budget': 500.0, 'facebook_budget': 500.0}, {'google_budget': 100.0, 'facebook_budget': 900.0}, {'google_budget': 100.0, 'facebook_budget': 900.0}, {'google_budget': 500.0, 'facebook_budget': 500.0}, {'google_budget': 500.0, 'facebook_budget': 500.0}, {'google_budget': 400.0, 'facebook_budget': 600.0}, {'google_budget': 1000.0, 'facebook_budget': 0.0}, {'google_budget': 600.0, 'facebook_budget': 400.0}, {'google_budget': 800.0, 'facebook_budget': 200.0}, {'google_budget': 800.0, 'facebook_budget': 200.0}, {'google_budget': 800.0, 'facebook_budget': 200.0}, {'google_budget': 100.0, 'facebook_budget': 900.0}, {'google_budget': 900.0, 'facebook_budget': 100.0}, {'google_budget': 600.0, 'facebook_budget': 400.0}, {'google_budget': 500.0, 'facebook_budget': 500.0}, {'google_budget': 700.0, 'facebook_budget': 300.0}, {'google_budget': 900.0, 'facebook_budget': 100.0}, {'google_budget': 700.0, 'facebook_budget': 300.0}, {'google_budget': 500.0, 'facebook_budget': 500.0}, {'google_budget': 500.0, 'facebook_budget': 500.0}, {'google_budget': 400.0, 'facebook_budget': 600.0}, {'google_budget': 600.0, 'facebook_budget': 400.0}, {'google_budget': 600.0, 'facebook_budget': 400.0}, {'google_budget': 1000.0, 'facebook_budget': 0.0}, {'google_budget': 400.0, 'facebook_budget': 600.0}, {'google_budget': 300.0, 'facebook_budget': 700.0}, {'google_budget': 600.0, 'facebook_budget': 400.0}, {'google_budget': 200.0, 'facebook_budget': 800.0}, {'google_budget': 300.0, 'facebook_budget': 700.0}, {'google_budget': 900.0, 'facebook_budget': 100.0}, {'google_budget': 400.0, 'facebook_budget': 600.0}, {'google_budget': 900.0, 'facebook_budget': 100.0}, {'google_budget': 500.0, 'facebook_budget': 500.0}, {'google_budget': 400.0, 'facebook_budget': 600.0}, {'google_budget': 600.0, 'facebook_budget': 400.0}, {'google_budget': 100.0, 'facebook_budget': 900.0}, {'google_budget': 700.0, 'facebook_budget': 300.0}, {'google_budget': 800.0, 'facebook_budget': 200.0}, {'google_budget': 700.0, 'facebook_budget': 300.0}, {'google_budget': 800.0, 'facebook_budget': 200.0}, {'google_budget': 500.0, 'facebook_budget': 500.0}, {'google_budget': 300.0, 'facebook_budget': 700.0}, {'google_budget': 200.0, 'facebook_budget': 800.0}, {'google_budget': 500.0, 'facebook_budget': 500.0}, {'google_budget': 300.0, 'facebook_budget': 700.0}, {'google_budget': 900.0, 'facebook_budget': 100.0}, {'google_budget': 500.0, 'facebook_budget': 500.0}, {'google_budget': 700.0, 'facebook_budget': 300.0}, {'google_budget': 600.0, 'facebook_budget': 400.0}, {'google_budget': 600.0, 'facebook_budget': 400.0}, {'google_budget': 600.0, 'facebook_budget': 400.0}, {'google_budget': 200.0, 'facebook_budget': 800.0}, {'google_budget': 200.0, 'facebook_budget': 800.0}, {'google_budget': 500.0, 'facebook_budget': 500.0}, {'google_budget': 200.0, 'facebook_budget': 800.0}, {'google_budget': 900.0, 'facebook_budget': 100.0}, {'google_budget': 300.0, 'facebook_budget': 700.0}, {'google_budget': 500.0, 'facebook_budget': 500.0}, {'google_budget': 700.0, 'facebook_budget': 300.0}, {'google_budget': 300.0, 'facebook_budget': 700.0}, {'google_budget': 600.0, 'facebook_budget': 400.0}, {'google_budget': 100.0, 'facebook_budget': 900.0}, {'google_budget': 300.0, 'facebook_budget': 700.0}, {'google_budget': 500.0, 'facebook_budget': 500.0}, {'google_budget': 100.0, 'facebook_budget': 900.0}, {'google_budget': 900.0, 'facebook_budget': 100.0}, {'google_budget': 200.0, 'facebook_budget': 800.0}, {'google_budget': 500.0, 'facebook_budget': 500.0}, {'google_budget': 500.0, 'facebook_budget': 500.0}, {'google_budget': 800.0, 'facebook_budget': 200.0}, {'google_budget': 900.0, 'facebook_budget': 100.0}, {'google_budget': 600.0, 'facebook_budget': 400.0}, {'google_budget': 500.0, 'facebook_budget': 500.0}, {'google_budget': 200.0, 'facebook_budget': 800.0}, {'google_budget': 600.0, 'facebook_budget': 400.0}, {'google_budget': 1000.0, 'facebook_budget': 0.0}, {'google_budget': 700.0, 'facebook_budget': 300.0}, {'google_budget': 400.0, 'facebook_budget': 600.0}, {'google_budget': 400.0, 'facebook_budget': 600.0}, {'google_budget': 800.0, 'facebook_budget': 200.0}, {'google_budget': 400.0, 'facebook_budget': 600.0}, {'google_budget': 700.0, 'facebook_budget': 300.0}, {'google_budget': 400.0, 'facebook_budget': 600.0}, {'google_budget': 800.0, 'facebook_budget': 200.0}, {'google_budget': 300.0, 'facebook_budget': 700.0}, {'google_budget': 700.0, 'facebook_budget': 300.0}, {'google_budget': 200.0, 'facebook_budget': 800.0}, {'google_budget': 400.0, 'facebook_budget': 600.0}, {'google_budget': 600.0, 'facebook_budget': 400.0}, {'google_budget': 500.0, 'facebook_budget': 500.0}, {'google_budget': 800.0, 'facebook_budget': 200.0}, {'google_budget': 500.0, 'facebook_budget': 500.0}, {'google_budget': 600.0, 'facebook_budget': 400.0}, {'google_budget': 700.0, 'facebook_budget': 300.0}, {'google_budget': 800.0, 'facebook_budget': 200.0}, {'google_budget': 600.0, 'facebook_budget': 400.0}, {'google_budget': 1000.0, 'facebook_budget': 0.0}, {'google_budget': 300.0, 'facebook_budget': 700.0}, {'google_budget': 200.0, 'facebook_budget': 800.0}, {'google_budget': 500.0, 'facebook_budget': 500.0}, {'google_budget': 400.0, 'facebook_budget': 600.0}, {'google_budget': 800.0, 'facebook_budget': 200.0}, {'google_budget': 800.0, 'facebook_budget': 200.0}, {'google_budget': 600.0, 'facebook_budget': 400.0}, {'google_budget': 300.0, 'facebook_budget': 700.0}, {'google_budget': 400.0, 'facebook_budget': 600.0}, {'google_budget': 700.0, 'facebook_budget': 300.0}, {'google_budget': 0.0, 'facebook_budget': 1000.0}, {'google_budget': 700.0, 'facebook_budget': 300.0}, {'google_budget': 600.0, 'facebook_budget': 400.0}, {'google_budget': 100.0, 'facebook_budget': 900.0}, {'google_budget': 500.0, 'facebook_budget': 500.0}, {'google_budget': 900.0, 'facebook_budget': 100.0}, {'google_budget': 800.0, 'facebook_budget': 200.0}, {'google_budget': 600.0, 'facebook_budget': 400.0}, {'google_budget': 500.0, 'facebook_budget': 500.0}, {'google_budget': 600.0, 'facebook_budget': 400.0}, {'google_budget': 400.0, 'facebook_budget': 600.0}, {'google_budget': 800.0, 'facebook_budget': 200.0}, {'google_budget': 0.0, 'facebook_budget': 1000.0}, {'google_budget': 0.0, 'facebook_budget': 1000.0}, {'google_budget': 300.0, 'facebook_budget': 700.0}, {'google_budget': 400.0, 'facebook_budget': 600.0}, {'google_budget': 600.0, 'facebook_budget': 400.0}, {'google_budget': 100.0, 'facebook_budget': 900.0}, {'google_budget': 400.0, 'facebook_budget': 600.0}, {'google_budget': 700.0, 'facebook_budget': 300.0}, {'google_budget': 500.0, 'facebook_budget': 500.0}, {'google_budget': 500.0, 'facebook_budget': 500.0}, {'google_budget': 900.0, 'facebook_budget': 100.0}, {'google_budget': 600.0, 'facebook_budget': 400.0}, {'google_budget': 300.0, 'facebook_budget': 700.0}, {'google_budget': 400.0, 'facebook_budget': 600.0}, {'google_budget': 800.0, 'facebook_budget': 200.0}, {'google_budget': 200.0, 'facebook_budget': 800.0}, {'google_budget': 500.0, 'facebook_budget': 500.0}, {'google_budget': 700.0, 'facebook_budget': 300.0}, {'google_budget': 300.0, 'facebook_budget': 700.0}, {'google_budget': 400.0, 'facebook_budget': 600.0}, {'google_budget': 300.0, 'facebook_budget': 700.0}, {'google_budget': 200.0, 'facebook_budget': 800.0}, {'google_budget': 900.0, 'facebook_budget': 100.0}, {'google_budget': 100.0, 'facebook_budget': 900.0}, {'google_budget': 500.0, 'facebook_budget': 500.0}, {'google_budget': 1000.0, 'facebook_budget': 0.0}, {'google_budget': 800.0, 'facebook_budget': 200.0}, {'google_budget': 200.0, 'facebook_budget': 800.0}, {'google_budget': 500.0, 'facebook_budget': 500.0}, {'google_budget': 100.0, 'facebook_budget': 900.0}, {'google_budget': 900.0, 'facebook_budget': 100.0}, {'google_budget': 0.0, 'facebook_budget': 1000.0}, {'google_budget': 800.0, 'facebook_budget': 200.0}, {'google_budget': 800.0, 'facebook_budget': 200.0}, {'google_budget': 700.0, 'facebook_budget': 300.0}, {'google_budget': 900.0, 'facebook_budget': 100.0}, {'google_budget': 400.0, 'facebook_budget': 600.0}, {'google_budget': 300.0, 'facebook_budget': 700.0}, {'google_budget': 500.0, 'facebook_budget': 500.0}, {'google_budget': 700.0, 'facebook_budget': 300.0}, {'google_budget': 800.0, 'facebook_budget': 200.0}, {'google_budget': 300.0, 'facebook_budget': 700.0}, {'google_budget': 900.0, 'facebook_budget': 100.0}, {'google_budget': 400.0, 'facebook_budget': 600.0}, {'google_budget': 400.0, 'facebook_budget': 600.0}, {'google_budget': 500.0, 'facebook_budget': 500.0}, {'google_budget': 700.0, 'facebook_budget': 300.0}, {'google_budget': 200.0, 'facebook_budget': 800.0}, {'google_budget': 300.0, 'facebook_budget': 700.0}, {'google_budget': 500.0, 'facebook_budget': 500.0}, {'google_budget': 600.0, 'facebook_budget': 400.0}, {'google_budget': 200.0, 'facebook_budget': 800.0}, {'google_budget': 800.0, 'facebook_budget': 200.0}, {'google_budget': 600.0, 'facebook_budget': 400.0}, {'google_budget': 300.0, 'facebook_budget': 700.0}, {'google_budget': 200.0, 'facebook_budget': 800.0}, {'google_budget': 100.0, 'facebook_budget': 900.0}, {'google_budget': 800.0, 'facebook_budget': 200.0}, {'google_budget': 700.0, 'facebook_budget': 300.0}, {'google_budget': 500.0, 'facebook_budget': 500.0}, {'google_budget': 300.0, 'facebook_budget': 700.0}, {'google_budget': 0.0, 'facebook_budget': 1000.0}, {'google_budget': 500.0, 'facebook_budget': 500.0}, {'google_budget': 300.0, 'facebook_budget': 700.0}, {'google_budget': 900.0, 'facebook_budget': 100.0}, {'google_budget': 900.0, 'facebook_budget': 100.0}, {'google_budget': 300.0, 'facebook_budget': 700.0}, {'google_budget': 600.0, 'facebook_budget': 400.0}, {'google_budget': 600.0, 'facebook_budget': 400.0}, {'google_budget': 600.0, 'facebook_budget': 400.0}, {'google_budget': 600.0, 'facebook_budget': 400.0}, {'google_budget': 700.0, 'facebook_budget': 300.0}, {'google_budget': 500.0, 'facebook_budget': 500.0}, {'google_budget': 100.0, 'facebook_budget': 900.0}, {'google_budget': 200.0, 'facebook_budget': 800.0}, {'google_budget': 600.0, 'facebook_budget': 400.0}, {'google_budget': 800.0, 'facebook_budget': 200.0}, {'google_budget': 1000.0, 'facebook_budget': 0.0}, {'google_budget': 700.0, 'facebook_budget': 300.0}, {'google_budget': 700.0, 'facebook_budget': 300.0}, {'google_budget': 900.0, 'facebook_budget': 100.0}, {'google_budget': 300.0, 'facebook_budget': 700.0}, {'google_budget': 500.0, 'facebook_budget': 500.0}, {'google_budget': 200.0, 'facebook_budget': 800.0}, {'google_budget': 800.0, 'facebook_budget': 200.0}, {'google_budget': 100.0, 'facebook_budget': 900.0}, {'google_budget': 300.0, 'facebook_budget': 700.0}, {'google_budget': 300.0, 'facebook_budget': 700.0}, {'google_budget': 200.0, 'facebook_budget': 800.0}, {'google_budget': 100.0, 'facebook_budget': 900.0}, {'google_budget': 300.0, 'facebook_budget': 700.0}, {'google_budget': 300.0, 'facebook_budget': 700.0}, {'google_budget': 600.0, 'facebook_budget': 400.0}, {'google_budget': 500.0, 'facebook_budget': 500.0}, {'google_budget': 200.0, 'facebook_budget': 800.0}, {'google_budget': 300.0, 'facebook_budget': 700.0}, {'google_budget': 200.0, 'facebook_budget': 800.0}, {'google_budget': 400.0, 'facebook_budget': 600.0}, {'google_budget': 500.0, 'facebook_budget': 500.0}, {'google_budget': 100.0, 'facebook_budget': 900.0}, {'google_budget': 400.0, 'facebook_budget': 600.0}, {'google_budget': 500.0, 'facebook_budget': 500.0}, {'google_budget': 600.0, 'facebook_budget': 400.0}, {'google_budget': 300.0, 'facebook_budget': 700.0}, {'google_budget': 700.0, 'facebook_budget': 300.0}, {'google_budget': 600.0, 'facebook_budget': 400.0}, {'google_budget': 700.0, 'facebook_budget': 300.0}, {'google_budget': 400.0, 'facebook_budget': 600.0}, {'google_budget': 800.0, 'facebook_budget': 200.0}, {'google_budget': 100.0, 'facebook_budget': 900.0}, {'google_budget': 200.0, 'facebook_budget': 800.0}, {'google_budget': 800.0, 'facebook_budget': 200.0}, {'google_budget': 600.0, 'facebook_budget': 400.0}, {'google_budget': 700.0, 'facebook_budget': 300.0}, {'google_budget': 400.0, 'facebook_budget': 600.0}, {'google_budget': 100.0, 'facebook_budget': 900.0}, {'google_budget': 300.0, 'facebook_budget': 700.0}, {'google_budget': 300.0, 'facebook_budget': 700.0}, {'google_budget': 400.0, 'facebook_budget': 600.0}, {'google_budget': 500.0, 'facebook_budget': 500.0}, {'google_budget': 600.0, 'facebook_budget': 400.0}, {'google_budget': 500.0, 'facebook_budget': 500.0}, {'google_budget': 900.0, 'facebook_budget': 100.0}, {'google_budget': 900.0, 'facebook_budget': 100.0}, {'google_budget': 500.0, 'facebook_budget': 500.0}, {'google_budget': 800.0, 'facebook_budget': 200.0}, {'google_budget': 600.0, 'facebook_budget': 400.0}, {'google_budget': 700.0, 'facebook_budget': 300.0}, {'google_budget': 0.0, 'facebook_budget': 1000.0}, {'google_budget': 700.0, 'facebook_budget': 300.0}, {'google_budget': 500.0, 'facebook_budget': 500.0}, {'google_budget': 100.0, 'facebook_budget': 900.0}, {'google_budget': 0.0, 'facebook_budget': 1000.0}, {'google_budget': 600.0, 'facebook_budget': 400.0}, {'google_budget': 200.0, 'facebook_budget': 800.0}, {'google_budget': 900.0, 'facebook_budget': 100.0}, {'google_budget': 600.0, 'facebook_budget': 400.0}, {'google_budget': 700.0, 'facebook_budget': 300.0}, {'google_budget': 500.0, 'facebook_budget': 500.0}, {'google_budget': 500.0, 'facebook_budget': 500.0}, {'google_budget': 200.0, 'facebook_budget': 800.0}, {'google_budget': 400.0, 'facebook_budget': 600.0}, {'google_budget': 900.0, 'facebook_budget': 100.0}, {'google_budget': 200.0, 'facebook_budget': 800.0}, {'google_budget': 300.0, 'facebook_budget': 700.0}, {'google_budget': 100.0, 'facebook_budget': 900.0}, {'google_budget': 500.0, 'facebook_budget': 500.0}, {'google_budget': 700.0, 'facebook_budget': 300.0}, {'google_budget': 500.0, 'facebook_budget': 500.0}, {'google_budget': 400.0, 'facebook_budget': 600.0}, {'google_budget': 400.0, 'facebook_budget': 600.0}, {'google_budget': 1000.0, 'facebook_budget': 0.0}, {'google_budget': 500.0, 'facebook_budget': 500.0}, {'google_budget': 800.0, 'facebook_budget': 200.0}, {'google_budget': 600.0, 'facebook_budget': 400.0}, {'google_budget': 600.0, 'facebook_budget': 400.0}, {'google_budget': 700.0, 'facebook_budget': 300.0}, {'google_budget': 500.0, 'facebook_budget': 500.0}, {'google_budget': 800.0, 'facebook_budget': 200.0}, {'google_budget': 500.0, 'facebook_budget': 500.0}, {'google_budget': 700.0, 'facebook_budget': 300.0}, {'google_budget': 400.0, 'facebook_budget': 600.0}, {'google_budget': 500.0, 'facebook_budget': 500.0}, {'google_budget': 700.0, 'facebook_budget': 300.0}, {'google_budget': 500.0, 'facebook_budget': 500.0}, {'google_budget': 300.0, 'facebook_budget': 700.0}, {'google_budget': 900.0, 'facebook_budget': 100.0}, {'google_budget': 800.0, 'facebook_budget': 200.0}, {'google_budget': 400.0, 'facebook_budget': 600.0}, {'google_budget': 400.0, 'facebook_budget': 600.0}, {'google_budget': 600.0, 'facebook_budget': 400.0}, {'google_budget': 600.0, 'facebook_budget': 400.0}, {'google_budget': 600.0, 'facebook_budget': 400.0}, {'google_budget': 1000.0, 'facebook_budget': 0.0}, {'google_budget': 300.0, 'facebook_budget': 700.0}, {'google_budget': 300.0, 'facebook_budget': 700.0}, {'google_budget': 300.0, 'facebook_budget': 700.0}, {'google_budget': 200.0, 'facebook_budget': 800.0}, {'google_budget': 800.0, 'facebook_budget': 200.0}, {'google_budget': 600.0, 'facebook_budget': 400.0}, {'google_budget': 500.0, 'facebook_budget': 500.0}, {'google_budget': 600.0, 'facebook_budget': 400.0}, {'google_budget': 300.0, 'facebook_budget': 700.0}, {'google_budget': 400.0, 'facebook_budget': 600.0}, {'google_budget': 400.0, 'facebook_budget': 600.0}, {'google_budget': 600.0, 'facebook_budget': 400.0}, {'google_budget': 500.0, 'facebook_budget': 500.0}, {'google_budget': 700.0, 'facebook_budget': 300.0}, {'google_budget': 700.0, 'facebook_budget': 300.0}, {'google_budget': 200.0, 'facebook_budget': 800.0}, {'google_budget': 900.0, 'facebook_budget': 100.0}, {'google_budget': 300.0, 'facebook_budget': 700.0}, {'google_budget': 800.0, 'facebook_budget': 200.0}, {'google_budget': 800.0, 'facebook_budget': 200.0}, {'google_budget': 0.0, 'facebook_budget': 1000.0}, {'google_budget': 1000.0, 'facebook_budget': 0.0}, {'google_budget': 300.0, 'facebook_budget': 700.0}, {'google_budget': 700.0, 'facebook_budget': 300.0}, {'google_budget': 400.0, 'facebook_budget': 600.0}, {'google_budget': 800.0, 'facebook_budget': 200.0}, {'google_budget': 700.0, 'facebook_budget': 300.0}, {'google_budget': 500.0, 'facebook_budget': 500.0}, {'google_budget': 700.0, 'facebook_budget': 300.0}, {'google_budget': 100.0, 'facebook_budget': 900.0}, {'google_budget': 400.0, 'facebook_budget': 600.0}, {'google_budget': 600.0, 'facebook_budget': 400.0}, {'google_budget': 800.0, 'facebook_budget': 200.0}, {'google_budget': 1000.0, 'facebook_budget': 0.0}, {'google_budget': 600.0, 'facebook_budget': 400.0}, {'google_budget': 500.0, 'facebook_budget': 500.0}, {'google_budget': 800.0, 'facebook_budget': 200.0}, {'google_budget': 100.0, 'facebook_budget': 900.0}, {'google_budget': 600.0, 'facebook_budget': 400.0}, {'google_budget': 1000.0, 'facebook_budget': 0.0}, {'google_budget': 600.0, 'facebook_budget': 400.0}, {'google_budget': 100.0, 'facebook_budget': 900.0}, {'google_budget': 700.0, 'facebook_budget': 300.0}, {'google_budget': 400.0, 'facebook_budget': 600.0}, {'google_budget': 400.0, 'facebook_budget': 600.0}, {'google_budget': 600.0, 'facebook_budget': 400.0}, {'google_budget': 200.0, 'facebook_budget': 800.0}, {'google_budget': 300.0, 'facebook_budget': 700.0}, {'google_budget': 500.0, 'facebook_budget': 500.0}, {'google_budget': 400.0, 'facebook_budget': 600.0}, {'google_budget': 500.0, 'facebook_budget': 500.0}, {'google_budget': 200.0, 'facebook_budget': 800.0}, {'google_budget': 500.0, 'facebook_budget': 500.0}, {'google_budget': 500.0, 'facebook_budget': 500.0}, {'google_budget': 500.0, 'facebook_budget': 500.0}, {'google_budget': 800.0, 'facebook_budget': 200.0}, {'google_budget': 600.0, 'facebook_budget': 400.0}, {'google_budget': 500.0, 'facebook_budget': 500.0}, {'google_budget': 600.0, 'facebook_budget': 400.0}, {'google_budget': 500.0, 'facebook_budget': 500.0}, {'google_budget': 1000.0, 'facebook_budget': 0.0}, {'google_budget': 500.0, 'facebook_budget': 500.0}, {'google_budget': 400.0, 'facebook_budget': 600.0}, {'google_budget': 100.0, 'facebook_budget': 900.0}, {'google_budget': 200.0, 'facebook_budget': 800.0}, {'google_budget': 700.0, 'facebook_budget': 300.0}, {'google_budget': 600.0, 'facebook_budget': 400.0}, {'google_budget': 700.0, 'facebook_budget': 300.0}, {'google_budget': 600.0, 'facebook_budget': 400.0}, {'google_budget': 600.0, 'facebook_budget': 400.0}, {'google_budget': 800.0, 'facebook_budget': 200.0}, {'google_budget': 300.0, 'facebook_budget': 700.0}, {'google_budget': 600.0, 'facebook_budget': 400.0}, {'google_budget': 700.0, 'facebook_budget': 300.0}, {'google_budget': 100.0, 'facebook_budget': 900.0}, {'google_budget': 500.0, 'facebook_budget': 500.0}, {'google_budget': 1000.0, 'facebook_budget': 0.0}, {'google_budget': 500.0, 'facebook_budget': 500.0}, {'google_budget': 100.0, 'facebook_budget': 900.0}, {'google_budget': 800.0, 'facebook_budget': 200.0}, {'google_budget': 800.0, 'facebook_budget': 200.0}, {'google_budget': 300.0, 'facebook_budget': 700.0}, {'google_budget': 0.0, 'facebook_budget': 1000.0}, {'google_budget': 1000.0, 'facebook_budget': 0.0}, {'google_budget': 200.0, 'facebook_budget': 800.0}, {'google_budget': 600.0, 'facebook_budget': 400.0}, {'google_budget': 700.0, 'facebook_budget': 300.0}, {'google_budget': 400.0, 'facebook_budget': 600.0}, {'google_budget': 200.0, 'facebook_budget': 800.0}, {'google_budget': 700.0, 'facebook_budget': 300.0}, {'google_budget': 900.0, 'facebook_budget': 100.0}, {'google_budget': 700.0, 'facebook_budget': 300.0}, {'google_budget': 300.0, 'facebook_budget': 700.0}, {'google_budget': 300.0, 'facebook_budget': 700.0}, {'google_budget': 700.0, 'facebook_budget': 300.0}, {'google_budget': 300.0, 'facebook_budget': 700.0}, {'google_budget': 100.0, 'facebook_budget': 900.0}, {'google_budget': 600.0, 'facebook_budget': 400.0}, {'google_budget': 100.0, 'facebook_budget': 900.0}, {'google_budget': 200.0, 'facebook_budget': 800.0}, {'google_budget': 500.0, 'facebook_budget': 500.0}, {'google_budget': 400.0, 'facebook_budget': 600.0}, {'google_budget': 400.0, 'facebook_budget': 600.0}, {'google_budget': 100.0, 'facebook_budget': 900.0}, {'google_budget': 200.0, 'facebook_budget': 800.0}, {'google_budget': 300.0, 'facebook_budget': 700.0}, {'google_budget': 300.0, 'facebook_budget': 700.0}, {'google_budget': 300.0, 'facebook_budget': 700.0}, {'google_budget': 600.0, 'facebook_budget': 400.0}, {'google_budget': 500.0, 'facebook_budget': 500.0}, {'google_budget': 400.0, 'facebook_budget': 600.0}, {'google_budget': 500.0, 'facebook_budget': 500.0}, {'google_budget': 300.0, 'facebook_budget': 700.0}, {'google_budget': 0.0, 'facebook_budget': 1000.0}, {'google_budget': 600.0, 'facebook_budget': 400.0}, {'google_budget': 300.0, 'facebook_budget': 700.0}, {'google_budget': 600.0, 'facebook_budget': 400.0}, {'google_budget': 800.0, 'facebook_budget': 200.0}, {'google_budget': 1000.0, 'facebook_budget': 0.0}, {'google_budget': 500.0, 'facebook_budget': 500.0}, {'google_budget': 800.0, 'facebook_budget': 200.0}, {'google_budget': 600.0, 'facebook_budget': 400.0}, {'google_budget': 100.0, 'facebook_budget': 900.0}, {'google_budget': 800.0, 'facebook_budget': 200.0}, {'google_budget': 800.0, 'facebook_budget': 200.0}, {'google_budget': 200.0, 'facebook_budget': 800.0}, {'google_budget': 500.0, 'facebook_budget': 500.0}, {'google_budget': 600.0, 'facebook_budget': 400.0}, {'google_budget': 200.0, 'facebook_budget': 800.0}, {'google_budget': 500.0, 'facebook_budget': 500.0}, {'google_budget': 500.0, 'facebook_budget': 500.0}, {'google_budget': 800.0, 'facebook_budget': 200.0}, {'google_budget': 1000.0, 'facebook_budget': 0.0}, {'google_budget': 200.0, 'facebook_budget': 800.0}, {'google_budget': 400.0, 'facebook_budget': 600.0}, {'google_budget': 800.0, 'facebook_budget': 200.0}, {'google_budget': 300.0, 'facebook_budget': 700.0}, {'google_budget': 100.0, 'facebook_budget': 900.0}, {'google_budget': 400.0, 'facebook_budget': 600.0}, {'google_budget': 700.0, 'facebook_budget': 300.0}, {'google_budget': 400.0, 'facebook_budget': 600.0}, {'google_budget': 300.0, 'facebook_budget': 700.0}, {'google_budget': 500.0, 'facebook_budget': 500.0}, {'google_budget': 300.0, 'facebook_budget': 700.0}, {'google_budget': 700.0, 'facebook_budget': 300.0}, {'google_budget': 500.0, 'facebook_budget': 500.0}, {'google_budget': 300.0, 'facebook_budget': 700.0}, {'google_budget': 500.0, 'facebook_budget': 500.0}, {'google_budget': 500.0, 'facebook_budget': 500.0}, {'google_budget': 700.0, 'facebook_budget': 300.0}, {'google_budget': 300.0, 'facebook_budget': 700.0}, {'google_budget': 500.0, 'facebook_budget': 500.0}, {'google_budget': 100.0, 'facebook_budget': 900.0}, {'google_budget': 700.0, 'facebook_budget': 300.0}, {'google_budget': 800.0, 'facebook_budget': 200.0}, {'google_budget': 600.0, 'facebook_budget': 400.0}, {'google_budget': 700.0, 'facebook_budget': 300.0}, {'google_budget': 900.0, 'facebook_budget': 100.0}, {'google_budget': 600.0, 'facebook_budget': 400.0}, {'google_budget': 600.0, 'facebook_budget': 400.0}, {'google_budget': 600.0, 'facebook_budget': 400.0}, {'google_budget': 700.0, 'facebook_budget': 300.0}, {'google_budget': 400.0, 'facebook_budget': 600.0}, {'google_budget': 900.0, 'facebook_budget': 100.0}, {'google_budget': 500.0, 'facebook_budget': 500.0}, {'google_budget': 700.0, 'facebook_budget': 300.0}, {'google_budget': 900.0, 'facebook_budget': 100.0}, {'google_budget': 200.0, 'facebook_budget': 800.0}, {'google_budget': 400.0, 'facebook_budget': 600.0}, {'google_budget': 500.0, 'facebook_budget': 500.0}, {'google_budget': 300.0, 'facebook_budget': 700.0}, {'google_budget': 700.0, 'facebook_budget': 300.0}, {'google_budget': 900.0, 'facebook_budget': 100.0}, {'google_budget': 800.0, 'facebook_budget': 200.0}, {'google_budget': 600.0, 'facebook_budget': 400.0}, {'google_budget': 400.0, 'facebook_budget': 600.0}, {'google_budget': 200.0, 'facebook_budget': 800.0}, {'google_budget': 300.0, 'facebook_budget': 700.0}, {'google_budget': 300.0, 'facebook_budget': 700.0}, {'google_budget': 600.0, 'facebook_budget': 400.0}, {'google_budget': 300.0, 'facebook_budget': 700.0}, {'google_budget': 900.0, 'facebook_budget': 100.0}, {'google_budget': 200.0, 'facebook_budget': 800.0}, {'google_budget': 800.0, 'facebook_budget': 200.0}, {'google_budget': 300.0, 'facebook_budget': 700.0}, {'google_budget': 100.0, 'facebook_budget': 900.0}, {'google_budget': 200.0, 'facebook_budget': 800.0}, {'google_budget': 0.0, 'facebook_budget': 1000.0}, {'google_budget': 600.0, 'facebook_budget': 400.0}, {'google_budget': 900.0, 'facebook_budget': 100.0}, {'google_budget': 700.0, 'facebook_budget': 300.0}, {'google_budget': 600.0, 'facebook_budget': 400.0}, {'google_budget': 800.0, 'facebook_budget': 200.0}, {'google_budget': 700.0, 'facebook_budget': 300.0}, {'google_budget': 500.0, 'facebook_budget': 500.0}, {'google_budget': 700.0, 'facebook_budget': 300.0}, {'google_budget': 400.0, 'facebook_budget': 600.0}, {'google_budget': 500.0, 'facebook_budget': 500.0}, {'google_budget': 600.0, 'facebook_budget': 400.0}, {'google_budget': 1000.0, 'facebook_budget': 0.0}, {'google_budget': 800.0, 'facebook_budget': 200.0}, {'google_budget': 300.0, 'facebook_budget': 700.0}, {'google_budget': 300.0, 'facebook_budget': 700.0}, {'google_budget': 700.0, 'facebook_budget': 300.0}, {'google_budget': 600.0, 'facebook_budget': 400.0}, {'google_budget': 400.0, 'facebook_budget': 600.0}, {'google_budget': 600.0, 'facebook_budget': 400.0}, {'google_budget': 400.0, 'facebook_budget': 600.0}, {'google_budget': 800.0, 'facebook_budget': 200.0}, {'google_budget': 600.0, 'facebook_budget': 400.0}, {'google_budget': 400.0, 'facebook_budget': 600.0}, {'google_budget': 700.0, 'facebook_budget': 300.0}, {'google_budget': 200.0, 'facebook_budget': 800.0}, {'google_budget': 700.0, 'facebook_budget': 300.0}, {'google_budget': 1000.0, 'facebook_budget': 0.0}, {'google_budget': 800.0, 'facebook_budget': 200.0}, {'google_budget': 800.0, 'facebook_budget': 200.0}, {'google_budget': 600.0, 'facebook_budget': 400.0}, {'google_budget': 900.0, 'facebook_budget': 100.0}, {'google_budget': 400.0, 'facebook_budget': 600.0}, {'google_budget': 100.0, 'facebook_budget': 900.0}, {'google_budget': 800.0, 'facebook_budget': 200.0}, {'google_budget': 500.0, 'facebook_budget': 500.0}, {'google_budget': 500.0, 'facebook_budget': 500.0}, {'google_budget': 700.0, 'facebook_budget': 300.0}, {'google_budget': 600.0, 'facebook_budget': 400.0}, {'google_budget': 300.0, 'facebook_budget': 700.0}, {'google_budget': 300.0, 'facebook_budget': 700.0}, {'google_budget': 700.0, 'facebook_budget': 300.0}, {'google_budget': 400.0, 'facebook_budget': 600.0}, {'google_budget': 500.0, 'facebook_budget': 500.0}, {'google_budget': 500.0, 'facebook_budget': 500.0}, {'google_budget': 700.0, 'facebook_budget': 300.0}, {'google_budget': 700.0, 'facebook_budget': 300.0}, {'google_budget': 400.0, 'facebook_budget': 600.0}, {'google_budget': 600.0, 'facebook_budget': 400.0}, {'google_budget': 200.0, 'facebook_budget': 800.0}, {'google_budget': 700.0, 'facebook_budget': 300.0}, {'google_budget': 1000.0, 'facebook_budget': 0.0}, {'google_budget': 700.0, 'facebook_budget': 300.0}, {'google_budget': 500.0, 'facebook_budget': 500.0}, {'google_budget': 500.0, 'facebook_budget': 500.0}, {'google_budget': 400.0, 'facebook_budget': 600.0}, {'google_budget': 600.0, 'facebook_budget': 400.0}, {'google_budget': 300.0, 'facebook_budget': 700.0}, {'google_budget': 700.0, 'facebook_budget': 300.0}, {'google_budget': 900.0, 'facebook_budget': 100.0}, {'google_budget': 900.0, 'facebook_budget': 100.0}, {'google_budget': 500.0, 'facebook_budget': 500.0}, {'google_budget': 200.0, 'facebook_budget': 800.0}, {'google_budget': 1000.0, 'facebook_budget': 0.0}, {'google_budget': 800.0, 'facebook_budget': 200.0}, {'google_budget': 100.0, 'facebook_budget': 900.0}, {'google_budget': 500.0, 'facebook_budget': 500.0}, {'google_budget': 600.0, 'facebook_budget': 400.0}, {'google_budget': 600.0, 'facebook_budget': 400.0}, {'google_budget': 500.0, 'facebook_budget': 500.0}, {'google_budget': 500.0, 'facebook_budget': 500.0}, {'google_budget': 500.0, 'facebook_budget': 500.0}, {'google_budget': 600.0, 'facebook_budget': 400.0}, {'google_budget': 1000.0, 'facebook_budget': 0.0}, {'google_budget': 700.0, 'facebook_budget': 300.0}, {'google_budget': 600.0, 'facebook_budget': 400.0}, {'google_budget': 500.0, 'facebook_budget': 500.0}, {'google_budget': 600.0, 'facebook_budget': 400.0}, {'google_budget': 1000.0, 'facebook_budget': 0.0}, {'google_budget': 100.0, 'facebook_budget': 900.0}, {'google_budget': 800.0, 'facebook_budget': 200.0}, {'google_budget': 900.0, 'facebook_budget': 100.0}, {'google_budget': 600.0, 'facebook_budget': 400.0}, {'google_budget': 300.0, 'facebook_budget': 700.0}, {'google_budget': 1000.0, 'facebook_budget': 0.0}, {'google_budget': 600.0, 'facebook_budget': 400.0}, {'google_budget': 100.0, 'facebook_budget': 900.0}, {'google_budget': 400.0, 'facebook_budget': 600.0}, {'google_budget': 700.0, 'facebook_budget': 300.0}, {'google_budget': 800.0, 'facebook_budget': 200.0}, {'google_budget': 100.0, 'facebook_budget': 900.0}, {'google_budget': 800.0, 'facebook_budget': 200.0}, {'google_budget': 300.0, 'facebook_budget': 700.0}, {'google_budget': 700.0, 'facebook_budget': 300.0}, {'google_budget': 800.0, 'facebook_budget': 200.0}, {'google_budget': 1000.0, 'facebook_budget': 0.0}, {'google_budget': 500.0, 'facebook_budget': 500.0}, {'google_budget': 100.0, 'facebook_budget': 900.0}, {'google_budget': 600.0, 'facebook_budget': 400.0}, {'google_budget': 100.0, 'facebook_budget': 900.0}, {'google_budget': 700.0, 'facebook_budget': 300.0}, {'google_budget': 500.0, 'facebook_budget': 500.0}, {'google_budget': 600.0, 'facebook_budget': 400.0}, {'google_budget': 100.0, 'facebook_budget': 900.0}, {'google_budget': 300.0, 'facebook_budget': 700.0}, {'google_budget': 600.0, 'facebook_budget': 400.0}, {'google_budget': 700.0, 'facebook_budget': 300.0}, {'google_budget': 700.0, 'facebook_budget': 300.0}, {'google_budget': 600.0, 'facebook_budget': 400.0}, {'google_budget': 400.0, 'facebook_budget': 600.0}, {'google_budget': 300.0, 'facebook_budget': 700.0}, {'google_budget': 300.0, 'facebook_budget': 700.0}, {'google_budget': 500.0, 'facebook_budget': 500.0}, {'google_budget': 100.0, 'facebook_budget': 900.0}, {'google_budget': 300.0, 'facebook_budget': 700.0}, {'google_budget': 900.0, 'facebook_budget': 100.0}, {'google_budget': 200.0, 'facebook_budget': 800.0}, {'google_budget': 700.0, 'facebook_budget': 300.0}, {'google_budget': 600.0, 'facebook_budget': 400.0}, {'google_budget': 200.0, 'facebook_budget': 800.0}, {'google_budget': 600.0, 'facebook_budget': 400.0}, {'google_budget': 600.0, 'facebook_budget': 400.0}, {'google_budget': 700.0, 'facebook_budget': 300.0}, {'google_budget': 300.0, 'facebook_budget': 700.0}, {'google_budget': 600.0, 'facebook_budget': 400.0}, {'google_budget': 500.0, 'facebook_budget': 500.0}, {'google_budget': 800.0, 'facebook_budget': 200.0}, {'google_budget': 200.0, 'facebook_budget': 800.0}, {'google_budget': 800.0, 'facebook_budget': 200.0}, {'google_budget': 900.0, 'facebook_budget': 100.0}, {'google_budget': 300.0, 'facebook_budget': 700.0}, {'google_budget': 600.0, 'facebook_budget': 400.0}, {'google_budget': 600.0, 'facebook_budget': 400.0}, {'google_budget': 1000.0, 'facebook_budget': 0.0}, {'google_budget': 800.0, 'facebook_budget': 200.0}, {'google_budget': 200.0, 'facebook_budget': 800.0}, {'google_budget': 700.0, 'facebook_budget': 300.0}, {'google_budget': 500.0, 'facebook_budget': 500.0}, {'google_budget': 1000.0, 'facebook_budget': 0.0}, {'google_budget': 300.0, 'facebook_budget': 700.0}, {'google_budget': 200.0, 'facebook_budget': 800.0}, {'google_budget': 400.0, 'facebook_budget': 600.0}, {'google_budget': 500.0, 'facebook_budget': 500.0}, {'google_budget': 400.0, 'facebook_budget': 600.0}, {'google_budget': 300.0, 'facebook_budget': 700.0}, {'google_budget': 100.0, 'facebook_budget': 900.0}, {'google_budget': 0.0, 'facebook_budget': 1000.0}, {'google_budget': 800.0, 'facebook_budget': 200.0}, {'google_budget': 800.0, 'facebook_budget': 200.0}, {'google_budget': 200.0, 'facebook_budget': 800.0}, {'google_budget': 800.0, 'facebook_budget': 200.0}, {'google_budget': 900.0, 'facebook_budget': 100.0}, {'google_budget': 400.0, 'facebook_budget': 600.0}, {'google_budget': 600.0, 'facebook_budget': 400.0}, {'google_budget': 1000.0, 'facebook_budget': 0.0}, {'google_budget': 100.0, 'facebook_budget': 900.0}, {'google_budget': 800.0, 'facebook_budget': 200.0}, {'google_budget': 500.0, 'facebook_budget': 500.0}, {'google_budget': 600.0, 'facebook_budget': 400.0}, {'google_budget': 800.0, 'facebook_budget': 200.0}, {'google_budget': 400.0, 'facebook_budget': 600.0}, {'google_budget': 500.0, 'facebook_budget': 500.0}, {'google_budget': 500.0, 'facebook_budget': 500.0}, {'google_budget': 800.0, 'facebook_budget': 200.0}, {'google_budget': 600.0, 'facebook_budget': 400.0}, {'google_budget': 300.0, 'facebook_budget': 700.0}, {'google_budget': 800.0, 'facebook_budget': 200.0}, {'google_budget': 100.0, 'facebook_budget': 900.0}, {'google_budget': 500.0, 'facebook_budget': 500.0}, {'google_budget': 200.0, 'facebook_budget': 800.0}, {'google_budget': 800.0, 'facebook_budget': 200.0}, {'google_budget': 0.0, 'facebook_budget': 1000.0}, {'google_budget': 300.0, 'facebook_budget': 700.0}, {'google_budget': 900.0, 'facebook_budget': 100.0}, {'google_budget': 1000.0, 'facebook_budget': 0.0}, {'google_budget': 400.0, 'facebook_budget': 600.0}, {'google_budget': 500.0, 'facebook_budget': 500.0}, {'google_budget': 800.0, 'facebook_budget': 200.0}, {'google_budget': 200.0, 'facebook_budget': 800.0}, {'google_budget': 700.0, 'facebook_budget': 300.0}, {'google_budget': 800.0, 'facebook_budget': 200.0}, {'google_budget': 800.0, 'facebook_budget': 200.0}, {'google_budget': 400.0, 'facebook_budget': 600.0}, {'google_budget': 400.0, 'facebook_budget': 600.0}, {'google_budget': 900.0, 'facebook_budget': 100.0}, {'google_budget': 400.0, 'facebook_budget': 600.0}, {'google_budget': 800.0, 'facebook_budget': 200.0}, {'google_budget': 700.0, 'facebook_budget': 300.0}, {'google_budget': 600.0, 'facebook_budget': 400.0}, {'google_budget': 500.0, 'facebook_budget': 500.0}, {'google_budget': 500.0, 'facebook_budget': 500.0}, {'google_budget': 700.0, 'facebook_budget': 300.0}, {'google_budget': 600.0, 'facebook_budget': 400.0}, {'google_budget': 500.0, 'facebook_budget': 500.0}, {'google_budget': 100.0, 'facebook_budget': 900.0}, {'google_budget': 900.0, 'facebook_budget': 100.0}, {'google_budget': 900.0, 'facebook_budget': 100.0}, {'google_budget': 800.0, 'facebook_budget': 200.0}, {'google_budget': 1000.0, 'facebook_budget': 0.0}, {'google_budget': 600.0, 'facebook_budget': 400.0}, {'google_budget': 700.0, 'facebook_budget': 300.0}, {'google_budget': 900.0, 'facebook_budget': 100.0}, {'google_budget': 600.0, 'facebook_budget': 400.0}, {'google_budget': 700.0, 'facebook_budget': 300.0}, {'google_budget': 800.0, 'facebook_budget': 200.0}, {'google_budget': 800.0, 'facebook_budget': 200.0}, {'google_budget': 400.0, 'facebook_budget': 600.0}, {'google_budget': 500.0, 'facebook_budget': 500.0}, {'google_budget': 600.0, 'facebook_budget': 400.0}, {'google_budget': 500.0, 'facebook_budget': 500.0}, {'google_budget': 700.0, 'facebook_budget': 300.0}, {'google_budget': 400.0, 'facebook_budget': 600.0}, {'google_budget': 900.0, 'facebook_budget': 100.0}, {'google_budget': 700.0, 'facebook_budget': 300.0}, {'google_budget': 0.0, 'facebook_budget': 1000.0}, {'google_budget': 0.0, 'facebook_budget': 1000.0}, {'google_budget': 500.0, 'facebook_budget': 500.0}, {'google_budget': 500.0, 'facebook_budget': 500.0}, {'google_budget': 500.0, 'facebook_budget': 500.0}, {'google_budget': 600.0, 'facebook_budget': 400.0}, {'google_budget': 900.0, 'facebook_budget': 100.0}, {'google_budget': 200.0, 'facebook_budget': 800.0}, {'google_budget': 300.0, 'facebook_budget': 700.0}, {'google_budget': 300.0, 'facebook_budget': 700.0}, {'google_budget': 600.0, 'facebook_budget': 400.0}, {'google_budget': 500.0, 'facebook_budget': 500.0}, {'google_budget': 200.0, 'facebook_budget': 800.0}, {'google_budget': 600.0, 'facebook_budget': 400.0}, {'google_budget': 800.0, 'facebook_budget': 200.0}, {'google_budget': 1000.0, 'facebook_budget': 0.0}, {'google_budget': 700.0, 'facebook_budget': 300.0}, {'google_budget': 200.0, 'facebook_budget': 800.0}, {'google_budget': 400.0, 'facebook_budget': 600.0}, {'google_budget': 100.0, 'facebook_budget': 900.0}, {'google_budget': 800.0, 'facebook_budget': 200.0}, {'google_budget': 900.0, 'facebook_budget': 100.0}, {'google_budget': 400.0, 'facebook_budget': 600.0}, {'google_budget': 500.0, 'facebook_budget': 500.0}, {'google_budget': 300.0, 'facebook_budget': 700.0}, {'google_budget': 400.0, 'facebook_budget': 600.0}, {'google_budget': 200.0, 'facebook_budget': 800.0}, {'google_budget': 100.0, 'facebook_budget': 900.0}, {'google_budget': 100.0, 'facebook_budget': 900.0}, {'google_budget': 600.0, 'facebook_budget': 400.0}, {'google_budget': 400.0, 'facebook_budget': 600.0}, {'google_budget': 700.0, 'facebook_budget': 300.0}, {'google_budget': 700.0, 'facebook_budget': 300.0}, {'google_budget': 0.0, 'facebook_budget': 1000.0}, {'google_budget': 500.0, 'facebook_budget': 500.0}, {'google_budget': 500.0, 'facebook_budget': 500.0}, {'google_budget': 400.0, 'facebook_budget': 600.0}, {'google_budget': 500.0, 'facebook_budget': 500.0}, {'google_budget': 200.0, 'facebook_budget': 800.0}, {'google_budget': 300.0, 'facebook_budget': 700.0}, {'google_budget': 700.0, 'facebook_budget': 300.0}, {'google_budget': 600.0, 'facebook_budget': 400.0}, {'google_budget': 700.0, 'facebook_budget': 300.0}, {'google_budget': 500.0, 'facebook_budget': 500.0}, {'google_budget': 300.0, 'facebook_budget': 700.0}, {'google_budget': 600.0, 'facebook_budget': 400.0}, {'google_budget': 600.0, 'facebook_budget': 400.0}, {'google_budget': 900.0, 'facebook_budget': 100.0}, {'google_budget': 600.0, 'facebook_budget': 400.0}, {'google_budget': 800.0, 'facebook_budget': 200.0}, {'google_budget': 300.0, 'facebook_budget': 700.0}, {'google_budget': 600.0, 'facebook_budget': 400.0}, {'google_budget': 600.0, 'facebook_budget': 400.0}, {'google_budget': 500.0, 'facebook_budget': 500.0}, {'google_budget': 300.0, 'facebook_budget': 700.0}, {'google_budget': 700.0, 'facebook_budget': 300.0}, {'google_budget': 900.0, 'facebook_budget': 100.0}, {'google_budget': 400.0, 'facebook_budget': 600.0}, {'google_budget': 600.0, 'facebook_budget': 400.0}, {'google_budget': 700.0, 'facebook_budget': 300.0}, {'google_budget': 700.0, 'facebook_budget': 300.0}]\n"
     ]
    }
   ],
   "source": [
    "print(aicon.brain.action_space.raw_print()) "
   ]
  },
  {
   "cell_type": "markdown",
   "metadata": {},
   "source": [
    "### Defining Utility Function"
   ]
  },
  {
   "cell_type": "code",
   "execution_count": 5,
   "metadata": {},
   "outputs": [
    {
     "name": "stdout",
     "output_type": "stream",
     "text": [
      "\n",
      "Utility Function: LinearUtility: Σ(weights * values) where weights = [tf.Tensor(0.6, shape=(), dtype=float32), tf.Tensor(0.4, shape=(), dtype=float32)]\n"
     ]
    }
   ],
   "source": [
    "utility = aicon.define_utility_function(\n",
    "    utility_type='linear',\n",
    "    name=\"Marketing Budget Utility\",\n",
    "    weights={'google': 0.6, 'facebook': 0.4}\n",
    ")"
   ]
  },
  {
   "cell_type": "markdown",
   "metadata": {},
   "source": [
    "### Defining State Rep State"
   ]
  },
  {
   "cell_type": "code",
   "execution_count": 6,
   "metadata": {},
   "outputs": [
    {
     "data": {
      "text/plain": [
       "DiscreteLatentVariable(name='num_competitors', value=5, description='')"
      ]
     },
     "execution_count": 6,
     "metadata": {},
     "output_type": "execute_result"
    }
   ],
   "source": [
    "# Add root factors (with empty relationships)\n",
    "aicon.add_state_factor(\n",
    "    name=\"market_size\",\n",
    "    factor_type=\"continuous\",\n",
    "    value=10000.0,\n",
    "    params={\n",
    "        \"loc\": 10000.0,\n",
    "        \"scale\": 1000.0,\n",
    "        \"constraints\": {\"lower\": 0}\n",
    "    },\n",
    "    relationships={\n",
    "        \"depends_on\": []  # Empty list for root factor\n",
    "    }\n",
    ")\n",
    "\n",
    "aicon.add_state_factor(\n",
    "    name=\"competition_level\",\n",
    "    factor_type=\"categorical\",\n",
    "    value=\"medium\",\n",
    "    params={\n",
    "        \"categories\": [\"low\", \"medium\", \"high\"],\n",
    "        \"probs\": [0.2, 0.5, 0.3]\n",
    "    },\n",
    "    relationships={\n",
    "        \"depends_on\": []  # Empty list for root factor\n",
    "    }\n",
    ")\n",
    "\n",
    "# Add dependent factors\n",
    "aicon.add_state_factor(\n",
    "    name=\"conversion_rate\",\n",
    "    factor_type=\"continuous\",\n",
    "    value=0.02,\n",
    "    params={\n",
    "        \"loc\": 0.02,\n",
    "        \"scale\": 0.005,\n",
    "        \"constraints\": {\"lower\": 0, \"upper\": 1}\n",
    "    },\n",
    "    relationships={\n",
    "        \"depends_on\": [\"market_size\", \"competition_level\"]\n",
    "    }\n",
    ")\n",
    "\n",
    "aicon.add_state_factor(\n",
    "    name=\"customer_acquisition_cost\",\n",
    "    factor_type=\"continuous\",\n",
    "    value=50.0,\n",
    "    params={\n",
    "        \"loc\": 50.0,\n",
    "        \"scale\": 10.0,\n",
    "        \"constraints\": {\"lower\": 0}\n",
    "    },\n",
    "    relationships={\n",
    "        \"depends_on\": [\"competition_level\"]\n",
    "    }\n",
    ")\n",
    "\n",
    "# Add a discrete factor for number of competitors\n",
    "aicon.add_state_factor(\n",
    "    name=\"num_competitors\",\n",
    "    factor_type=\"discrete\",\n",
    "    value=5,\n",
    "    params={\n",
    "        \"rate\": 5.0  # Poisson distribution parameter\n",
    "    },\n",
    "    relationships={\n",
    "        \"depends_on\": []  # Empty list for root factor\n",
    "    }\n",
    ")"
   ]
  },
  {
   "cell_type": "code",
   "execution_count": 7,
   "metadata": {},
   "outputs": [
    {
     "name": "stdout",
     "output_type": "stream",
     "text": [
      "State Representation:\n",
      "market_size: 10000.00 (constraints: {'lower': 0}) (uncertainty: 1000.00)\n",
      "competition_level: medium (probs: {'low': 0.2, 'medium': 0.5, 'high': 0.3})\n",
      "conversion_rate: 0.02 (constraints: {'lower': 0, 'upper': 1}) (uncertainty: 0.01)\n",
      "customer_acquisition_cost: 50.00 (constraints: {'lower': 0}) (uncertainty: 10.00)\n",
      "num_competitors: 5 (Poisson rate: 5.0)\n",
      "\n",
      "Factor Relationships:\n",
      "\n",
      "market_size:\n",
      "  Root factor (no dependencies)\n",
      "\n",
      "competition_level:\n",
      "  Root factor (no dependencies)\n",
      "\n",
      "conversion_rate:\n",
      "  Depends on: ['market_size', 'competition_level']\n",
      "\n",
      "customer_acquisition_cost:\n",
      "  Depends on: ['competition_level']\n",
      "\n",
      "num_competitors:\n",
      "  Root factor (no dependencies)\n",
      "\n"
     ]
    }
   ],
   "source": [
    "print(aicon.brain.state)"
   ]
  },
  {
   "cell_type": "markdown",
   "metadata": {},
   "source": [
    "### Perception"
   ]
  },
  {
   "cell_type": "code",
   "execution_count": 7,
   "metadata": {},
   "outputs": [
    {
     "name": "stdout",
     "output_type": "stream",
     "text": [
      "Current state before update:\n",
      "{'base_conversion_rate': 0.05, 'primary_channel': 'google'}\n"
     ]
    }
   ],
   "source": [
    "# Try to update beliefs without any sensors\n",
    "print(\"Current state before update:\")\n",
    "print(aicon.get_state())"
   ]
  },
  {
   "cell_type": "markdown",
   "metadata": {},
   "source": [
    "## Sensors"
   ]
  },
  {
   "cell_type": "code",
   "execution_count": 1,
   "metadata": {},
   "outputs": [],
   "source": [
    "import sys\n",
    "import os\n",
    "import numpy as np\n",
    "from pathlib import Path\n",
    "from datetime import datetime\n",
    "import importlib  # For reloading modules during testing\n",
    "\n",
    "# Add parent directory to path for imports\n",
    "notebook_dir = Path.cwd()\n",
    "project_root = notebook_dir.parent\n",
    "sys.path.append(str(project_root))\n",
    "\n",
    "# Import all necessary modules first\n",
    "import aicons.bayesbrainGPT.bayes_brain_ref\n",
    "import aicons.bayesbrainGPT.utility_function.utility_base\n",
    "import aicons.bayesbrainGPT.utility_function.linear_utility\n",
    "import aicons.bayesbrainGPT.utility_function\n",
    "import aicons.definitions.aicon\n",
    "\n",
    "# Now we can reload them\n",
    "importlib.reload(aicons.bayesbrainGPT.bayes_brain_ref)\n",
    "importlib.reload(aicons.bayesbrainGPT.utility_function.utility_base)\n",
    "importlib.reload(aicons.bayesbrainGPT.utility_function)  # Reload the package first\n",
    "importlib.reload(aicons.definitions.aicon)\n",
    "importlib.reload(aicons.bayesbrainGPT)\n",
    "importlib.reload(aicons)\n",
    "\n",
    "# Import the classes we need\n",
    "from aicons.definitions.aicon import AIcon\n",
    "from aicons.bayesbrainGPT.sensors.meta_s.meta_ads_sales_sensor import MetaAdsSalesSensor\n",
    "\n",
    "# Now we can create the AIcon and proceed with the rest of the code..."
   ]
  },
  {
   "cell_type": "code",
   "execution_count": 2,
   "metadata": {},
   "outputs": [
    {
     "name": "stdout",
     "output_type": "stream",
     "text": [
      "AIcon created: marketing_aicon\n"
     ]
    }
   ],
   "source": [
    "# Create the AIcon\n",
    "aicon = AIcon(\"marketing_aicon\")\n",
    "print(f\"AIcon created: {aicon.name}\")"
   ]
  },
  {
   "cell_type": "code",
   "execution_count": 3,
   "metadata": {},
   "outputs": [
    {
     "data": {
      "text/plain": [
       "ActionSpace(dimensions=2, constraints=1)"
      ]
     },
     "execution_count": 3,
     "metadata": {},
     "output_type": "execute_result"
    }
   ],
   "source": [
    "# Define an action space first\n",
    "aicon.define_action_space(\n",
    "    space_type='marketing',\n",
    "    total_budget=1000.0,\n",
    "    num_ads=2,\n",
    "    budget_step=100.0,\n",
    "    ad_names=['google', 'facebook']\n",
    ")"
   ]
  },
  {
   "cell_type": "code",
   "execution_count": 4,
   "metadata": {},
   "outputs": [
    {
     "name": "stdout",
     "output_type": "stream",
     "text": [
      "\n",
      "Utility Function: LinearUtility: Σ(weights * values) where weights = [tf.Tensor(0.6, shape=(), dtype=float32), tf.Tensor(0.4, shape=(), dtype=float32)]\n"
     ]
    }
   ],
   "source": [
    "# Define a utility function\n",
    "utility = aicon.define_utility_function(\n",
    "    utility_type='linear',\n",
    "    name=\"Marketing Budget Utility\",\n",
    "    weights={'google': 0.6, 'facebook': 0.4}\n",
    ")"
   ]
  },
  {
   "cell_type": "code",
   "execution_count": null,
   "metadata": {},
   "outputs": [],
   "source": []
  }
 ],
 "metadata": {
  "kernelspec": {
   "display_name": "babel-PAVoc7qP-py3.12",
   "language": "python",
   "name": "python3"
  },
  "language_info": {
   "codemirror_mode": {
    "name": "ipython",
    "version": 3
   },
   "file_extension": ".py",
   "mimetype": "text/x-python",
   "name": "python",
   "nbconvert_exporter": "python",
   "pygments_lexer": "ipython3",
   "version": "3.12.7"
  }
 },
 "nbformat": 4,
 "nbformat_minor": 2
}
