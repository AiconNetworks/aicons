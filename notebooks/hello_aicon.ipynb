{
 "cells": [
  {
   "cell_type": "markdown",
   "metadata": {},
   "source": [
    "# Aicon 1"
   ]
  },
  {
   "cell_type": "markdown",
   "metadata": {},
   "source": [
    "## Action Making"
   ]
  },
  {
   "cell_type": "code",
   "execution_count": 1,
   "metadata": {},
   "outputs": [],
   "source": [
    "# Chunk 1: Imports\n",
    "import sys\n",
    "import os\n",
    "import numpy as np\n",
    "import matplotlib.pyplot as plt\n",
    "from pathlib import Path\n",
    "from datetime import datetime\n",
    "\n",
    "# Add parent directory to path for imports\n",
    "notebook_dir = Path.cwd()\n",
    "project_root = notebook_dir.parent\n",
    "sys.path.append(str(project_root))\n",
    "\n",
    "# Import the required classes\n",
    "from aicons.definitions.aicon import AIcon\n",
    "from aicons.bayesbrainGPT.sensors.meta_s.meta_ads_sales_sensor import MetaAdsSalesSensor"
   ]
  },
  {
   "cell_type": "code",
   "execution_count": 2,
   "metadata": {},
   "outputs": [
    {
     "name": "stdout",
     "output_type": "stream",
     "text": [
      "AIcon created: marketing_aicon\n"
     ]
    }
   ],
   "source": [
    "# Chunk 2: Create AIcon\n",
    "aicon = AIcon(\"marketing_aicon\")\n",
    "print(f\"AIcon created: {aicon.name}\")"
   ]
  },
  {
   "cell_type": "code",
   "execution_count": 3,
   "metadata": {},
   "outputs": [
    {
     "data": {
      "text/plain": [
       "ContinuousLatentVariable(name='initiated_checkouts', value=0.0, description='')"
      ]
     },
     "execution_count": 3,
     "metadata": {},
     "output_type": "execute_result"
    }
   ],
   "source": [
    "aicon.add_state_factor(\n",
    "    name=\"purchases\",\n",
    "    factor_type=\"continuous\",\n",
    "    value=0.0,\n",
    "    params={\n",
    "        \"loc\": 0.0,\n",
    "        \"scale\": 1.0,\n",
    "        \"constraints\": {\"lower\": 0}\n",
    "    },\n",
    "    relationships={\n",
    "        \"depends_on\": []  # Empty list for root factor\n",
    "    }\n",
    ")\n",
    "\n",
    "aicon.add_state_factor(\n",
    "    name=\"add_to_carts\",\n",
    "    factor_type=\"continuous\",\n",
    "    value=0.0,\n",
    "    params={\n",
    "        \"loc\": 0.0,\n",
    "        \"scale\": 5.0,\n",
    "        \"constraints\": {\"lower\": 0}\n",
    "    },\n",
    "    relationships={\n",
    "        \"depends_on\": []  # Empty list for root factor\n",
    "    }\n",
    ")\n",
    "\n",
    "aicon.add_state_factor(\n",
    "    name=\"initiated_checkouts\",\n",
    "    factor_type=\"continuous\",\n",
    "    value=0.0,\n",
    "    params={\n",
    "        \"loc\": 0.0,\n",
    "        \"scale\": 2.0,\n",
    "        \"constraints\": {\"lower\": 0}\n",
    "    },\n",
    "    relationships={\n",
    "        \"depends_on\": []  # Empty list for root factor\n",
    "    }\n",
    ")"
   ]
  },
  {
   "cell_type": "code",
   "execution_count": 4,
   "metadata": {},
   "outputs": [
    {
     "name": "stdout",
     "output_type": "stream",
     "text": [
      "✅ Successfully initialized Meta Ads API vv18.0 for account act_252267674525035\n",
      "Found 5 ad sets in campaign 120218631288730217\n",
      "Found 19 ads in 5 ad sets\n",
      "Found 3 active ads out of 19 total ads\n",
      "Found 3 active ads\n",
      "- Ad ID: 120219681574260217, Name: Anuncio 7 - Carrusel No es lo Mismo - Nata\n",
      "- Ad ID: 120218907658700217, Name: Anuncio 4 - Carrusel 1 - Rancho\n",
      "- Ad ID: 120218905466570217, Name: Anuncio 2 - Carrusel 1 (3 artistas)\n",
      "Number of factors: 21\n",
      "Factor names: purchases, add_to_carts, initiated_checkouts, ad_120219681574260217_purchases, ad_120219681574260217_add_to_carts, ad_120219681574260217_initiated_checkouts, ad_120219681574260217_impressions, ad_120219681574260217_clicks, ad_120219681574260217_spend, ad_120218907658700217_purchases...\n",
      "Auto-creating missing factor: ad_120219681574260217_purchases (continuous)\n",
      "Auto-creating missing factor: ad_120219681574260217_add_to_carts (continuous)\n",
      "Auto-creating missing factor: ad_120219681574260217_initiated_checkouts (continuous)\n",
      "Auto-creating missing factor: ad_120219681574260217_impressions (continuous)\n",
      "Auto-creating missing factor: ad_120219681574260217_clicks (continuous)\n",
      "Auto-creating missing factor: ad_120219681574260217_spend (continuous)\n",
      "Auto-creating missing factor: ad_120218907658700217_purchases (continuous)\n",
      "Auto-creating missing factor: ad_120218907658700217_add_to_carts (continuous)\n",
      "Auto-creating missing factor: ad_120218907658700217_initiated_checkouts (continuous)\n",
      "Auto-creating missing factor: ad_120218907658700217_impressions (continuous)\n",
      "Auto-creating missing factor: ad_120218907658700217_clicks (continuous)\n",
      "Auto-creating missing factor: ad_120218907658700217_spend (continuous)\n",
      "Auto-creating missing factor: ad_120218905466570217_purchases (continuous)\n",
      "Auto-creating missing factor: ad_120218905466570217_add_to_carts (continuous)\n",
      "Auto-creating missing factor: ad_120218905466570217_initiated_checkouts (continuous)\n",
      "Auto-creating missing factor: ad_120218905466570217_impressions (continuous)\n",
      "Auto-creating missing factor: ad_120218905466570217_clicks (continuous)\n",
      "Auto-creating missing factor: ad_120218905466570217_spend (continuous)\n",
      "Meta Ads sensor added\n"
     ]
    }
   ],
   "source": [
    "# Chunk 3: Setup Meta Ads sensor\n",
    "access_token = \"EAAZAn8wmq1IEBOZCz8oyDZBBgiazAgnQKIoAr4mFTbkV7jxi6t3APzOSxFybXNIkBgwQACdagbs5lFE8tpnNOBOOpWtS3KjZAdf9MNAlySpwEaDrX32oQwUTNmOZAaSXjT5Os5Q8YqRo57tXOUukB7QtcO8nQ8JuqrnnshCr7A0giynZBnJKfuPakrZBWoZD\"\n",
    "ad_account_id = \"act_252267674525035\"\n",
    "campaign_id = \"120218631288730217\"\n",
    "\n",
    "sensor = MetaAdsSalesSensor(\n",
    "    name=\"meta_ads\",\n",
    "    reliability=0.9,\n",
    "    access_token=access_token,\n",
    "    ad_account_id=ad_account_id,\n",
    "    campaign_id=campaign_id,\n",
    "    api_version=\"v18.0\",\n",
    "    time_granularity=\"hour\"\n",
    ")\n",
    "\n",
    "aicon.add_sensor(\"meta_ads\", sensor)\n",
    "print(\"Meta Ads sensor added\")"
   ]
  },
  {
   "cell_type": "code",
   "execution_count": 5,
   "metadata": {},
   "outputs": [
    {
     "data": {
      "text/plain": [
       "ActionSpace(dimensions=2, constraints=1)"
      ]
     },
     "execution_count": 5,
     "metadata": {},
     "output_type": "execute_result"
    }
   ],
   "source": [
    "# Chunk 4: Define action space\n",
    "aicon.define_action_space(\n",
    "    space_type='marketing',\n",
    "    total_budget=1000.0,\n",
    "    num_ads=2,\n",
    "    budget_step=100.0,\n",
    "    ad_names=['google', 'facebook']\n",
    ")"
   ]
  },
  {
   "cell_type": "code",
   "execution_count": 6,
   "metadata": {},
   "outputs": [
    {
     "name": "stdout",
     "output_type": "stream",
     "text": [
      "dimensions: ['google_budget: [0.0, 1000.0] step=100.0', 'facebook_budget: [0.0, 1000.0] step=100.0']\n",
      "size: 121 (stepped continuous)\n",
      "constraints: ['<function create_marketing_ads_space.<locals>.budget_sum_constraint at 0x143eed800>']\n",
      "actions: [{'google_budget': np.float64(0.0), 'facebook_budget': np.float64(1000.0)}, {'google_budget': np.float64(100.0), 'facebook_budget': np.float64(900.0)}, {'google_budget': np.float64(200.0), 'facebook_budget': np.float64(800.0)}, {'google_budget': np.float64(300.0), 'facebook_budget': np.float64(700.0)}, {'google_budget': np.float64(400.0), 'facebook_budget': np.float64(600.0)}, {'google_budget': np.float64(500.0), 'facebook_budget': np.float64(500.0)}, {'google_budget': np.float64(600.0), 'facebook_budget': np.float64(400.0)}, {'google_budget': np.float64(700.0), 'facebook_budget': np.float64(300.0)}, {'google_budget': np.float64(800.0), 'facebook_budget': np.float64(200.0)}, {'google_budget': np.float64(900.0), 'facebook_budget': np.float64(100.0)}, {'google_budget': np.float64(1000.0), 'facebook_budget': np.float64(0.0)}]\n"
     ]
    }
   ],
   "source": [
    "print(aicon.brain.action_space.raw_print())"
   ]
  },
  {
   "cell_type": "code",
   "execution_count": null,
   "metadata": {},
   "outputs": [],
   "source": [
    "# Chunk 5: Define utility function\n",
    "utility = aicon.define_utility_function(\n",
    "    utility_type='linear',\n",
    "    name=\"Marketing Budget Utility\",\n",
    "    weights={'google': 0.6, 'facebook': 0.4}\n",
    ")"
   ]
  },
  {
   "cell_type": "code",
   "execution_count": null,
   "metadata": {},
   "outputs": [],
   "source": [
    "# Chunk 6: Update from Meta Ads sensor\n",
    "print(\"Updating beliefs from Meta Ads sensor...\")\n",
    "aicon.update_from_sensor(\"meta_ads\")"
   ]
  },
  {
   "cell_type": "code",
   "execution_count": null,
   "metadata": {},
   "outputs": [],
   "source": [
    "# Get best action using the posterior samples from the update\n",
    "best_action, expected_utility = aicon.brain.find_best_action()\n",
    "print(f\"\\nBest action: {best_action}\")\n",
    "print(f\"Expected utility: {expected_utility:.4f}\")\n"
   ]
  },
  {
   "cell_type": "markdown",
   "metadata": {},
   "source": [
    "-------------------"
   ]
  },
  {
   "cell_type": "code",
   "execution_count": 1,
   "metadata": {},
   "outputs": [],
   "source": [
    "import sys\n",
    "import os\n",
    "import numpy as np\n",
    "from pathlib import Path\n",
    "from datetime import datetime\n",
    "import importlib  # For reloading modules during testing\n",
    "\n",
    "# Add parent directory to path for imports\n",
    "notebook_dir = Path.cwd()\n",
    "project_root = notebook_dir.parent\n",
    "sys.path.append(str(project_root))\n",
    "\n",
    "# Import all necessary modules first\n",
    "import aicons.bayesbrainGPT.bayes_brain_ref\n",
    "import aicons.bayesbrainGPT.utility_function.utility_base\n",
    "import aicons.bayesbrainGPT.utility_function.linear_utility\n",
    "import aicons.bayesbrainGPT.utility_function\n",
    "import aicons.definitions.aicon\n",
    "\n",
    "# Now we can reload them\n",
    "importlib.reload(aicons.bayesbrainGPT.bayes_brain_ref)\n",
    "importlib.reload(aicons.bayesbrainGPT.utility_function.utility_base)\n",
    "importlib.reload(aicons.bayesbrainGPT.utility_function)  # Reload the package first\n",
    "importlib.reload(aicons.definitions.aicon)\n",
    "importlib.reload(aicons.bayesbrainGPT)\n",
    "importlib.reload(aicons)\n",
    "\n",
    "# Import the classes we need\n",
    "from aicons.definitions.aicon import AIcon"
   ]
  },
  {
   "cell_type": "code",
   "execution_count": null,
   "metadata": {},
   "outputs": [],
   "source": [
    "# Create the AIcon\n",
    "aicon = AIcon(\"marketing_aicon\")\n",
    "print(f\"AIcon created: {aicon.name}\")"
   ]
  },
  {
   "cell_type": "markdown",
   "metadata": {},
   "source": [
    "### Defining Action Space"
   ]
  },
  {
   "cell_type": "code",
   "execution_count": null,
   "metadata": {},
   "outputs": [],
   "source": [
    "# Define an action space\n",
    "aicon.define_action_space(\n",
    "    space_type='marketing',\n",
    "    total_budget=1000.0,\n",
    "    num_ads=2,\n",
    "    budget_step=100.0,\n",
    "    ad_names=['google', 'facebook']\n",
    ")"
   ]
  },
  {
   "cell_type": "code",
   "execution_count": null,
   "metadata": {},
   "outputs": [],
   "source": [
    "print(aicon.brain.action_space.raw_print()) "
   ]
  },
  {
   "cell_type": "markdown",
   "metadata": {},
   "source": [
    "### Defining Utility Function"
   ]
  },
  {
   "cell_type": "code",
   "execution_count": null,
   "metadata": {},
   "outputs": [],
   "source": [
    "utility = aicon.define_utility_function(\n",
    "    utility_type='linear',\n",
    "    name=\"Marketing Budget Utility\",\n",
    "    weights={'google': 0.6, 'facebook': 0.4}\n",
    ")"
   ]
  },
  {
   "cell_type": "markdown",
   "metadata": {},
   "source": [
    "### Defining State Rep State"
   ]
  },
  {
   "cell_type": "code",
   "execution_count": null,
   "metadata": {},
   "outputs": [],
   "source": [
    "# Add root factors (with empty relationships)\n",
    "aicon.add_state_factor(\n",
    "    name=\"market_size\",\n",
    "    factor_type=\"continuous\",\n",
    "    value=10000.0,\n",
    "    params={\n",
    "        \"loc\": 10000.0,\n",
    "        \"scale\": 1000.0,\n",
    "        \"constraints\": {\"lower\": 0}\n",
    "    },\n",
    "    relationships={\n",
    "        \"depends_on\": []  # Empty list for root factor\n",
    "    }\n",
    ")\n",
    "\n",
    "aicon.add_state_factor(\n",
    "    name=\"competition_level\",\n",
    "    factor_type=\"categorical\",\n",
    "    value=\"medium\",\n",
    "    params={\n",
    "        \"categories\": [\"low\", \"medium\", \"high\"],\n",
    "        \"probs\": [0.2, 0.5, 0.3]\n",
    "    },\n",
    "    relationships={\n",
    "        \"depends_on\": []  # Empty list for root factor\n",
    "    }\n",
    ")\n",
    "\n",
    "# Add dependent factors\n",
    "aicon.add_state_factor(\n",
    "    name=\"conversion_rate\",\n",
    "    factor_type=\"continuous\",\n",
    "    value=0.02,\n",
    "    params={\n",
    "        \"loc\": 0.02,\n",
    "        \"scale\": 0.005,\n",
    "        \"constraints\": {\"lower\": 0, \"upper\": 1}\n",
    "    },\n",
    "    relationships={\n",
    "        \"depends_on\": [\"market_size\", \"competition_level\"]\n",
    "    }\n",
    ")\n",
    "\n",
    "aicon.add_state_factor(\n",
    "    name=\"customer_acquisition_cost\",\n",
    "    factor_type=\"continuous\",\n",
    "    value=50.0,\n",
    "    params={\n",
    "        \"loc\": 50.0,\n",
    "        \"scale\": 10.0,\n",
    "        \"constraints\": {\"lower\": 0}\n",
    "    },\n",
    "    relationships={\n",
    "        \"depends_on\": [\"competition_level\"]\n",
    "    }\n",
    ")\n",
    "\n",
    "# Add a discrete factor for number of competitors\n",
    "aicon.add_state_factor(\n",
    "    name=\"num_competitors\",\n",
    "    factor_type=\"discrete\",\n",
    "    value=5,\n",
    "    params={\n",
    "        \"rate\": 5.0  # Poisson distribution parameter\n",
    "    },\n",
    "    relationships={\n",
    "        \"depends_on\": []  # Empty list for root factor\n",
    "    }\n",
    ")"
   ]
  },
  {
   "cell_type": "code",
   "execution_count": null,
   "metadata": {},
   "outputs": [],
   "source": [
    "print(aicon.brain.state)"
   ]
  },
  {
   "cell_type": "markdown",
   "metadata": {},
   "source": [
    "### Perception"
   ]
  },
  {
   "cell_type": "code",
   "execution_count": null,
   "metadata": {},
   "outputs": [],
   "source": [
    "# Try to update beliefs without any sensors\n",
    "print(\"Current state before update:\")\n",
    "print(aicon.get_state())"
   ]
  },
  {
   "cell_type": "markdown",
   "metadata": {},
   "source": [
    "## Sensors"
   ]
  },
  {
   "cell_type": "code",
   "execution_count": 1,
   "metadata": {},
   "outputs": [],
   "source": [
    "import sys\n",
    "import os\n",
    "import numpy as np\n",
    "from pathlib import Path\n",
    "from datetime import datetime\n",
    "import importlib  # For reloading modules during testing\n",
    "\n",
    "# Add parent directory to path for imports\n",
    "notebook_dir = Path.cwd()\n",
    "project_root = notebook_dir.parent\n",
    "sys.path.append(str(project_root))\n",
    "\n",
    "# Import all necessary modules first\n",
    "import aicons.bayesbrainGPT.bayes_brain_ref\n",
    "import aicons.bayesbrainGPT.utility_function.utility_base\n",
    "import aicons.bayesbrainGPT.utility_function.linear_utility\n",
    "import aicons.bayesbrainGPT.utility_function\n",
    "import aicons.definitions.aicon\n",
    "\n",
    "# Now we can reload them\n",
    "importlib.reload(aicons.bayesbrainGPT.bayes_brain_ref)\n",
    "importlib.reload(aicons.bayesbrainGPT.utility_function.utility_base)\n",
    "importlib.reload(aicons.bayesbrainGPT.utility_function)  # Reload the package first\n",
    "importlib.reload(aicons.definitions.aicon)\n",
    "importlib.reload(aicons.bayesbrainGPT)\n",
    "importlib.reload(aicons)\n",
    "\n",
    "# Import the classes we need\n",
    "from aicons.definitions.aicon import AIcon\n",
    "from aicons.bayesbrainGPT.sensors.meta_s.meta_ads_sales_sensor import MetaAdsSalesSensor\n"
   ]
  },
  {
   "cell_type": "code",
   "execution_count": null,
   "metadata": {},
   "outputs": [],
   "source": [
    "# Create the AIcon\n",
    "aicon = AIcon(\"marketing_aicon\")\n",
    "print(f\"AIcon created: {aicon.name}\")"
   ]
  },
  {
   "cell_type": "code",
   "execution_count": null,
   "metadata": {},
   "outputs": [],
   "source": [
    "# Define an action space\n",
    "aicon.define_action_space(\n",
    "    space_type='marketing',\n",
    "    total_budget=1000.0,\n",
    "    num_ads=2,\n",
    "    budget_step=100.0,\n",
    "    ad_names=['google', 'facebook']\n",
    ")"
   ]
  },
  {
   "cell_type": "code",
   "execution_count": null,
   "metadata": {},
   "outputs": [],
   "source": [
    "print(aicon.brain.action_space.raw_print())"
   ]
  },
  {
   "cell_type": "code",
   "execution_count": null,
   "metadata": {},
   "outputs": [],
   "source": [
    "# Define a utility function\n",
    "utility = aicon.define_utility_function(\n",
    "    utility_type='linear',\n",
    "    name=\"Marketing Budget Utility\",\n",
    "    weights={'google': 0.6, 'facebook': 0.4}\n",
    ")"
   ]
  },
  {
   "cell_type": "code",
   "execution_count": null,
   "metadata": {},
   "outputs": [],
   "source": [
    "aicon.add_state_factor(\n",
    "    name=\"purchases\",\n",
    "    factor_type=\"continuous\",\n",
    "    value=0.0,\n",
    "    params={\n",
    "        \"loc\": 0.0,\n",
    "        \"scale\": 1.0,\n",
    "        \"constraints\": {\"lower\": 0}\n",
    "    },\n",
    "    relationships={\n",
    "        \"depends_on\": []  # Empty list for root factor\n",
    "    }\n",
    ")\n",
    "\n",
    "aicon.add_state_factor(\n",
    "    name=\"add_to_carts\",\n",
    "    factor_type=\"continuous\",\n",
    "    value=0.0,\n",
    "    params={\n",
    "        \"loc\": 0.0,\n",
    "        \"scale\": 5.0,\n",
    "        \"constraints\": {\"lower\": 0}\n",
    "    },\n",
    "    relationships={\n",
    "        \"depends_on\": []  # Empty list for root factor\n",
    "    }\n",
    ")\n",
    "\n",
    "aicon.add_state_factor(\n",
    "    name=\"initiated_checkouts\",\n",
    "    factor_type=\"continuous\",\n",
    "    value=0.0,\n",
    "    params={\n",
    "        \"loc\": 0.0,\n",
    "        \"scale\": 2.0,\n",
    "        \"constraints\": {\"lower\": 0}\n",
    "    },\n",
    "    relationships={\n",
    "        \"depends_on\": []  # Empty list for root factor\n",
    "    }\n",
    ")"
   ]
  },
  {
   "cell_type": "code",
   "execution_count": null,
   "metadata": {},
   "outputs": [],
   "source": [
    "print(aicon.brain.state)"
   ]
  },
  {
   "cell_type": "code",
   "execution_count": null,
   "metadata": {},
   "outputs": [],
   "source": [
    "# Your Meta API credentials\n",
    "access_token = \"EAAZAn8wmq1IEBOZCz8oyDZBBgiazAgnQKIoAr4mFTbkV7jxi6t3APzOSxFybXNIkBgwQACdagbs5lFE8tpnNOBOOpWtS3KjZAdf9MNAlySpwEaDrX32oQwUTNmOZAaSXjT5Os5Q8YqRo57tXOUukB7QtcO8nQ8JuqrnnshCr7A0giynZBnJKfuPakrZBWoZD\"\n",
    "ad_account_id = \"act_252267674525035\"\n",
    "campaign_id = \"120218631288730217\"\n",
    "\n",
    "# Create the Meta Ads Sensor\n",
    "sensor = MetaAdsSalesSensor(\n",
    "    name=\"meta_ads\",\n",
    "    reliability=0.9,\n",
    "    access_token=access_token,\n",
    "    ad_account_id=ad_account_id,\n",
    "    campaign_id=campaign_id,\n",
    "    api_version=\"v18.0\",\n",
    "    time_granularity=\"hour\"\n",
    ")\n",
    "\n",
    "# Add the sensor to the AIcon\n",
    "aicon.add_sensor(\"meta_ads\", sensor)\n",
    "print(\"Meta Ads sensor added\")"
   ]
  },
  {
   "cell_type": "code",
   "execution_count": null,
   "metadata": {},
   "outputs": [],
   "source": [
    "# Get active ads to understand what we're working with\n",
    "active_ads = sensor.get_active_ads()\n",
    "print(f\"Found {len(active_ads)} active ads\")\n",
    "for ad in active_ads:\n",
    "    print(f\"- Ad ID: {ad['ad_id']}, Name: {ad['ad_name']}\")"
   ]
  },
  {
   "cell_type": "code",
   "execution_count": null,
   "metadata": {},
   "outputs": [],
   "source": [
    "aicon.update_from_sensor(\"meta_ads\")"
   ]
  },
  {
   "cell_type": "code",
   "execution_count": null,
   "metadata": {},
   "outputs": [],
   "source": []
  }
 ],
 "metadata": {
  "kernelspec": {
   "display_name": "babel-PAVoc7qP-py3.12",
   "language": "python",
   "name": "python3"
  },
  "language_info": {
   "codemirror_mode": {
    "name": "ipython",
    "version": 3
   },
   "file_extension": ".py",
   "mimetype": "text/x-python",
   "name": "python",
   "nbconvert_exporter": "python",
   "pygments_lexer": "ipython3",
   "version": "3.12.7"
  }
 },
 "nbformat": 4,
 "nbformat_minor": 2
}
