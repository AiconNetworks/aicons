{
 "cells": [
  {
   "cell_type": "markdown",
   "metadata": {},
   "source": [
    "# Aicon 1"
   ]
  },
  {
   "cell_type": "markdown",
   "metadata": {},
   "source": [
    "## Action Making"
   ]
  },
  {
   "cell_type": "code",
   "execution_count": 1,
   "metadata": {},
   "outputs": [],
   "source": [
    "# Chunk 1: Imports\n",
    "import sys\n",
    "import os\n",
    "import numpy as np\n",
    "import matplotlib.pyplot as plt\n",
    "from pathlib import Path\n",
    "from datetime import datetime\n",
    "\n",
    "# Add parent directory to path for imports\n",
    "notebook_dir = Path.cwd()\n",
    "project_root = notebook_dir.parent\n",
    "sys.path.append(str(project_root))\n",
    "\n",
    "# Import the required classes\n",
    "from aicons.definitions.aicon import AIcon\n",
    "from aicons.bayesbrainGPT.sensors.meta_s.meta_ads_sales_sensor import MetaAdsSalesSensor"
   ]
  },
  {
   "cell_type": "code",
   "execution_count": 2,
   "metadata": {},
   "outputs": [
    {
     "name": "stdout",
     "output_type": "stream",
     "text": [
      "AIcon created: marketing_aicon\n"
     ]
    }
   ],
   "source": [
    "# Chunk 2: Create AIcon\n",
    "aicon = AIcon(\"marketing_aicon\")\n",
    "print(f\"AIcon created: {aicon.name}\")"
   ]
  },
  {
   "cell_type": "code",
   "execution_count": 3,
   "metadata": {},
   "outputs": [
    {
     "data": {
      "text/plain": [
       "ContinuousLatentVariable(name='initiated_checkouts', value=0.0, description='')"
      ]
     },
     "execution_count": 3,
     "metadata": {},
     "output_type": "execute_result"
    }
   ],
   "source": [
    "aicon.add_state_factor(\n",
    "    name=\"purchases\",\n",
    "    factor_type=\"continuous\",\n",
    "    value=0.0,\n",
    "    params={\n",
    "        \"loc\": 0.0,\n",
    "        \"scale\": 1.0,\n",
    "        \"constraints\": {\"lower\": 0}\n",
    "    },\n",
    "    relationships={\n",
    "        \"depends_on\": []  # Empty list for root factor\n",
    "    }\n",
    ")\n",
    "\n",
    "aicon.add_state_factor(\n",
    "    name=\"add_to_carts\",\n",
    "    factor_type=\"continuous\",\n",
    "    value=0.0,\n",
    "    params={\n",
    "        \"loc\": 0.0,\n",
    "        \"scale\": 5.0,\n",
    "        \"constraints\": {\"lower\": 0}\n",
    "    },\n",
    "    relationships={\n",
    "        \"depends_on\": []  # Empty list for root factor\n",
    "    }\n",
    ")\n",
    "\n",
    "aicon.add_state_factor(\n",
    "    name=\"initiated_checkouts\",\n",
    "    factor_type=\"continuous\",\n",
    "    value=0.0,\n",
    "    params={\n",
    "        \"loc\": 0.0,\n",
    "        \"scale\": 2.0,\n",
    "        \"constraints\": {\"lower\": 0}\n",
    "    },\n",
    "    relationships={\n",
    "        \"depends_on\": []  # Empty list for root factor\n",
    "    }\n",
    ")"
   ]
  },
  {
   "cell_type": "code",
   "execution_count": 4,
   "metadata": {},
   "outputs": [
    {
     "name": "stdout",
     "output_type": "stream",
     "text": [
      "✅ Successfully initialized Meta Ads API vv18.0 for account act_252267674525035\n",
      "Found 5 ad sets in campaign 120218631288730217\n",
      "Found 19 ads in 5 ad sets\n",
      "Found 3 active ads out of 19 total ads\n",
      "Found 3 active ads\n",
      "- Ad ID: 120219835173950217, Name: Anuncio 9 - Nata + Gabito\n",
      "- Ad ID: 120218907658700217, Name: Anuncio 4 - Carrusel 1 - Rancho\n",
      "- Ad ID: 120218905466570217, Name: Anuncio 2 - Carrusel 1 (3 artistas)\n",
      "Number of factors: 21\n",
      "Factor names: purchases, add_to_carts, initiated_checkouts, ad_120219835173950217_purchases, ad_120219835173950217_add_to_carts, ad_120219835173950217_initiated_checkouts, ad_120219835173950217_impressions, ad_120219835173950217_clicks, ad_120219835173950217_spend, ad_120218907658700217_purchases...\n",
      "Auto-creating missing factor: ad_120219835173950217_purchases (continuous)\n",
      "Auto-creating missing factor: ad_120219835173950217_add_to_carts (continuous)\n",
      "Auto-creating missing factor: ad_120219835173950217_initiated_checkouts (continuous)\n",
      "Auto-creating missing factor: ad_120219835173950217_impressions (continuous)\n",
      "Auto-creating missing factor: ad_120219835173950217_clicks (continuous)\n",
      "Auto-creating missing factor: ad_120219835173950217_spend (continuous)\n",
      "Auto-creating missing factor: ad_120218907658700217_purchases (continuous)\n",
      "Auto-creating missing factor: ad_120218907658700217_add_to_carts (continuous)\n",
      "Auto-creating missing factor: ad_120218907658700217_initiated_checkouts (continuous)\n",
      "Auto-creating missing factor: ad_120218907658700217_impressions (continuous)\n",
      "Auto-creating missing factor: ad_120218907658700217_clicks (continuous)\n",
      "Auto-creating missing factor: ad_120218907658700217_spend (continuous)\n",
      "Auto-creating missing factor: ad_120218905466570217_purchases (continuous)\n",
      "Auto-creating missing factor: ad_120218905466570217_add_to_carts (continuous)\n",
      "Auto-creating missing factor: ad_120218905466570217_initiated_checkouts (continuous)\n",
      "Auto-creating missing factor: ad_120218905466570217_impressions (continuous)\n",
      "Auto-creating missing factor: ad_120218905466570217_clicks (continuous)\n",
      "Auto-creating missing factor: ad_120218905466570217_spend (continuous)\n",
      "Meta Ads sensor added\n"
     ]
    }
   ],
   "source": [
    "# Chunk 3: Setup Meta Ads sensor\n",
    "access_token = \"EAAZAn8wmq1IEBOZCz8oyDZBBgiazAgnQKIoAr4mFTbkV7jxi6t3APzOSxFybXNIkBgwQACdagbs5lFE8tpnNOBOOpWtS3KjZAdf9MNAlySpwEaDrX32oQwUTNmOZAaSXjT5Os5Q8YqRo57tXOUukB7QtcO8nQ8JuqrnnshCr7A0giynZBnJKfuPakrZBWoZD\"\n",
    "ad_account_id = \"act_252267674525035\"\n",
    "campaign_id = \"120218631288730217\"\n",
    "\n",
    "sensor = MetaAdsSalesSensor(\n",
    "    name=\"meta_ads\",\n",
    "    reliability=0.9,\n",
    "    access_token=access_token,\n",
    "    ad_account_id=ad_account_id,\n",
    "    campaign_id=campaign_id,\n",
    "    api_version=\"v18.0\",\n",
    "    time_granularity=\"hour\"\n",
    ")\n",
    "\n",
    "aicon.add_sensor(\"meta_ads\", sensor)\n",
    "print(\"Meta Ads sensor added\")"
   ]
  },
  {
   "cell_type": "code",
   "execution_count": 5,
   "metadata": {},
   "outputs": [
    {
     "data": {
      "text/plain": [
       "ActionSpace(dimensions=2, constraints=1)"
      ]
     },
     "execution_count": 5,
     "metadata": {},
     "output_type": "execute_result"
    }
   ],
   "source": [
    "# Chunk 4: Define action space\n",
    "aicon.define_action_space(\n",
    "    space_type='marketing',\n",
    "    total_budget=1000.0,\n",
    "    num_ads=2,\n",
    "    budget_step=100.0,\n",
    "    ad_names=['google', 'facebook']\n",
    ")"
   ]
  },
  {
   "cell_type": "code",
   "execution_count": 6,
   "metadata": {},
   "outputs": [
    {
     "name": "stdout",
     "output_type": "stream",
     "text": [
      "dimensions: ['google_budget: [0.0, 1000.0] step=100.0', 'facebook_budget: [0.0, 1000.0] step=100.0']\n",
      "size: 121 (stepped continuous)\n",
      "constraints: ['<function create_marketing_ads_space.<locals>.budget_sum_constraint at 0x1491ed940>']\n",
      "actions: [{'google_budget': np.float64(0.0), 'facebook_budget': np.float64(1000.0)}, {'google_budget': np.float64(100.0), 'facebook_budget': np.float64(900.0)}, {'google_budget': np.float64(200.0), 'facebook_budget': np.float64(800.0)}, {'google_budget': np.float64(300.0), 'facebook_budget': np.float64(700.0)}, {'google_budget': np.float64(400.0), 'facebook_budget': np.float64(600.0)}, {'google_budget': np.float64(500.0), 'facebook_budget': np.float64(500.0)}, {'google_budget': np.float64(600.0), 'facebook_budget': np.float64(400.0)}, {'google_budget': np.float64(700.0), 'facebook_budget': np.float64(300.0)}, {'google_budget': np.float64(800.0), 'facebook_budget': np.float64(200.0)}, {'google_budget': np.float64(900.0), 'facebook_budget': np.float64(100.0)}, {'google_budget': np.float64(1000.0), 'facebook_budget': np.float64(0.0)}]\n"
     ]
    }
   ],
   "source": [
    "print(aicon.brain.action_space.raw_print())"
   ]
  },
  {
   "cell_type": "code",
   "execution_count": 7,
   "metadata": {},
   "outputs": [
    {
     "name": "stdout",
     "output_type": "stream",
     "text": [
      "\n",
      "Utility Function: LinearUtility: Σ(weights * values) where weights = [tf.Tensor(0.6, shape=(), dtype=float32), tf.Tensor(0.4, shape=(), dtype=float32)]\n"
     ]
    }
   ],
   "source": [
    "# Chunk 5: Define utility function\n",
    "utility = aicon.define_utility_function(\n",
    "    utility_type='linear',\n",
    "    name=\"Marketing Budget Utility\",\n",
    "    weights={'google': 0.6, 'facebook': 0.4}\n",
    ")"
   ]
  },
  {
   "cell_type": "code",
   "execution_count": 8,
   "metadata": {},
   "outputs": [
    {
     "name": "stdout",
     "output_type": "stream",
     "text": [
      "Updating beliefs from Meta Ads sensor...\n",
      "\n",
      "=== Starting Belief Update ===\n",
      "Current time: 2025-03-28 18:46:42\n",
      "No posterior samples available\n",
      "Campaign objective: OUTCOME_SALES\n",
      "Found 5 ad sets in campaign 120218631288730217\n",
      "Found 19 ads in 5 ad sets\n",
      "Trying date_preset: today\n",
      "Fetching data for 19 ads with today preset...\n",
      "Retrieved 89 records\n",
      "Found latest hour: 18:00:00 - 18:59:59\n",
      "Filtered to 3 records for hour 18:00:00 - 18:59:59\n",
      "Found 3 hourly records\n",
      "Extracted factors for 3 ads\n",
      "Example ad IDs: 120218905466570217, 120218907658700217, 120219835173950217\n",
      "Example factor names: purchases, add_to_carts, initiated_checkouts, ad_120218905466570217_purchases, ad_120218905466570217_add_to_carts, ad_120218905466570217_initiated_checkouts, ad_120218905466570217_impressions, ad_120218905466570217_clicks, ad_120218905466570217_spend, ad_120218907658700217_purchases\n",
      "Mapping observation: purchases → purchases\n",
      "Mapping observation: add_to_carts → add_to_carts\n",
      "Mapping observation: initiated_checkouts → initiated_checkouts\n",
      "Mapping observation: ad_120218905466570217_purchases → ad_120218905466570217_purchases\n",
      "Mapping observation: ad_120218905466570217_add_to_carts → ad_120218905466570217_add_to_carts\n",
      "Mapping observation: ad_120218905466570217_initiated_checkouts → ad_120218905466570217_initiated_checkouts\n",
      "Mapping observation: ad_120218905466570217_impressions → ad_120218905466570217_impressions\n",
      "Mapping observation: ad_120218905466570217_clicks → ad_120218905466570217_clicks\n",
      "Mapping observation: ad_120218905466570217_spend → ad_120218905466570217_spend\n",
      "Mapping observation: ad_120218907658700217_purchases → ad_120218907658700217_purchases\n",
      "Mapping observation: ad_120218907658700217_add_to_carts → ad_120218907658700217_add_to_carts\n",
      "Mapping observation: ad_120218907658700217_initiated_checkouts → ad_120218907658700217_initiated_checkouts\n",
      "Mapping observation: ad_120218907658700217_impressions → ad_120218907658700217_impressions\n",
      "Mapping observation: ad_120218907658700217_clicks → ad_120218907658700217_clicks\n",
      "Mapping observation: ad_120218907658700217_spend → ad_120218907658700217_spend\n",
      "Mapping observation: ad_120219835173950217_purchases → ad_120219835173950217_purchases\n",
      "Mapping observation: ad_120219835173950217_add_to_carts → ad_120219835173950217_add_to_carts\n",
      "Mapping observation: ad_120219835173950217_initiated_checkouts → ad_120219835173950217_initiated_checkouts\n",
      "Mapping observation: ad_120219835173950217_impressions → ad_120219835173950217_impressions\n",
      "Mapping observation: ad_120219835173950217_clicks → ad_120219835173950217_clicks\n",
      "Mapping observation: ad_120219835173950217_spend → ad_120219835173950217_spend\n",
      "Sampling posterior distribution...\n",
      "\n",
      "Processing 21 observations:\n",
      "- purchases: value=0, reliability=0.9\n",
      "- add_to_carts: value=0, reliability=0.9\n",
      "- initiated_checkouts: value=1.0, reliability=0.9\n",
      "- ad_120218905466570217_purchases: value=0, reliability=0.9\n",
      "- ad_120218905466570217_add_to_carts: value=0, reliability=0.9\n",
      "- ad_120218905466570217_initiated_checkouts: value=0, reliability=0.9\n",
      "- ad_120218905466570217_impressions: value=54, reliability=0.9\n",
      "- ad_120218905466570217_clicks: value=0, reliability=0.9\n",
      "- ad_120218905466570217_spend: value=3.613640069961548, reliability=0.9\n",
      "- ad_120218907658700217_purchases: value=0, reliability=0.9\n",
      "- ad_120218907658700217_add_to_carts: value=0, reliability=0.9\n",
      "- ad_120218907658700217_initiated_checkouts: value=0, reliability=0.9\n",
      "- ad_120218907658700217_impressions: value=21, reliability=0.9\n",
      "- ad_120218907658700217_clicks: value=2, reliability=0.9\n",
      "- ad_120218907658700217_spend: value=1.2106879949569702, reliability=0.9\n",
      "- ad_120219835173950217_purchases: value=0, reliability=0.9\n",
      "- ad_120219835173950217_add_to_carts: value=0, reliability=0.9\n",
      "- ad_120219835173950217_initiated_checkouts: value=1.0, reliability=0.9\n",
      "- ad_120219835173950217_impressions: value=4084, reliability=0.9\n",
      "- ad_120219835173950217_clicks: value=240, reliability=0.9\n",
      "- ad_120219835173950217_spend: value=68.14061737060547, reliability=0.9\n",
      "\n",
      "Setting up bijectors...\n",
      "\n",
      "Processing bijector for factor: purchases\n",
      "Factor type: continuous\n",
      "Using Identity bijector for unconstrained continuous variable purchases\n",
      "\n",
      "Processing bijector for factor: add_to_carts\n",
      "Factor type: continuous\n",
      "Using Identity bijector for unconstrained continuous variable add_to_carts\n",
      "\n",
      "Processing bijector for factor: initiated_checkouts\n",
      "Factor type: continuous\n",
      "Using Identity bijector for unconstrained continuous variable initiated_checkouts\n",
      "\n",
      "Processing bijector for factor: ad_120219835173950217_purchases\n",
      "Factor type: continuous\n",
      "Using Softplus bijector for non-negative metric ad_120219835173950217_purchases\n",
      "\n",
      "Processing bijector for factor: ad_120219835173950217_add_to_carts\n",
      "Factor type: continuous\n",
      "Using Softplus bijector for non-negative metric ad_120219835173950217_add_to_carts\n",
      "\n",
      "Processing bijector for factor: ad_120219835173950217_initiated_checkouts\n",
      "Factor type: continuous\n",
      "Using Softplus bijector for non-negative metric ad_120219835173950217_initiated_checkouts\n",
      "\n",
      "Processing bijector for factor: ad_120219835173950217_impressions\n",
      "Factor type: continuous\n",
      "Using Softplus bijector for non-negative integer metric ad_120219835173950217_impressions\n",
      "\n",
      "Processing bijector for factor: ad_120219835173950217_clicks\n",
      "Factor type: continuous\n",
      "Using Softplus bijector for non-negative integer metric ad_120219835173950217_clicks\n",
      "\n",
      "Processing bijector for factor: ad_120219835173950217_spend\n",
      "Factor type: continuous\n",
      "Using Softplus bijector for non-negative spend ad_120219835173950217_spend\n",
      "\n",
      "Processing bijector for factor: ad_120218907658700217_purchases\n",
      "Factor type: continuous\n",
      "Using Softplus bijector for non-negative metric ad_120218907658700217_purchases\n",
      "\n",
      "Processing bijector for factor: ad_120218907658700217_add_to_carts\n",
      "Factor type: continuous\n",
      "Using Softplus bijector for non-negative metric ad_120218907658700217_add_to_carts\n",
      "\n",
      "Processing bijector for factor: ad_120218907658700217_initiated_checkouts\n",
      "Factor type: continuous\n",
      "Using Softplus bijector for non-negative metric ad_120218907658700217_initiated_checkouts\n",
      "\n",
      "Processing bijector for factor: ad_120218907658700217_impressions\n",
      "Factor type: continuous\n",
      "Using Softplus bijector for non-negative integer metric ad_120218907658700217_impressions\n",
      "\n",
      "Processing bijector for factor: ad_120218907658700217_clicks\n",
      "Factor type: continuous\n",
      "Using Softplus bijector for non-negative integer metric ad_120218907658700217_clicks\n",
      "\n",
      "Processing bijector for factor: ad_120218907658700217_spend\n",
      "Factor type: continuous\n",
      "Using Softplus bijector for non-negative spend ad_120218907658700217_spend\n",
      "\n",
      "Processing bijector for factor: ad_120218905466570217_purchases\n",
      "Factor type: continuous\n",
      "Using Softplus bijector for non-negative metric ad_120218905466570217_purchases\n",
      "\n",
      "Processing bijector for factor: ad_120218905466570217_add_to_carts\n",
      "Factor type: continuous\n",
      "Using Softplus bijector for non-negative metric ad_120218905466570217_add_to_carts\n",
      "\n",
      "Processing bijector for factor: ad_120218905466570217_initiated_checkouts\n",
      "Factor type: continuous\n",
      "Using Softplus bijector for non-negative metric ad_120218905466570217_initiated_checkouts\n",
      "\n",
      "Processing bijector for factor: ad_120218905466570217_impressions\n",
      "Factor type: continuous\n",
      "Using Softplus bijector for non-negative integer metric ad_120218905466570217_impressions\n",
      "\n",
      "Processing bijector for factor: ad_120218905466570217_clicks\n",
      "Factor type: continuous\n",
      "Using Softplus bijector for non-negative integer metric ad_120218905466570217_clicks\n",
      "\n",
      "Processing bijector for factor: ad_120218905466570217_spend\n",
      "Factor type: continuous\n",
      "Using Softplus bijector for non-negative spend ad_120218905466570217_spend\n",
      "\n",
      "Number of bijectors: 21\n",
      "\n",
      "Initializing MCMC sampling...\n",
      "Number of results: 1000\n",
      "Number of burnin steps: 500\n",
      "Step size: 0.01\n",
      "Number of leapfrog steps: 10\n",
      "\n",
      "Sampling initial state from prior...\n",
      "Initial sample type: <class 'list'>\n",
      "Converted list initial sample to dictionary\n",
      "\n",
      "Initial sample values:\n",
      "purchases: -0.917826235294342 (type: <class 'tensorflow.python.framework.ops.EagerTensor'>)\n",
      "add_to_carts: 3.2308664321899414 (type: <class 'tensorflow.python.framework.ops.EagerTensor'>)\n",
      "initiated_checkouts: -2.6869194507598877 (type: <class 'tensorflow.python.framework.ops.EagerTensor'>)\n",
      "ad_120219835173950217_purchases: -2.3262240886688232 (type: <class 'tensorflow.python.framework.ops.EagerTensor'>)\n",
      "ad_120219835173950217_add_to_carts: 4.89555025100708 (type: <class 'tensorflow.python.framework.ops.EagerTensor'>)\n",
      "ad_120219835173950217_initiated_checkouts: 0.8906657099723816 (type: <class 'tensorflow.python.framework.ops.EagerTensor'>)\n",
      "ad_120219835173950217_impressions: -25.36783790588379 (type: <class 'tensorflow.python.framework.ops.EagerTensor'>)\n",
      "ad_120219835173950217_clicks: 8.194782257080078 (type: <class 'tensorflow.python.framework.ops.EagerTensor'>)\n",
      "ad_120219835173950217_spend: -9.384260177612305 (type: <class 'tensorflow.python.framework.ops.EagerTensor'>)\n",
      "ad_120218907658700217_purchases: -0.24024151265621185 (type: <class 'tensorflow.python.framework.ops.EagerTensor'>)\n",
      "ad_120218907658700217_add_to_carts: -3.8520801067352295 (type: <class 'tensorflow.python.framework.ops.EagerTensor'>)\n",
      "ad_120218907658700217_initiated_checkouts: -1.8008102178573608 (type: <class 'tensorflow.python.framework.ops.EagerTensor'>)\n",
      "ad_120218907658700217_impressions: -116.36572265625 (type: <class 'tensorflow.python.framework.ops.EagerTensor'>)\n",
      "ad_120218907658700217_clicks: 0.5208461284637451 (type: <class 'tensorflow.python.framework.ops.EagerTensor'>)\n",
      "ad_120218907658700217_spend: 8.547603607177734 (type: <class 'tensorflow.python.framework.ops.EagerTensor'>)\n",
      "ad_120218905466570217_purchases: -0.7809717655181885 (type: <class 'tensorflow.python.framework.ops.EagerTensor'>)\n",
      "ad_120218905466570217_add_to_carts: 0.8140012621879578 (type: <class 'tensorflow.python.framework.ops.EagerTensor'>)\n",
      "ad_120218905466570217_initiated_checkouts: -0.9278593063354492 (type: <class 'tensorflow.python.framework.ops.EagerTensor'>)\n",
      "ad_120218905466570217_impressions: -12.191853523254395 (type: <class 'tensorflow.python.framework.ops.EagerTensor'>)\n",
      "ad_120218905466570217_clicks: -0.8604483604431152 (type: <class 'tensorflow.python.framework.ops.EagerTensor'>)\n",
      "ad_120218905466570217_spend: 4.4766669273376465 (type: <class 'tensorflow.python.framework.ops.EagerTensor'>)\n",
      "\n",
      "Creating HMC kernel...\n",
      "Adding step size adaptation...\n",
      "Adding bijector transformation...\n",
      "\n",
      "Error in hierarchical MCMC sampling: 'dict' object has no attribute 'forward_dtype'\n",
      "No posterior samples available\n"
     ]
    },
    {
     "name": "stderr",
     "output_type": "stream",
     "text": [
      "/Users/infa/Library/Caches/pypoetry/virtualenvs/babel-PAVoc7qP-py3.12/lib/python3.12/site-packages/tensorflow_probability/python/__init__.py:70: UserWarning: TensorFloat-32 matmul/conv are enabled for NVIDIA Ampere+ GPUs. The resulting loss of precision may hinder MCMC convergence. To turn off, run `tf.config.experimental.enable_tensor_float_32_execution(False)`. For more detail, see https://github.com/tensorflow/community/pull/287.\n",
      "  warnings.warn(\n",
      "Traceback (most recent call last):\n",
      "  File \"/Users/infa/Documents/Babel/aicons/bayesbrainGPT/perception/perception.py\", line 542, in _sample_posterior_hierarchical\n",
      "    kernel = tfp.mcmc.TransformedTransitionKernel(\n",
      "             ^^^^^^^^^^^^^^^^^^^^^^^^^^^^^^^^^^^^^\n",
      "  File \"/Users/infa/Library/Caches/pypoetry/virtualenvs/babel-PAVoc7qP-py3.12/lib/python3.12/site-packages/tensorflow_probability/python/mcmc/transformed_kernel.py\", line 332, in __init__\n",
      "    new_target_log_prob = make_transformed_log_prob(\n",
      "                          ^^^^^^^^^^^^^^^^^^^^^^^^^^\n",
      "  File \"/Users/infa/Library/Caches/pypoetry/virtualenvs/babel-PAVoc7qP-py3.12/lib/python3.12/site-packages/tensorflow_probability/python/mcmc/transformed_kernel.py\", line 117, in make_transformed_log_prob\n",
      "    fn = make_transform_fn(bijector, direction)\n",
      "         ^^^^^^^^^^^^^^^^^^^^^^^^^^^^^^^^^^^^^^\n",
      "  File \"/Users/infa/Library/Caches/pypoetry/virtualenvs/babel-PAVoc7qP-py3.12/lib/python3.12/site-packages/tensorflow_probability/python/mcmc/transformed_kernel.py\", line 68, in make_transform_fn\n",
      "    dtype = getattr(bijector, '{}_dtype'.format(direction))()\n",
      "            ^^^^^^^^^^^^^^^^^^^^^^^^^^^^^^^^^^^^^^^^^^^^^^^\n",
      "AttributeError: 'dict' object has no attribute 'forward_dtype'\n"
     ]
    },
    {
     "data": {
      "text/plain": [
       "False"
      ]
     },
     "execution_count": 8,
     "metadata": {},
     "output_type": "execute_result"
    }
   ],
   "source": [
    "# Chunk 6: Update from Meta Ads sensor\n",
    "print(\"Updating beliefs from Meta Ads sensor...\")\n",
    "aicon.update_from_sensor(\"meta_ads\")"
   ]
  },
  {
   "cell_type": "code",
   "execution_count": 9,
   "metadata": {},
   "outputs": [
    {
     "ename": "AttributeError",
     "evalue": "'BayesianState' object has no attribute 'get_state'",
     "output_type": "error",
     "traceback": [
      "\u001b[31m---------------------------------------------------------------------------\u001b[39m",
      "\u001b[31mAttributeError\u001b[39m                            Traceback (most recent call last)",
      "\u001b[36mCell\u001b[39m\u001b[36m \u001b[39m\u001b[32mIn[9]\u001b[39m\u001b[32m, line 2\u001b[39m\n\u001b[32m      1\u001b[39m \u001b[38;5;66;03m# Get best action using the posterior samples from the update\u001b[39;00m\n\u001b[32m----> \u001b[39m\u001b[32m2\u001b[39m best_action, expected_utility = \u001b[43maicon\u001b[49m\u001b[43m.\u001b[49m\u001b[43mbrain\u001b[49m\u001b[43m.\u001b[49m\u001b[43mfind_best_action\u001b[49m\u001b[43m(\u001b[49m\u001b[43m)\u001b[49m\n\u001b[32m      3\u001b[39m \u001b[38;5;28mprint\u001b[39m(\u001b[33mf\u001b[39m\u001b[33m\"\u001b[39m\u001b[38;5;130;01m\\n\u001b[39;00m\u001b[33mBest action: \u001b[39m\u001b[38;5;132;01m{\u001b[39;00mbest_action\u001b[38;5;132;01m}\u001b[39;00m\u001b[33m\"\u001b[39m)\n\u001b[32m      4\u001b[39m \u001b[38;5;28mprint\u001b[39m(\u001b[33mf\u001b[39m\u001b[33m\"\u001b[39m\u001b[33mExpected utility: \u001b[39m\u001b[38;5;132;01m{\u001b[39;00mexpected_utility\u001b[38;5;132;01m:\u001b[39;00m\u001b[33m.4f\u001b[39m\u001b[38;5;132;01m}\u001b[39;00m\u001b[33m\"\u001b[39m)\n",
      "\u001b[36mFile \u001b[39m\u001b[32m~/Documents/Babel/aicons/bayesbrainGPT/bayes_brain_ref.py:165\u001b[39m, in \u001b[36mBayesBrain.find_best_action\u001b[39m\u001b[34m(self, num_samples)\u001b[39m\n\u001b[32m    162\u001b[39m     \u001b[38;5;28;01mraise\u001b[39;00m \u001b[38;5;167;01mValueError\u001b[39;00m(\u001b[33m\"\u001b[39m\u001b[33mAction space and utility function must be set before finding best action\u001b[39m\u001b[33m\"\u001b[39m)\n\u001b[32m    164\u001b[39m \u001b[38;5;66;03m# Get current state\u001b[39;00m\n\u001b[32m--> \u001b[39m\u001b[32m165\u001b[39m current_state = \u001b[38;5;28;43mself\u001b[39;49m\u001b[43m.\u001b[49m\u001b[43mget_state\u001b[49m\u001b[43m(\u001b[49m\u001b[43m)\u001b[49m\n\u001b[32m    167\u001b[39m \u001b[38;5;66;03m# Sample actions\u001b[39;00m\n\u001b[32m    168\u001b[39m \u001b[38;5;28;01mif\u001b[39;00m num_samples \u001b[38;5;129;01mis\u001b[39;00m \u001b[38;5;28;01mNone\u001b[39;00m:\n",
      "\u001b[36mFile \u001b[39m\u001b[32m~/Documents/Babel/aicons/bayesbrainGPT/bayes_brain_ref.py:124\u001b[39m, in \u001b[36mBayesBrain.get_state\u001b[39m\u001b[34m(self)\u001b[39m\n\u001b[32m    117\u001b[39m \u001b[38;5;28;01mdef\u001b[39;00m\u001b[38;5;250m \u001b[39m\u001b[34mget_state\u001b[39m(\u001b[38;5;28mself\u001b[39m) -> Dict[\u001b[38;5;28mstr\u001b[39m, Any]:\n\u001b[32m    118\u001b[39m \u001b[38;5;250m    \u001b[39m\u001b[33;03m\"\"\"\u001b[39;00m\n\u001b[32m    119\u001b[39m \u001b[33;03m    Get the current state beliefs.\u001b[39;00m\n\u001b[32m    120\u001b[39m \u001b[33;03m    \u001b[39;00m\n\u001b[32m    121\u001b[39m \u001b[33;03m    Returns:\u001b[39;00m\n\u001b[32m    122\u001b[39m \u001b[33;03m        Dictionary of current state beliefs\u001b[39;00m\n\u001b[32m    123\u001b[39m \u001b[33;03m    \"\"\"\u001b[39;00m\n\u001b[32m--> \u001b[39m\u001b[32m124\u001b[39m     \u001b[38;5;28;01mreturn\u001b[39;00m \u001b[38;5;28;43mself\u001b[39;49m\u001b[43m.\u001b[49m\u001b[43mstate\u001b[49m\u001b[43m.\u001b[49m\u001b[43mget_state\u001b[49m()\n",
      "\u001b[31mAttributeError\u001b[39m: 'BayesianState' object has no attribute 'get_state'"
     ]
    }
   ],
   "source": [
    "# Get best action using the posterior samples from the update\n",
    "best_action, expected_utility = aicon.brain.find_best_action()\n",
    "print(f\"\\nBest action: {best_action}\")\n",
    "print(f\"Expected utility: {expected_utility:.4f}\")\n"
   ]
  },
  {
   "cell_type": "markdown",
   "metadata": {},
   "source": [
    "-------------------"
   ]
  },
  {
   "cell_type": "code",
   "execution_count": 1,
   "metadata": {},
   "outputs": [],
   "source": [
    "import sys\n",
    "import os\n",
    "import numpy as np\n",
    "from pathlib import Path\n",
    "from datetime import datetime\n",
    "import importlib  # For reloading modules during testing\n",
    "\n",
    "# Add parent directory to path for imports\n",
    "notebook_dir = Path.cwd()\n",
    "project_root = notebook_dir.parent\n",
    "sys.path.append(str(project_root))\n",
    "\n",
    "# Import all necessary modules first\n",
    "import aicons.bayesbrainGPT.bayes_brain_ref\n",
    "import aicons.bayesbrainGPT.utility_function.utility_base\n",
    "import aicons.bayesbrainGPT.utility_function.linear_utility\n",
    "import aicons.bayesbrainGPT.utility_function\n",
    "import aicons.definitions.aicon\n",
    "\n",
    "# Now we can reload them\n",
    "importlib.reload(aicons.bayesbrainGPT.bayes_brain_ref)\n",
    "importlib.reload(aicons.bayesbrainGPT.utility_function.utility_base)\n",
    "importlib.reload(aicons.bayesbrainGPT.utility_function)  # Reload the package first\n",
    "importlib.reload(aicons.definitions.aicon)\n",
    "importlib.reload(aicons.bayesbrainGPT)\n",
    "importlib.reload(aicons)\n",
    "\n",
    "# Import the classes we need\n",
    "from aicons.definitions.aicon import AIcon"
   ]
  },
  {
   "cell_type": "code",
   "execution_count": null,
   "metadata": {},
   "outputs": [],
   "source": [
    "# Create the AIcon\n",
    "aicon = AIcon(\"marketing_aicon\")\n",
    "print(f\"AIcon created: {aicon.name}\")"
   ]
  },
  {
   "cell_type": "markdown",
   "metadata": {},
   "source": [
    "### Defining Action Space"
   ]
  },
  {
   "cell_type": "code",
   "execution_count": null,
   "metadata": {},
   "outputs": [],
   "source": [
    "# Define an action space\n",
    "aicon.define_action_space(\n",
    "    space_type='marketing',\n",
    "    total_budget=1000.0,\n",
    "    num_ads=2,\n",
    "    budget_step=100.0,\n",
    "    ad_names=['google', 'facebook']\n",
    ")"
   ]
  },
  {
   "cell_type": "code",
   "execution_count": null,
   "metadata": {},
   "outputs": [],
   "source": [
    "print(aicon.brain.action_space.raw_print()) "
   ]
  },
  {
   "cell_type": "markdown",
   "metadata": {},
   "source": [
    "### Defining Utility Function"
   ]
  },
  {
   "cell_type": "code",
   "execution_count": null,
   "metadata": {},
   "outputs": [],
   "source": [
    "utility = aicon.define_utility_function(\n",
    "    utility_type='linear',\n",
    "    name=\"Marketing Budget Utility\",\n",
    "    weights={'google': 0.6, 'facebook': 0.4}\n",
    ")"
   ]
  },
  {
   "cell_type": "markdown",
   "metadata": {},
   "source": [
    "### Defining State Rep State"
   ]
  },
  {
   "cell_type": "code",
   "execution_count": null,
   "metadata": {},
   "outputs": [],
   "source": [
    "# Add root factors (with empty relationships)\n",
    "aicon.add_state_factor(\n",
    "    name=\"market_size\",\n",
    "    factor_type=\"continuous\",\n",
    "    value=10000.0,\n",
    "    params={\n",
    "        \"loc\": 10000.0,\n",
    "        \"scale\": 1000.0,\n",
    "        \"constraints\": {\"lower\": 0}\n",
    "    },\n",
    "    relationships={\n",
    "        \"depends_on\": []  # Empty list for root factor\n",
    "    }\n",
    ")\n",
    "\n",
    "aicon.add_state_factor(\n",
    "    name=\"competition_level\",\n",
    "    factor_type=\"categorical\",\n",
    "    value=\"medium\",\n",
    "    params={\n",
    "        \"categories\": [\"low\", \"medium\", \"high\"],\n",
    "        \"probs\": [0.2, 0.5, 0.3]\n",
    "    },\n",
    "    relationships={\n",
    "        \"depends_on\": []  # Empty list for root factor\n",
    "    }\n",
    ")\n",
    "\n",
    "# Add dependent factors\n",
    "aicon.add_state_factor(\n",
    "    name=\"conversion_rate\",\n",
    "    factor_type=\"continuous\",\n",
    "    value=0.02,\n",
    "    params={\n",
    "        \"loc\": 0.02,\n",
    "        \"scale\": 0.005,\n",
    "        \"constraints\": {\"lower\": 0, \"upper\": 1}\n",
    "    },\n",
    "    relationships={\n",
    "        \"depends_on\": [\"market_size\", \"competition_level\"]\n",
    "    }\n",
    ")\n",
    "\n",
    "aicon.add_state_factor(\n",
    "    name=\"customer_acquisition_cost\",\n",
    "    factor_type=\"continuous\",\n",
    "    value=50.0,\n",
    "    params={\n",
    "        \"loc\": 50.0,\n",
    "        \"scale\": 10.0,\n",
    "        \"constraints\": {\"lower\": 0}\n",
    "    },\n",
    "    relationships={\n",
    "        \"depends_on\": [\"competition_level\"]\n",
    "    }\n",
    ")\n",
    "\n",
    "# Add a discrete factor for number of competitors\n",
    "aicon.add_state_factor(\n",
    "    name=\"num_competitors\",\n",
    "    factor_type=\"discrete\",\n",
    "    value=5,\n",
    "    params={\n",
    "        \"rate\": 5.0  # Poisson distribution parameter\n",
    "    },\n",
    "    relationships={\n",
    "        \"depends_on\": []  # Empty list for root factor\n",
    "    }\n",
    ")"
   ]
  },
  {
   "cell_type": "code",
   "execution_count": null,
   "metadata": {},
   "outputs": [],
   "source": [
    "print(aicon.brain.state)"
   ]
  },
  {
   "cell_type": "markdown",
   "metadata": {},
   "source": [
    "### Perception"
   ]
  },
  {
   "cell_type": "code",
   "execution_count": null,
   "metadata": {},
   "outputs": [],
   "source": [
    "# Try to update beliefs without any sensors\n",
    "print(\"Current state before update:\")\n",
    "print(aicon.get_state())"
   ]
  },
  {
   "cell_type": "markdown",
   "metadata": {},
   "source": [
    "## Sensors"
   ]
  },
  {
   "cell_type": "code",
   "execution_count": 1,
   "metadata": {},
   "outputs": [],
   "source": [
    "import sys\n",
    "import os\n",
    "import numpy as np\n",
    "from pathlib import Path\n",
    "from datetime import datetime\n",
    "import importlib  # For reloading modules during testing\n",
    "\n",
    "# Add parent directory to path for imports\n",
    "notebook_dir = Path.cwd()\n",
    "project_root = notebook_dir.parent\n",
    "sys.path.append(str(project_root))\n",
    "\n",
    "# Import all necessary modules first\n",
    "import aicons.bayesbrainGPT.bayes_brain_ref\n",
    "import aicons.bayesbrainGPT.utility_function.utility_base\n",
    "import aicons.bayesbrainGPT.utility_function.linear_utility\n",
    "import aicons.bayesbrainGPT.utility_function\n",
    "import aicons.definitions.aicon\n",
    "\n",
    "# Now we can reload them\n",
    "importlib.reload(aicons.bayesbrainGPT.bayes_brain_ref)\n",
    "importlib.reload(aicons.bayesbrainGPT.utility_function.utility_base)\n",
    "importlib.reload(aicons.bayesbrainGPT.utility_function)  # Reload the package first\n",
    "importlib.reload(aicons.definitions.aicon)\n",
    "importlib.reload(aicons.bayesbrainGPT)\n",
    "importlib.reload(aicons)\n",
    "\n",
    "# Import the classes we need\n",
    "from aicons.definitions.aicon import AIcon\n",
    "from aicons.bayesbrainGPT.sensors.meta_s.meta_ads_sales_sensor import MetaAdsSalesSensor\n"
   ]
  },
  {
   "cell_type": "code",
   "execution_count": null,
   "metadata": {},
   "outputs": [],
   "source": [
    "# Create the AIcon\n",
    "aicon = AIcon(\"marketing_aicon\")\n",
    "print(f\"AIcon created: {aicon.name}\")"
   ]
  },
  {
   "cell_type": "code",
   "execution_count": null,
   "metadata": {},
   "outputs": [],
   "source": [
    "# Define an action space\n",
    "aicon.define_action_space(\n",
    "    space_type='marketing',\n",
    "    total_budget=1000.0,\n",
    "    num_ads=2,\n",
    "    budget_step=100.0,\n",
    "    ad_names=['google', 'facebook']\n",
    ")"
   ]
  },
  {
   "cell_type": "code",
   "execution_count": null,
   "metadata": {},
   "outputs": [],
   "source": [
    "print(aicon.brain.action_space.raw_print())"
   ]
  },
  {
   "cell_type": "code",
   "execution_count": null,
   "metadata": {},
   "outputs": [],
   "source": [
    "# Define a utility function\n",
    "utility = aicon.define_utility_function(\n",
    "    utility_type='linear',\n",
    "    name=\"Marketing Budget Utility\",\n",
    "    weights={'google': 0.6, 'facebook': 0.4}\n",
    ")"
   ]
  },
  {
   "cell_type": "code",
   "execution_count": null,
   "metadata": {},
   "outputs": [],
   "source": [
    "aicon.add_state_factor(\n",
    "    name=\"purchases\",\n",
    "    factor_type=\"continuous\",\n",
    "    value=0.0,\n",
    "    params={\n",
    "        \"loc\": 0.0,\n",
    "        \"scale\": 1.0,\n",
    "        \"constraints\": {\"lower\": 0}\n",
    "    },\n",
    "    relationships={\n",
    "        \"depends_on\": []  # Empty list for root factor\n",
    "    }\n",
    ")\n",
    "\n",
    "aicon.add_state_factor(\n",
    "    name=\"add_to_carts\",\n",
    "    factor_type=\"continuous\",\n",
    "    value=0.0,\n",
    "    params={\n",
    "        \"loc\": 0.0,\n",
    "        \"scale\": 5.0,\n",
    "        \"constraints\": {\"lower\": 0}\n",
    "    },\n",
    "    relationships={\n",
    "        \"depends_on\": []  # Empty list for root factor\n",
    "    }\n",
    ")\n",
    "\n",
    "aicon.add_state_factor(\n",
    "    name=\"initiated_checkouts\",\n",
    "    factor_type=\"continuous\",\n",
    "    value=0.0,\n",
    "    params={\n",
    "        \"loc\": 0.0,\n",
    "        \"scale\": 2.0,\n",
    "        \"constraints\": {\"lower\": 0}\n",
    "    },\n",
    "    relationships={\n",
    "        \"depends_on\": []  # Empty list for root factor\n",
    "    }\n",
    ")"
   ]
  },
  {
   "cell_type": "code",
   "execution_count": null,
   "metadata": {},
   "outputs": [],
   "source": [
    "print(aicon.brain.state)"
   ]
  },
  {
   "cell_type": "code",
   "execution_count": null,
   "metadata": {},
   "outputs": [],
   "source": [
    "# Your Meta API credentials\n",
    "access_token = \"EAAZAn8wmq1IEBOZCz8oyDZBBgiazAgnQKIoAr4mFTbkV7jxi6t3APzOSxFybXNIkBgwQACdagbs5lFE8tpnNOBOOpWtS3KjZAdf9MNAlySpwEaDrX32oQwUTNmOZAaSXjT5Os5Q8YqRo57tXOUukB7QtcO8nQ8JuqrnnshCr7A0giynZBnJKfuPakrZBWoZD\"\n",
    "ad_account_id = \"act_252267674525035\"\n",
    "campaign_id = \"120218631288730217\"\n",
    "\n",
    "# Create the Meta Ads Sensor\n",
    "sensor = MetaAdsSalesSensor(\n",
    "    name=\"meta_ads\",\n",
    "    reliability=0.9,\n",
    "    access_token=access_token,\n",
    "    ad_account_id=ad_account_id,\n",
    "    campaign_id=campaign_id,\n",
    "    api_version=\"v18.0\",\n",
    "    time_granularity=\"hour\"\n",
    ")\n",
    "\n",
    "# Add the sensor to the AIcon\n",
    "aicon.add_sensor(\"meta_ads\", sensor)\n",
    "print(\"Meta Ads sensor added\")"
   ]
  },
  {
   "cell_type": "code",
   "execution_count": null,
   "metadata": {},
   "outputs": [],
   "source": [
    "# Get active ads to understand what we're working with\n",
    "active_ads = sensor.get_active_ads()\n",
    "print(f\"Found {len(active_ads)} active ads\")\n",
    "for ad in active_ads:\n",
    "    print(f\"- Ad ID: {ad['ad_id']}, Name: {ad['ad_name']}\")"
   ]
  },
  {
   "cell_type": "code",
   "execution_count": null,
   "metadata": {},
   "outputs": [],
   "source": [
    "aicon.update_from_sensor(\"meta_ads\")"
   ]
  },
  {
   "cell_type": "code",
   "execution_count": null,
   "metadata": {},
   "outputs": [],
   "source": []
  }
 ],
 "metadata": {
  "kernelspec": {
   "display_name": "babel-PAVoc7qP-py3.12",
   "language": "python",
   "name": "python3"
  },
  "language_info": {
   "codemirror_mode": {
    "name": "ipython",
    "version": 3
   },
   "file_extension": ".py",
   "mimetype": "text/x-python",
   "name": "python",
   "nbconvert_exporter": "python",
   "pygments_lexer": "ipython3",
   "version": "3.12.7"
  }
 },
 "nbformat": 4,
 "nbformat_minor": 2
}
