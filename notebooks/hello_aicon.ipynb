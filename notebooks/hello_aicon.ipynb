{
 "cells": [
  {
   "cell_type": "markdown",
   "metadata": {},
   "source": [
    "# Aicon 1"
   ]
  },
  {
   "cell_type": "markdown",
   "metadata": {},
   "source": [
    "## Action Making"
   ]
  },
  {
   "cell_type": "code",
   "execution_count": 1,
   "metadata": {},
   "outputs": [],
   "source": [
    "# Chunk 1: Imports\n",
    "import sys\n",
    "import os\n",
    "import numpy as np\n",
    "import matplotlib.pyplot as plt\n",
    "from pathlib import Path\n",
    "from datetime import datetime\n",
    "\n",
    "# Add parent directory to path for imports\n",
    "notebook_dir = Path.cwd()\n",
    "project_root = notebook_dir.parent\n",
    "sys.path.append(str(project_root))\n",
    "\n",
    "# Import the required classes\n",
    "from aicons.definitions.aicon import AIcon\n",
    "from aicons.bayesbrainGPT.sensors.meta_s.meta_ads_sales_sensor import MetaAdsSalesSensor"
   ]
  },
  {
   "cell_type": "code",
   "execution_count": 2,
   "metadata": {},
   "outputs": [
    {
     "name": "stdout",
     "output_type": "stream",
     "text": [
      "AIcon created: marketing_aicon\n"
     ]
    }
   ],
   "source": [
    "# Chunk 2: Create AIcon\n",
    "aicon = AIcon(\"marketing_aicon\")\n",
    "print(f\"AIcon created: {aicon.name}\")"
   ]
  },
  {
   "cell_type": "code",
   "execution_count": 3,
   "metadata": {},
   "outputs": [
    {
     "data": {
      "text/plain": [
       "ContinuousLatentVariable(name='initiated_checkouts', value=0.0, description='')"
      ]
     },
     "execution_count": 3,
     "metadata": {},
     "output_type": "execute_result"
    }
   ],
   "source": [
    "aicon.add_state_factor(\n",
    "    name=\"purchases\",\n",
    "    factor_type=\"continuous\",\n",
    "    value=0.0,\n",
    "    params={\n",
    "        \"loc\": 0.0,\n",
    "        \"scale\": 1.0,\n",
    "        \"constraints\": {\"lower\": 0}\n",
    "    },\n",
    "    relationships={\n",
    "        \"depends_on\": []  # Empty list for root factor\n",
    "    }\n",
    ")\n",
    "\n",
    "aicon.add_state_factor(\n",
    "    name=\"add_to_carts\",\n",
    "    factor_type=\"continuous\",\n",
    "    value=0.0,\n",
    "    params={\n",
    "        \"loc\": 0.0,\n",
    "        \"scale\": 5.0,\n",
    "        \"constraints\": {\"lower\": 0}\n",
    "    },\n",
    "    relationships={\n",
    "        \"depends_on\": []  # Empty list for root factor\n",
    "    }\n",
    ")\n",
    "\n",
    "aicon.add_state_factor(\n",
    "    name=\"initiated_checkouts\",\n",
    "    factor_type=\"continuous\",\n",
    "    value=0.0,\n",
    "    params={\n",
    "        \"loc\": 0.0,\n",
    "        \"scale\": 2.0,\n",
    "        \"constraints\": {\"lower\": 0}\n",
    "    },\n",
    "    relationships={\n",
    "        \"depends_on\": []  # Empty list for root factor\n",
    "    }\n",
    ")"
   ]
  },
  {
   "cell_type": "code",
   "execution_count": 4,
   "metadata": {},
   "outputs": [
    {
     "name": "stdout",
     "output_type": "stream",
     "text": [
      "✅ Successfully initialized Meta Ads API vv18.0 for account act_252267674525035\n",
      "Found 4 ad sets in campaign 120218631288730217\n",
      "Found 18 ads in 4 ad sets\n",
      "Found 3 active ads out of 18 total ads\n",
      "Found 3 active ads\n",
      "- Ad ID: 120219681574260217, Name: Anuncio 7 - Carrusel No es lo Mismo - Nata\n",
      "- Ad ID: 120218907658700217, Name: Anuncio 4 - Carrusel 1 - Rancho\n",
      "- Ad ID: 120218905466570217, Name: Anuncio 2 - Carrusel 1 (3 artistas)\n",
      "Number of factors: 21\n",
      "Factor names: purchases, add_to_carts, initiated_checkouts, ad_120219681574260217_purchases, ad_120219681574260217_add_to_carts, ad_120219681574260217_initiated_checkouts, ad_120219681574260217_impressions, ad_120219681574260217_clicks, ad_120219681574260217_spend, ad_120218907658700217_purchases...\n",
      "Auto-creating missing factor: ad_120219681574260217_purchases (continuous)\n",
      "Auto-creating missing factor: ad_120219681574260217_add_to_carts (continuous)\n",
      "Auto-creating missing factor: ad_120219681574260217_initiated_checkouts (continuous)\n",
      "Auto-creating missing factor: ad_120219681574260217_impressions (continuous)\n",
      "Auto-creating missing factor: ad_120219681574260217_clicks (continuous)\n",
      "Auto-creating missing factor: ad_120219681574260217_spend (continuous)\n",
      "Auto-creating missing factor: ad_120218907658700217_purchases (continuous)\n",
      "Auto-creating missing factor: ad_120218907658700217_add_to_carts (continuous)\n",
      "Auto-creating missing factor: ad_120218907658700217_initiated_checkouts (continuous)\n",
      "Auto-creating missing factor: ad_120218907658700217_impressions (continuous)\n",
      "Auto-creating missing factor: ad_120218907658700217_clicks (continuous)\n",
      "Auto-creating missing factor: ad_120218907658700217_spend (continuous)\n",
      "Auto-creating missing factor: ad_120218905466570217_purchases (continuous)\n",
      "Auto-creating missing factor: ad_120218905466570217_add_to_carts (continuous)\n",
      "Auto-creating missing factor: ad_120218905466570217_initiated_checkouts (continuous)\n",
      "Auto-creating missing factor: ad_120218905466570217_impressions (continuous)\n",
      "Auto-creating missing factor: ad_120218905466570217_clicks (continuous)\n",
      "Auto-creating missing factor: ad_120218905466570217_spend (continuous)\n",
      "Meta Ads sensor added\n"
     ]
    }
   ],
   "source": [
    "# Chunk 3: Setup Meta Ads sensor\n",
    "access_token = \"EAAZAn8wmq1IEBOZCz8oyDZBBgiazAgnQKIoAr4mFTbkV7jxi6t3APzOSxFybXNIkBgwQACdagbs5lFE8tpnNOBOOpWtS3KjZAdf9MNAlySpwEaDrX32oQwUTNmOZAaSXjT5Os5Q8YqRo57tXOUukB7QtcO8nQ8JuqrnnshCr7A0giynZBnJKfuPakrZBWoZD\"\n",
    "ad_account_id = \"act_252267674525035\"\n",
    "campaign_id = \"120218631288730217\"\n",
    "\n",
    "sensor = MetaAdsSalesSensor(\n",
    "    name=\"meta_ads\",\n",
    "    reliability=0.9,\n",
    "    access_token=access_token,\n",
    "    ad_account_id=ad_account_id,\n",
    "    campaign_id=campaign_id,\n",
    "    api_version=\"v18.0\",\n",
    "    time_granularity=\"hour\"\n",
    ")\n",
    "\n",
    "aicon.add_sensor(\"meta_ads\", sensor)\n",
    "print(\"Meta Ads sensor added\")"
   ]
  },
  {
   "cell_type": "code",
   "execution_count": 5,
   "metadata": {},
   "outputs": [
    {
     "data": {
      "text/plain": [
       "ActionSpace(dimensions=2, constraints=1)"
      ]
     },
     "execution_count": 5,
     "metadata": {},
     "output_type": "execute_result"
    }
   ],
   "source": [
    "# Chunk 4: Define action space\n",
    "aicon.define_action_space(\n",
    "    space_type='marketing',\n",
    "    total_budget=1000.0,\n",
    "    num_ads=2,\n",
    "    budget_step=100.0,\n",
    "    ad_names=['google', 'facebook']\n",
    ")"
   ]
  },
  {
   "cell_type": "code",
   "execution_count": 6,
   "metadata": {},
   "outputs": [
    {
     "name": "stdout",
     "output_type": "stream",
     "text": [
      "dimensions: ['google_budget: [0.0, 1000.0] step=100.0', 'facebook_budget: [0.0, 1000.0] step=100.0']\n",
      "constraints: ['<function create_marketing_ads_space.<locals>.budget_sum_constraint at 0x1599e9760>']\n",
      "actions: [{'google_budget': np.float64(0.0), 'facebook_budget': np.float64(1000.0)}, {'google_budget': np.float64(100.0), 'facebook_budget': np.float64(900.0)}, {'google_budget': np.float64(200.0), 'facebook_budget': np.float64(800.0)}, {'google_budget': np.float64(300.0), 'facebook_budget': np.float64(700.0)}, {'google_budget': np.float64(400.0), 'facebook_budget': np.float64(600.0)}, {'google_budget': np.float64(500.0), 'facebook_budget': np.float64(500.0)}, {'google_budget': np.float64(600.0), 'facebook_budget': np.float64(400.0)}, {'google_budget': np.float64(700.0), 'facebook_budget': np.float64(300.0)}, {'google_budget': np.float64(800.0), 'facebook_budget': np.float64(200.0)}, {'google_budget': np.float64(900.0), 'facebook_budget': np.float64(100.0)}, {'google_budget': np.float64(1000.0), 'facebook_budget': np.float64(0.0)}]\n"
     ]
    }
   ],
   "source": [
    "print(aicon.brain.action_space.raw_print())"
   ]
  },
  {
   "cell_type": "code",
   "execution_count": 7,
   "metadata": {},
   "outputs": [
    {
     "name": "stdout",
     "output_type": "stream",
     "text": [
      "\n",
      "Utility Function: LinearUtility: Σ(weights * values) where weights = [tf.Tensor(0.6, shape=(), dtype=float32), tf.Tensor(0.4, shape=(), dtype=float32)]\n"
     ]
    }
   ],
   "source": [
    "# Chunk 5: Define utility function\n",
    "utility = aicon.define_utility_function(\n",
    "    utility_type='linear',\n",
    "    name=\"Marketing Budget Utility\",\n",
    "    weights={'google': 0.6, 'facebook': 0.4}\n",
    ")"
   ]
  },
  {
   "cell_type": "code",
   "execution_count": 8,
   "metadata": {},
   "outputs": [
    {
     "name": "stdout",
     "output_type": "stream",
     "text": [
      "Updating beliefs from Meta Ads sensor...\n",
      "\n",
      "=== Starting Belief Update ===\n",
      "Current time: 2025-03-27 20:51:02\n",
      "No posterior samples available\n",
      "Campaign objective: OUTCOME_SALES\n",
      "Found 4 ad sets in campaign 120218631288730217\n",
      "Found 18 ads in 4 ad sets\n",
      "Trying date_preset: today\n",
      "Fetching data for 18 ads with today preset...\n",
      "Retrieved 79 records\n",
      "Found latest hour: 20:00:00 - 20:59:59\n",
      "Filtered to 3 records for hour 20:00:00 - 20:59:59\n",
      "Found 3 hourly records\n",
      "Extracted factors for 3 ads\n",
      "Example ad IDs: 120218905466570217, 120218907658700217, 120219681574260217\n",
      "Example factor names: purchases, add_to_carts, initiated_checkouts, ad_120218905466570217_purchases, ad_120218905466570217_add_to_carts, ad_120218905466570217_initiated_checkouts, ad_120218905466570217_impressions, ad_120218905466570217_clicks, ad_120218905466570217_spend, ad_120218907658700217_purchases\n",
      "Mapping observation: purchases → purchases\n",
      "Mapping observation: add_to_carts → add_to_carts\n",
      "Mapping observation: initiated_checkouts → initiated_checkouts\n",
      "Mapping observation: ad_120218905466570217_purchases → ad_120218905466570217_purchases\n",
      "Mapping observation: ad_120218905466570217_add_to_carts → ad_120218905466570217_add_to_carts\n",
      "Mapping observation: ad_120218905466570217_initiated_checkouts → ad_120218905466570217_initiated_checkouts\n",
      "Mapping observation: ad_120218905466570217_impressions → ad_120218905466570217_impressions\n",
      "Mapping observation: ad_120218905466570217_clicks → ad_120218905466570217_clicks\n",
      "Mapping observation: ad_120218905466570217_spend → ad_120218905466570217_spend\n",
      "Mapping observation: ad_120218907658700217_purchases → ad_120218907658700217_purchases\n",
      "Mapping observation: ad_120218907658700217_add_to_carts → ad_120218907658700217_add_to_carts\n",
      "Mapping observation: ad_120218907658700217_initiated_checkouts → ad_120218907658700217_initiated_checkouts\n",
      "Mapping observation: ad_120218907658700217_impressions → ad_120218907658700217_impressions\n",
      "Mapping observation: ad_120218907658700217_clicks → ad_120218907658700217_clicks\n",
      "Mapping observation: ad_120218907658700217_spend → ad_120218907658700217_spend\n",
      "Mapping observation: ad_120219681574260217_purchases → ad_120219681574260217_purchases\n",
      "Mapping observation: ad_120219681574260217_add_to_carts → ad_120219681574260217_add_to_carts\n",
      "Mapping observation: ad_120219681574260217_initiated_checkouts → ad_120219681574260217_initiated_checkouts\n",
      "Mapping observation: ad_120219681574260217_impressions → ad_120219681574260217_impressions\n",
      "Mapping observation: ad_120219681574260217_clicks → ad_120219681574260217_clicks\n",
      "Mapping observation: ad_120219681574260217_spend → ad_120219681574260217_spend\n",
      "Sampling posterior distribution...\n",
      "Setting up MCMC sampling for 21 observations...\n",
      "Running MCMC sampling...\n"
     ]
    },
    {
     "name": "stderr",
     "output_type": "stream",
     "text": [
      "/Users/infa/Library/Caches/pypoetry/virtualenvs/babel-PAVoc7qP-py3.12/lib/python3.12/site-packages/tensorflow_probability/python/__init__.py:70: UserWarning: TensorFloat-32 matmul/conv are enabled for NVIDIA Ampere+ GPUs. The resulting loss of precision may hinder MCMC convergence. To turn off, run `tf.config.experimental.enable_tensor_float_32_execution(False)`. For more detail, see https://github.com/tensorflow/community/pull/287.\n",
      "  warnings.warn(\n"
     ]
    },
    {
     "name": "stdout",
     "output_type": "stream",
     "text": [
      "Acceptance rate: 59.20%\n",
      "Sample statistics:\n",
      "  purchases: mean=0.0500, std=3.0686\n",
      "  add_to_carts: mean=-0.1116, std=3.2976\n",
      "  initiated_checkouts: mean=1.0059, std=3.6670\n",
      "  ad_120218905466570217_purchases: mean=-0.0140, std=4.0340\n",
      "  ad_120218905466570217_add_to_carts: mean=0.0542, std=3.5799\n",
      "  ad_120218905466570217_initiated_checkouts: mean=0.0013, std=3.4215\n",
      "  ad_120218905466570217_impressions: mean=-127.9941, std=153.0407\n",
      "  ad_120218905466570217_clicks: mean=16.9469, std=3.5720\n",
      "  ad_120218905466570217_spend: mean=61.5941, std=3.9178\n",
      "  ad_120218907658700217_purchases: mean=0.0600, std=3.3585\n",
      "  ad_120218907658700217_add_to_carts: mean=-0.0302, std=3.6522\n",
      "  ad_120218907658700217_initiated_checkouts: mean=0.0332, std=3.5464\n",
      "  ad_120218907658700217_impressions: mean=101.4917, std=108.4646\n",
      "  ad_120218907658700217_clicks: mean=5.0021, std=3.4418\n",
      "  ad_120218907658700217_spend: mean=22.2025, std=3.8643\n",
      "  ad_120219681574260217_purchases: mean=-0.0010, std=3.6445\n",
      "  ad_120219681574260217_add_to_carts: mean=-0.1131, std=3.9471\n",
      "  ad_120219681574260217_initiated_checkouts: mean=1.0050, std=3.7353\n",
      "  ad_120219681574260217_impressions: mean=48.7975, std=120.7330\n",
      "  ad_120219681574260217_clicks: mean=16.1375, std=3.6074\n",
      "  ad_120219681574260217_spend: mean=55.3580, std=3.1334\n",
      "\n",
      "Updating state factors from posterior:\n",
      "  purchases: 0.0000 -> 0.0500 (std: 3.0686)\n",
      "  add_to_carts: 0.0000 -> -0.1116 (std: 3.2976)\n",
      "  initiated_checkouts: 0.0000 -> 1.0059 (std: 3.6670)\n",
      "  ad_120218905466570217_purchases: 0.0000 -> -0.0140 (std: 4.0340)\n",
      "  ad_120218905466570217_add_to_carts: 0.0000 -> 0.0542 (std: 3.5799)\n",
      "  ad_120218905466570217_initiated_checkouts: 0.0000 -> 0.0013 (std: 3.4215)\n",
      "  ad_120218905466570217_impressions: 0.0000 -> -127.9941 (std: 153.0407)\n",
      "  ad_120218905466570217_clicks: 0.0000 -> 16.9469 (std: 3.5720)\n",
      "  ad_120218905466570217_spend: 0.0000 -> 61.5941 (std: 3.9178)\n",
      "  ad_120218907658700217_purchases: 0.0000 -> 0.0600 (std: 3.3585)\n",
      "  ad_120218907658700217_add_to_carts: 0.0000 -> -0.0302 (std: 3.6522)\n",
      "  ad_120218907658700217_initiated_checkouts: 0.0000 -> 0.0332 (std: 3.5464)\n",
      "  ad_120218907658700217_impressions: 0.0000 -> 101.4917 (std: 108.4646)\n",
      "  ad_120218907658700217_clicks: 0.0000 -> 5.0021 (std: 3.4418)\n",
      "  ad_120218907658700217_spend: 0.0000 -> 22.2025 (std: 3.8643)\n",
      "  ad_120219681574260217_purchases: 0.0000 -> -0.0010 (std: 3.6445)\n",
      "  ad_120219681574260217_add_to_carts: 0.0000 -> -0.1131 (std: 3.9471)\n",
      "  ad_120219681574260217_initiated_checkouts: 0.0000 -> 1.0050 (std: 3.7353)\n",
      "  ad_120219681574260217_impressions: 0.0000 -> 48.7975 (std: 120.7330)\n",
      "  ad_120219681574260217_clicks: 0.0000 -> 16.1375 (std: 3.6074)\n",
      "  ad_120219681574260217_spend: 0.0000 -> 55.3580 (std: 3.1334)\n",
      "Campaign objective: OUTCOME_SALES\n",
      "Found 4 ad sets in campaign 120218631288730217\n",
      "Found 18 ads in 4 ad sets\n",
      "Trying date_preset: today\n",
      "Fetching data for 18 ads with today preset...\n",
      "Retrieved 79 records\n",
      "Found latest hour: 20:00:00 - 20:59:59\n",
      "Filtered to 3 records for hour 20:00:00 - 20:59:59\n",
      "Found 3 hourly records\n",
      "Extracted factors for 3 ads\n",
      "Example ad IDs: 120218905466570217, 120218907658700217, 120219681574260217\n",
      "Example factor names: purchases, add_to_carts, initiated_checkouts, ad_120218905466570217_purchases, ad_120218905466570217_add_to_carts, ad_120218905466570217_initiated_checkouts, ad_120218905466570217_impressions, ad_120218905466570217_clicks, ad_120218905466570217_spend, ad_120218907658700217_purchases\n",
      "Sampling posterior distribution...\n",
      "Setting up MCMC sampling for 21 observations...\n",
      "Running MCMC sampling...\n",
      "Acceptance rate: 60.80%\n",
      "Sample statistics:\n",
      "  purchases: mean=-0.0547, std=4.0237\n",
      "  add_to_carts: mean=0.1731, std=2.9516\n",
      "  initiated_checkouts: mean=0.9504, std=3.3939\n",
      "  ad_120218905466570217_purchases: mean=0.0807, std=3.5967\n",
      "  ad_120218905466570217_add_to_carts: mean=0.1075, std=4.4056\n",
      "  ad_120218905466570217_initiated_checkouts: mean=0.1839, std=3.2576\n",
      "  ad_120218905466570217_impressions: mean=-138.1322, std=49.6746\n",
      "  ad_120218905466570217_clicks: mean=17.0382, std=3.2723\n",
      "  ad_120218905466570217_spend: mean=61.6648, std=3.2224\n",
      "  ad_120218907658700217_purchases: mean=-0.0433, std=3.7162\n",
      "  ad_120218907658700217_add_to_carts: mean=0.0649, std=3.6029\n",
      "  ad_120218907658700217_initiated_checkouts: mean=-0.0215, std=3.2813\n",
      "  ad_120218907658700217_impressions: mean=-229.0236, std=68.1973\n",
      "  ad_120218907658700217_clicks: mean=4.9604, std=3.4789\n",
      "  ad_120218907658700217_spend: mean=22.4905, std=4.7183\n",
      "  ad_120219681574260217_purchases: mean=-0.0022, std=3.4598\n",
      "  ad_120219681574260217_add_to_carts: mean=0.0826, std=3.4696\n",
      "  ad_120219681574260217_initiated_checkouts: mean=0.9049, std=3.3298\n",
      "  ad_120219681574260217_impressions: mean=-259.5476, std=127.9602\n",
      "  ad_120219681574260217_clicks: mean=16.0946, std=3.3976\n",
      "  ad_120219681574260217_spend: mean=55.2998, std=4.0317\n",
      "Updated posterior samples at 2025-03-27 20:51:17\n",
      "\n",
      "Posterior Sample Statistics:\n",
      "- purchases:\n",
      "  Mean: -0.055\n",
      "  Std: 4.024\n",
      "  Min: -12.841\n",
      "  Max: 12.147\n",
      "- add_to_carts:\n",
      "  Mean: 0.173\n",
      "  Std: 2.952\n",
      "  Min: -8.840\n",
      "  Max: 8.414\n",
      "- initiated_checkouts:\n",
      "  Mean: 0.950\n",
      "  Std: 3.394\n",
      "  Min: -9.762\n",
      "  Max: 10.698\n",
      "- ad_120218905466570217_purchases:\n",
      "  Mean: 0.081\n",
      "  Std: 3.597\n",
      "  Min: -9.335\n",
      "  Max: 9.534\n",
      "- ad_120218905466570217_add_to_carts:\n",
      "  Mean: 0.108\n",
      "  Std: 4.406\n",
      "  Min: -13.057\n",
      "  Max: 12.846\n",
      "- ad_120218905466570217_initiated_checkouts:\n",
      "  Mean: 0.184\n",
      "  Std: 3.258\n",
      "  Min: -8.476\n",
      "  Max: 9.316\n",
      "- ad_120218905466570217_impressions:\n",
      "  Mean: -138.132\n",
      "  Std: 49.675\n",
      "  Min: -254.478\n",
      "  Max: -9.154\n",
      "- ad_120218905466570217_clicks:\n",
      "  Mean: 17.038\n",
      "  Std: 3.272\n",
      "  Min: 7.296\n",
      "  Max: 28.102\n",
      "- ad_120218905466570217_spend:\n",
      "  Mean: 61.665\n",
      "  Std: 3.222\n",
      "  Min: 52.720\n",
      "  Max: 70.320\n",
      "- ad_120218907658700217_purchases:\n",
      "  Mean: -0.043\n",
      "  Std: 3.716\n",
      "  Min: -12.505\n",
      "  Max: 12.365\n",
      "- ad_120218907658700217_add_to_carts:\n",
      "  Mean: 0.065\n",
      "  Std: 3.603\n",
      "  Min: -9.290\n",
      "  Max: 10.142\n",
      "- ad_120218907658700217_initiated_checkouts:\n",
      "  Mean: -0.021\n",
      "  Std: 3.281\n",
      "  Min: -10.813\n",
      "  Max: 10.901\n",
      "- ad_120218907658700217_impressions:\n",
      "  Mean: -229.024\n",
      "  Std: 68.197\n",
      "  Min: -444.482\n",
      "  Max: -71.854\n",
      "- ad_120218907658700217_clicks:\n",
      "  Mean: 4.960\n",
      "  Std: 3.479\n",
      "  Min: -5.855\n",
      "  Max: 14.960\n",
      "- ad_120218907658700217_spend:\n",
      "  Mean: 22.490\n",
      "  Std: 4.718\n",
      "  Min: 6.716\n",
      "  Max: 36.082\n",
      "- ad_120219681574260217_purchases:\n",
      "  Mean: -0.002\n",
      "  Std: 3.460\n",
      "  Min: -9.510\n",
      "  Max: 9.513\n",
      "- ad_120219681574260217_add_to_carts:\n",
      "  Mean: 0.083\n",
      "  Std: 3.470\n",
      "  Min: -10.181\n",
      "  Max: 9.692\n",
      "- ad_120219681574260217_initiated_checkouts:\n",
      "  Mean: 0.905\n",
      "  Std: 3.330\n",
      "  Min: -9.654\n",
      "  Max: 12.226\n",
      "- ad_120219681574260217_impressions:\n",
      "  Mean: -259.548\n",
      "  Std: 127.960\n",
      "  Min: -494.772\n",
      "  Max: 16.404\n",
      "- ad_120219681574260217_clicks:\n",
      "  Mean: 16.095\n",
      "  Std: 3.398\n",
      "  Min: 5.813\n",
      "  Max: 25.724\n",
      "- ad_120219681574260217_spend:\n",
      "  Mean: 55.300\n",
      "  Std: 4.032\n",
      "  Min: 42.462\n",
      "  Max: 66.977\n",
      "Successfully updated beliefs at 2025-03-27 20:51:17\n",
      "Total updates in history: 1\n"
     ]
    },
    {
     "data": {
      "text/plain": [
       "True"
      ]
     },
     "execution_count": 8,
     "metadata": {},
     "output_type": "execute_result"
    }
   ],
   "source": [
    "# Chunk 6: Update from Meta Ads sensor\n",
    "print(\"Updating beliefs from Meta Ads sensor...\")\n",
    "aicon.update_from_sensor(\"meta_ads\")"
   ]
  },
  {
   "cell_type": "code",
   "execution_count": null,
   "metadata": {},
   "outputs": [],
   "source": [
    "# Get best action using the posterior samples from the update\n",
    "best_action, expected_utility = aicon.brain.find_best_action()\n",
    "print(f\"\\nBest action: {best_action}\")\n",
    "print(f\"Expected utility: {expected_utility:.4f}\")\n"
   ]
  },
  {
   "cell_type": "markdown",
   "metadata": {},
   "source": [
    "-------------------"
   ]
  },
  {
   "cell_type": "code",
   "execution_count": 1,
   "metadata": {},
   "outputs": [],
   "source": [
    "import sys\n",
    "import os\n",
    "import numpy as np\n",
    "from pathlib import Path\n",
    "from datetime import datetime\n",
    "import importlib  # For reloading modules during testing\n",
    "\n",
    "# Add parent directory to path for imports\n",
    "notebook_dir = Path.cwd()\n",
    "project_root = notebook_dir.parent\n",
    "sys.path.append(str(project_root))\n",
    "\n",
    "# Import all necessary modules first\n",
    "import aicons.bayesbrainGPT.bayes_brain_ref\n",
    "import aicons.bayesbrainGPT.utility_function.utility_base\n",
    "import aicons.bayesbrainGPT.utility_function.linear_utility\n",
    "import aicons.bayesbrainGPT.utility_function\n",
    "import aicons.definitions.aicon\n",
    "\n",
    "# Now we can reload them\n",
    "importlib.reload(aicons.bayesbrainGPT.bayes_brain_ref)\n",
    "importlib.reload(aicons.bayesbrainGPT.utility_function.utility_base)\n",
    "importlib.reload(aicons.bayesbrainGPT.utility_function)  # Reload the package first\n",
    "importlib.reload(aicons.definitions.aicon)\n",
    "importlib.reload(aicons.bayesbrainGPT)\n",
    "importlib.reload(aicons)\n",
    "\n",
    "# Import the classes we need\n",
    "from aicons.definitions.aicon import AIcon"
   ]
  },
  {
   "cell_type": "code",
   "execution_count": null,
   "metadata": {},
   "outputs": [],
   "source": [
    "# Create the AIcon\n",
    "aicon = AIcon(\"marketing_aicon\")\n",
    "print(f\"AIcon created: {aicon.name}\")"
   ]
  },
  {
   "cell_type": "markdown",
   "metadata": {},
   "source": [
    "### Defining Action Space"
   ]
  },
  {
   "cell_type": "code",
   "execution_count": null,
   "metadata": {},
   "outputs": [],
   "source": [
    "# Define an action space\n",
    "aicon.define_action_space(\n",
    "    space_type='marketing',\n",
    "    total_budget=1000.0,\n",
    "    num_ads=2,\n",
    "    budget_step=100.0,\n",
    "    ad_names=['google', 'facebook']\n",
    ")"
   ]
  },
  {
   "cell_type": "code",
   "execution_count": null,
   "metadata": {},
   "outputs": [],
   "source": [
    "print(aicon.brain.action_space.raw_print()) "
   ]
  },
  {
   "cell_type": "markdown",
   "metadata": {},
   "source": [
    "### Defining Utility Function"
   ]
  },
  {
   "cell_type": "code",
   "execution_count": null,
   "metadata": {},
   "outputs": [],
   "source": [
    "utility = aicon.define_utility_function(\n",
    "    utility_type='linear',\n",
    "    name=\"Marketing Budget Utility\",\n",
    "    weights={'google': 0.6, 'facebook': 0.4}\n",
    ")"
   ]
  },
  {
   "cell_type": "markdown",
   "metadata": {},
   "source": [
    "### Defining State Rep State"
   ]
  },
  {
   "cell_type": "code",
   "execution_count": null,
   "metadata": {},
   "outputs": [],
   "source": [
    "# Add root factors (with empty relationships)\n",
    "aicon.add_state_factor(\n",
    "    name=\"market_size\",\n",
    "    factor_type=\"continuous\",\n",
    "    value=10000.0,\n",
    "    params={\n",
    "        \"loc\": 10000.0,\n",
    "        \"scale\": 1000.0,\n",
    "        \"constraints\": {\"lower\": 0}\n",
    "    },\n",
    "    relationships={\n",
    "        \"depends_on\": []  # Empty list for root factor\n",
    "    }\n",
    ")\n",
    "\n",
    "aicon.add_state_factor(\n",
    "    name=\"competition_level\",\n",
    "    factor_type=\"categorical\",\n",
    "    value=\"medium\",\n",
    "    params={\n",
    "        \"categories\": [\"low\", \"medium\", \"high\"],\n",
    "        \"probs\": [0.2, 0.5, 0.3]\n",
    "    },\n",
    "    relationships={\n",
    "        \"depends_on\": []  # Empty list for root factor\n",
    "    }\n",
    ")\n",
    "\n",
    "# Add dependent factors\n",
    "aicon.add_state_factor(\n",
    "    name=\"conversion_rate\",\n",
    "    factor_type=\"continuous\",\n",
    "    value=0.02,\n",
    "    params={\n",
    "        \"loc\": 0.02,\n",
    "        \"scale\": 0.005,\n",
    "        \"constraints\": {\"lower\": 0, \"upper\": 1}\n",
    "    },\n",
    "    relationships={\n",
    "        \"depends_on\": [\"market_size\", \"competition_level\"]\n",
    "    }\n",
    ")\n",
    "\n",
    "aicon.add_state_factor(\n",
    "    name=\"customer_acquisition_cost\",\n",
    "    factor_type=\"continuous\",\n",
    "    value=50.0,\n",
    "    params={\n",
    "        \"loc\": 50.0,\n",
    "        \"scale\": 10.0,\n",
    "        \"constraints\": {\"lower\": 0}\n",
    "    },\n",
    "    relationships={\n",
    "        \"depends_on\": [\"competition_level\"]\n",
    "    }\n",
    ")\n",
    "\n",
    "# Add a discrete factor for number of competitors\n",
    "aicon.add_state_factor(\n",
    "    name=\"num_competitors\",\n",
    "    factor_type=\"discrete\",\n",
    "    value=5,\n",
    "    params={\n",
    "        \"rate\": 5.0  # Poisson distribution parameter\n",
    "    },\n",
    "    relationships={\n",
    "        \"depends_on\": []  # Empty list for root factor\n",
    "    }\n",
    ")"
   ]
  },
  {
   "cell_type": "code",
   "execution_count": null,
   "metadata": {},
   "outputs": [],
   "source": [
    "print(aicon.brain.state)"
   ]
  },
  {
   "cell_type": "markdown",
   "metadata": {},
   "source": [
    "### Perception"
   ]
  },
  {
   "cell_type": "code",
   "execution_count": null,
   "metadata": {},
   "outputs": [],
   "source": [
    "# Try to update beliefs without any sensors\n",
    "print(\"Current state before update:\")\n",
    "print(aicon.get_state())"
   ]
  },
  {
   "cell_type": "markdown",
   "metadata": {},
   "source": [
    "## Sensors"
   ]
  },
  {
   "cell_type": "code",
   "execution_count": 1,
   "metadata": {},
   "outputs": [],
   "source": [
    "import sys\n",
    "import os\n",
    "import numpy as np\n",
    "from pathlib import Path\n",
    "from datetime import datetime\n",
    "import importlib  # For reloading modules during testing\n",
    "\n",
    "# Add parent directory to path for imports\n",
    "notebook_dir = Path.cwd()\n",
    "project_root = notebook_dir.parent\n",
    "sys.path.append(str(project_root))\n",
    "\n",
    "# Import all necessary modules first\n",
    "import aicons.bayesbrainGPT.bayes_brain_ref\n",
    "import aicons.bayesbrainGPT.utility_function.utility_base\n",
    "import aicons.bayesbrainGPT.utility_function.linear_utility\n",
    "import aicons.bayesbrainGPT.utility_function\n",
    "import aicons.definitions.aicon\n",
    "\n",
    "# Now we can reload them\n",
    "importlib.reload(aicons.bayesbrainGPT.bayes_brain_ref)\n",
    "importlib.reload(aicons.bayesbrainGPT.utility_function.utility_base)\n",
    "importlib.reload(aicons.bayesbrainGPT.utility_function)  # Reload the package first\n",
    "importlib.reload(aicons.definitions.aicon)\n",
    "importlib.reload(aicons.bayesbrainGPT)\n",
    "importlib.reload(aicons)\n",
    "\n",
    "# Import the classes we need\n",
    "from aicons.definitions.aicon import AIcon\n",
    "from aicons.bayesbrainGPT.sensors.meta_s.meta_ads_sales_sensor import MetaAdsSalesSensor\n"
   ]
  },
  {
   "cell_type": "code",
   "execution_count": null,
   "metadata": {},
   "outputs": [],
   "source": [
    "# Create the AIcon\n",
    "aicon = AIcon(\"marketing_aicon\")\n",
    "print(f\"AIcon created: {aicon.name}\")"
   ]
  },
  {
   "cell_type": "code",
   "execution_count": null,
   "metadata": {},
   "outputs": [],
   "source": [
    "# Define an action space\n",
    "aicon.define_action_space(\n",
    "    space_type='marketing',\n",
    "    total_budget=1000.0,\n",
    "    num_ads=2,\n",
    "    budget_step=100.0,\n",
    "    ad_names=['google', 'facebook']\n",
    ")"
   ]
  },
  {
   "cell_type": "code",
   "execution_count": null,
   "metadata": {},
   "outputs": [],
   "source": [
    "print(aicon.brain.action_space.raw_print())"
   ]
  },
  {
   "cell_type": "code",
   "execution_count": null,
   "metadata": {},
   "outputs": [],
   "source": [
    "# Define a utility function\n",
    "utility = aicon.define_utility_function(\n",
    "    utility_type='linear',\n",
    "    name=\"Marketing Budget Utility\",\n",
    "    weights={'google': 0.6, 'facebook': 0.4}\n",
    ")"
   ]
  },
  {
   "cell_type": "code",
   "execution_count": null,
   "metadata": {},
   "outputs": [],
   "source": [
    "aicon.add_state_factor(\n",
    "    name=\"purchases\",\n",
    "    factor_type=\"continuous\",\n",
    "    value=0.0,\n",
    "    params={\n",
    "        \"loc\": 0.0,\n",
    "        \"scale\": 1.0,\n",
    "        \"constraints\": {\"lower\": 0}\n",
    "    },\n",
    "    relationships={\n",
    "        \"depends_on\": []  # Empty list for root factor\n",
    "    }\n",
    ")\n",
    "\n",
    "aicon.add_state_factor(\n",
    "    name=\"add_to_carts\",\n",
    "    factor_type=\"continuous\",\n",
    "    value=0.0,\n",
    "    params={\n",
    "        \"loc\": 0.0,\n",
    "        \"scale\": 5.0,\n",
    "        \"constraints\": {\"lower\": 0}\n",
    "    },\n",
    "    relationships={\n",
    "        \"depends_on\": []  # Empty list for root factor\n",
    "    }\n",
    ")\n",
    "\n",
    "aicon.add_state_factor(\n",
    "    name=\"initiated_checkouts\",\n",
    "    factor_type=\"continuous\",\n",
    "    value=0.0,\n",
    "    params={\n",
    "        \"loc\": 0.0,\n",
    "        \"scale\": 2.0,\n",
    "        \"constraints\": {\"lower\": 0}\n",
    "    },\n",
    "    relationships={\n",
    "        \"depends_on\": []  # Empty list for root factor\n",
    "    }\n",
    ")"
   ]
  },
  {
   "cell_type": "code",
   "execution_count": null,
   "metadata": {},
   "outputs": [],
   "source": [
    "print(aicon.brain.state)"
   ]
  },
  {
   "cell_type": "code",
   "execution_count": null,
   "metadata": {},
   "outputs": [],
   "source": [
    "# Your Meta API credentials\n",
    "access_token = \"EAAZAn8wmq1IEBOZCz8oyDZBBgiazAgnQKIoAr4mFTbkV7jxi6t3APzOSxFybXNIkBgwQACdagbs5lFE8tpnNOBOOpWtS3KjZAdf9MNAlySpwEaDrX32oQwUTNmOZAaSXjT5Os5Q8YqRo57tXOUukB7QtcO8nQ8JuqrnnshCr7A0giynZBnJKfuPakrZBWoZD\"\n",
    "ad_account_id = \"act_252267674525035\"\n",
    "campaign_id = \"120218631288730217\"\n",
    "\n",
    "# Create the Meta Ads Sensor\n",
    "sensor = MetaAdsSalesSensor(\n",
    "    name=\"meta_ads\",\n",
    "    reliability=0.9,\n",
    "    access_token=access_token,\n",
    "    ad_account_id=ad_account_id,\n",
    "    campaign_id=campaign_id,\n",
    "    api_version=\"v18.0\",\n",
    "    time_granularity=\"hour\"\n",
    ")\n",
    "\n",
    "# Add the sensor to the AIcon\n",
    "aicon.add_sensor(\"meta_ads\", sensor)\n",
    "print(\"Meta Ads sensor added\")"
   ]
  },
  {
   "cell_type": "code",
   "execution_count": null,
   "metadata": {},
   "outputs": [],
   "source": [
    "# Get active ads to understand what we're working with\n",
    "active_ads = sensor.get_active_ads()\n",
    "print(f\"Found {len(active_ads)} active ads\")\n",
    "for ad in active_ads:\n",
    "    print(f\"- Ad ID: {ad['ad_id']}, Name: {ad['ad_name']}\")"
   ]
  },
  {
   "cell_type": "code",
   "execution_count": null,
   "metadata": {},
   "outputs": [],
   "source": [
    "aicon.update_from_sensor(\"meta_ads\")"
   ]
  },
  {
   "cell_type": "code",
   "execution_count": null,
   "metadata": {},
   "outputs": [],
   "source": []
  }
 ],
 "metadata": {
  "kernelspec": {
   "display_name": "babel-PAVoc7qP-py3.12",
   "language": "python",
   "name": "python3"
  },
  "language_info": {
   "codemirror_mode": {
    "name": "ipython",
    "version": 3
   },
   "file_extension": ".py",
   "mimetype": "text/x-python",
   "name": "python",
   "nbconvert_exporter": "python",
   "pygments_lexer": "ipython3",
   "version": "3.12.7"
  }
 },
 "nbformat": 4,
 "nbformat_minor": 2
}
