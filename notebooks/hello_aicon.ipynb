{
 "cells": [
  {
   "cell_type": "markdown",
   "metadata": {},
   "source": [
    "# Aicon 1"
   ]
  },
  {
   "cell_type": "markdown",
   "metadata": {},
   "source": [
    "## Action Making"
   ]
  },
  {
   "cell_type": "code",
   "execution_count": 1,
   "metadata": {},
   "outputs": [],
   "source": [
    "# Chunk 1: Imports\n",
    "import sys\n",
    "import os\n",
    "import numpy as np\n",
    "import matplotlib.pyplot as plt\n",
    "from pathlib import Path\n",
    "from datetime import datetime\n",
    "\n",
    "# Add parent directory to path for imports\n",
    "notebook_dir = Path.cwd()\n",
    "project_root = notebook_dir.parent\n",
    "sys.path.append(str(project_root))\n",
    "\n",
    "# Import the required classes\n",
    "from aicons.definitions.aicon import AIcon\n",
    "from aicons.bayesbrainGPT.sensors.meta_s.meta_ads_sales_sensor import MetaAdsSalesSensor"
   ]
  },
  {
   "cell_type": "code",
   "execution_count": 2,
   "metadata": {},
   "outputs": [
    {
     "name": "stdout",
     "output_type": "stream",
     "text": [
      "AIcon created: marketing_aicon\n"
     ]
    }
   ],
   "source": [
    "# Chunk 2: Create AIcon\n",
    "aicon = AIcon(\"marketing_aicon\")\n",
    "print(f\"AIcon created: {aicon.name}\")"
   ]
  },
  {
   "cell_type": "code",
   "execution_count": 3,
   "metadata": {},
   "outputs": [
    {
     "data": {
      "text/plain": [
       "ContinuousLatentVariable(name='initiated_checkouts', value=0.0, description='')"
      ]
     },
     "execution_count": 3,
     "metadata": {},
     "output_type": "execute_result"
    }
   ],
   "source": [
    "aicon.add_state_factor(\n",
    "    name=\"purchases\",\n",
    "    factor_type=\"continuous\",\n",
    "    value=0.0,\n",
    "    params={\n",
    "        \"loc\": 0.0,\n",
    "        \"scale\": 1.0,\n",
    "        \"constraints\": {\"lower\": 0}\n",
    "    },\n",
    "    relationships={\n",
    "        \"depends_on\": []  # Empty list for root factor\n",
    "    }\n",
    ")\n",
    "\n",
    "aicon.add_state_factor(\n",
    "    name=\"add_to_carts\",\n",
    "    factor_type=\"continuous\",\n",
    "    value=0.0,\n",
    "    params={\n",
    "        \"loc\": 0.0,\n",
    "        \"scale\": 5.0,\n",
    "        \"constraints\": {\"lower\": 0}\n",
    "    },\n",
    "    relationships={\n",
    "        \"depends_on\": []  # Empty list for root factor\n",
    "    }\n",
    ")\n",
    "\n",
    "aicon.add_state_factor(\n",
    "    name=\"initiated_checkouts\",\n",
    "    factor_type=\"continuous\",\n",
    "    value=0.0,\n",
    "    params={\n",
    "        \"loc\": 0.0,\n",
    "        \"scale\": 2.0,\n",
    "        \"constraints\": {\"lower\": 0}\n",
    "    },\n",
    "    relationships={\n",
    "        \"depends_on\": []  # Empty list for root factor\n",
    "    }\n",
    ")"
   ]
  },
  {
   "cell_type": "code",
   "execution_count": 4,
   "metadata": {},
   "outputs": [
    {
     "name": "stdout",
     "output_type": "stream",
     "text": [
      "✅ Successfully initialized Meta Ads API vv18.0 for account act_252267674525035\n",
      "Found 5 ad sets in campaign 120218631288730217\n",
      "Found 19 ads in 5 ad sets\n",
      "Found 3 active ads out of 19 total ads\n",
      "Found 3 active ads\n",
      "- Ad ID: 120219681574260217, Name: Anuncio 7 - Carrusel No es lo Mismo - Nata\n",
      "- Ad ID: 120218907658700217, Name: Anuncio 4 - Carrusel 1 - Rancho\n",
      "- Ad ID: 120218905466570217, Name: Anuncio 2 - Carrusel 1 (3 artistas)\n",
      "Number of factors: 21\n",
      "Factor names: purchases, add_to_carts, initiated_checkouts, ad_120219681574260217_purchases, ad_120219681574260217_add_to_carts, ad_120219681574260217_initiated_checkouts, ad_120219681574260217_impressions, ad_120219681574260217_clicks, ad_120219681574260217_spend, ad_120218907658700217_purchases...\n",
      "Auto-creating missing factor: ad_120219681574260217_purchases (continuous)\n",
      "Auto-creating missing factor: ad_120219681574260217_add_to_carts (continuous)\n",
      "Auto-creating missing factor: ad_120219681574260217_initiated_checkouts (continuous)\n",
      "Auto-creating missing factor: ad_120219681574260217_impressions (continuous)\n",
      "Auto-creating missing factor: ad_120219681574260217_clicks (continuous)\n",
      "Auto-creating missing factor: ad_120219681574260217_spend (continuous)\n",
      "Auto-creating missing factor: ad_120218907658700217_purchases (continuous)\n",
      "Auto-creating missing factor: ad_120218907658700217_add_to_carts (continuous)\n",
      "Auto-creating missing factor: ad_120218907658700217_initiated_checkouts (continuous)\n",
      "Auto-creating missing factor: ad_120218907658700217_impressions (continuous)\n",
      "Auto-creating missing factor: ad_120218907658700217_clicks (continuous)\n",
      "Auto-creating missing factor: ad_120218907658700217_spend (continuous)\n",
      "Auto-creating missing factor: ad_120218905466570217_purchases (continuous)\n",
      "Auto-creating missing factor: ad_120218905466570217_add_to_carts (continuous)\n",
      "Auto-creating missing factor: ad_120218905466570217_initiated_checkouts (continuous)\n",
      "Auto-creating missing factor: ad_120218905466570217_impressions (continuous)\n",
      "Auto-creating missing factor: ad_120218905466570217_clicks (continuous)\n",
      "Auto-creating missing factor: ad_120218905466570217_spend (continuous)\n",
      "Meta Ads sensor added\n"
     ]
    }
   ],
   "source": [
    "# Chunk 3: Setup Meta Ads sensor\n",
    "access_token = \"EAAZAn8wmq1IEBOZCz8oyDZBBgiazAgnQKIoAr4mFTbkV7jxi6t3APzOSxFybXNIkBgwQACdagbs5lFE8tpnNOBOOpWtS3KjZAdf9MNAlySpwEaDrX32oQwUTNmOZAaSXjT5Os5Q8YqRo57tXOUukB7QtcO8nQ8JuqrnnshCr7A0giynZBnJKfuPakrZBWoZD\"\n",
    "ad_account_id = \"act_252267674525035\"\n",
    "campaign_id = \"120218631288730217\"\n",
    "\n",
    "sensor = MetaAdsSalesSensor(\n",
    "    name=\"meta_ads\",\n",
    "    reliability=0.9,\n",
    "    access_token=access_token,\n",
    "    ad_account_id=ad_account_id,\n",
    "    campaign_id=campaign_id,\n",
    "    api_version=\"v18.0\",\n",
    "    time_granularity=\"hour\"\n",
    ")\n",
    "\n",
    "aicon.add_sensor(\"meta_ads\", sensor)\n",
    "print(\"Meta Ads sensor added\")"
   ]
  },
  {
   "cell_type": "code",
   "execution_count": 5,
   "metadata": {},
   "outputs": [
    {
     "data": {
      "text/plain": [
       "ActionSpace(dimensions=2, constraints=1)"
      ]
     },
     "execution_count": 5,
     "metadata": {},
     "output_type": "execute_result"
    }
   ],
   "source": [
    "# Chunk 4: Define action space\n",
    "aicon.define_action_space(\n",
    "    space_type='marketing',\n",
    "    total_budget=1000.0,\n",
    "    num_ads=2,\n",
    "    budget_step=100.0,\n",
    "    ad_names=['google', 'facebook']\n",
    ")"
   ]
  },
  {
   "cell_type": "code",
   "execution_count": 6,
   "metadata": {},
   "outputs": [
    {
     "name": "stdout",
     "output_type": "stream",
     "text": [
      "dimensions: ['google_budget: [0.0, 1000.0] step=100.0', 'facebook_budget: [0.0, 1000.0] step=100.0']\n",
      "size: 121 (stepped continuous)\n",
      "constraints: ['<function create_marketing_ads_space.<locals>.budget_sum_constraint at 0x1687ed620>']\n",
      "actions: [{'google_budget': np.float64(0.0), 'facebook_budget': np.float64(1000.0)}, {'google_budget': np.float64(100.0), 'facebook_budget': np.float64(900.0)}, {'google_budget': np.float64(200.0), 'facebook_budget': np.float64(800.0)}, {'google_budget': np.float64(300.0), 'facebook_budget': np.float64(700.0)}, {'google_budget': np.float64(400.0), 'facebook_budget': np.float64(600.0)}, {'google_budget': np.float64(500.0), 'facebook_budget': np.float64(500.0)}, {'google_budget': np.float64(600.0), 'facebook_budget': np.float64(400.0)}, {'google_budget': np.float64(700.0), 'facebook_budget': np.float64(300.0)}, {'google_budget': np.float64(800.0), 'facebook_budget': np.float64(200.0)}, {'google_budget': np.float64(900.0), 'facebook_budget': np.float64(100.0)}, {'google_budget': np.float64(1000.0), 'facebook_budget': np.float64(0.0)}]\n"
     ]
    }
   ],
   "source": [
    "print(aicon.brain.action_space.raw_print())"
   ]
  },
  {
   "cell_type": "code",
   "execution_count": 7,
   "metadata": {},
   "outputs": [
    {
     "name": "stdout",
     "output_type": "stream",
     "text": [
      "\n",
      "Utility Function: LinearUtility: Σ(weights * values) where weights = [tf.Tensor(0.6, shape=(), dtype=float32), tf.Tensor(0.4, shape=(), dtype=float32)]\n"
     ]
    }
   ],
   "source": [
    "# Chunk 5: Define utility function\n",
    "utility = aicon.define_utility_function(\n",
    "    utility_type='linear',\n",
    "    name=\"Marketing Budget Utility\",\n",
    "    weights={'google': 0.6, 'facebook': 0.4}\n",
    ")"
   ]
  },
  {
   "cell_type": "code",
   "execution_count": 8,
   "metadata": {},
   "outputs": [
    {
     "name": "stdout",
     "output_type": "stream",
     "text": [
      "Updating beliefs from Meta Ads sensor...\n",
      "\n",
      "=== Starting Belief Update ===\n",
      "Current time: 2025-03-28 10:36:52\n",
      "No posterior samples available\n",
      "Campaign objective: OUTCOME_SALES\n",
      "Found 5 ad sets in campaign 120218631288730217\n",
      "Found 19 ads in 5 ad sets\n",
      "Trying date_preset: today\n",
      "Fetching data for 19 ads with today preset...\n",
      "Retrieved 50 records\n",
      "Found latest hour: 10:00:00 - 10:59:59\n",
      "Filtered to 4 records for hour 10:00:00 - 10:59:59\n",
      "Found 4 hourly records\n",
      "Extracted factors for 4 ads\n",
      "Example ad IDs: 120218905466570217, 120218907658700217, 120219395731880217\n",
      "Example factor names: purchases, add_to_carts, initiated_checkouts, ad_120218905466570217_purchases, ad_120218905466570217_add_to_carts, ad_120218905466570217_initiated_checkouts, ad_120218905466570217_impressions, ad_120218905466570217_clicks, ad_120218905466570217_spend, ad_120218907658700217_purchases\n",
      "Mapping observation: purchases → purchases\n",
      "Mapping observation: add_to_carts → add_to_carts\n",
      "Mapping observation: initiated_checkouts → initiated_checkouts\n",
      "Mapping observation: ad_120218905466570217_purchases → ad_120218905466570217_purchases\n",
      "Mapping observation: ad_120218905466570217_add_to_carts → ad_120218905466570217_add_to_carts\n",
      "Mapping observation: ad_120218905466570217_initiated_checkouts → ad_120218905466570217_initiated_checkouts\n",
      "Mapping observation: ad_120218905466570217_impressions → ad_120218905466570217_impressions\n",
      "Mapping observation: ad_120218905466570217_clicks → ad_120218905466570217_clicks\n",
      "Mapping observation: ad_120218905466570217_spend → ad_120218905466570217_spend\n",
      "Mapping observation: ad_120218907658700217_purchases → ad_120218907658700217_purchases\n",
      "Mapping observation: ad_120218907658700217_add_to_carts → ad_120218907658700217_add_to_carts\n",
      "Mapping observation: ad_120218907658700217_initiated_checkouts → ad_120218907658700217_initiated_checkouts\n",
      "Mapping observation: ad_120218907658700217_impressions → ad_120218907658700217_impressions\n",
      "Mapping observation: ad_120218907658700217_clicks → ad_120218907658700217_clicks\n",
      "Mapping observation: ad_120218907658700217_spend → ad_120218907658700217_spend\n",
      "Mapping observation: ad_120219395731880217_purchases → ad_120219395731880217_purchases\n",
      "Mapping observation: ad_120219395731880217_add_to_carts → ad_120219395731880217_add_to_carts\n",
      "Mapping observation: ad_120219395731880217_initiated_checkouts → ad_120219395731880217_initiated_checkouts\n",
      "Mapping observation: ad_120219395731880217_impressions → ad_120219395731880217_impressions\n",
      "Mapping observation: ad_120219395731880217_clicks → ad_120219395731880217_clicks\n",
      "Mapping observation: ad_120219395731880217_spend → ad_120219395731880217_spend\n",
      "Mapping observation: ad_120219681574260217_purchases → ad_120219681574260217_purchases\n",
      "Mapping observation: ad_120219681574260217_add_to_carts → ad_120219681574260217_add_to_carts\n",
      "Mapping observation: ad_120219681574260217_initiated_checkouts → ad_120219681574260217_initiated_checkouts\n",
      "Mapping observation: ad_120219681574260217_impressions → ad_120219681574260217_impressions\n",
      "Mapping observation: ad_120219681574260217_clicks → ad_120219681574260217_clicks\n",
      "Mapping observation: ad_120219681574260217_spend → ad_120219681574260217_spend\n",
      "Sampling posterior distribution...\n",
      "Warning: Factor ad_120219395731880217_purchases not in state. Skipping.\n",
      "Warning: Factor ad_120219395731880217_add_to_carts not in state. Skipping.\n",
      "Warning: Factor ad_120219395731880217_initiated_checkouts not in state. Skipping.\n",
      "Warning: Factor ad_120219395731880217_impressions not in state. Skipping.\n",
      "Warning: Factor ad_120219395731880217_clicks not in state. Skipping.\n",
      "Warning: Factor ad_120219395731880217_spend not in state. Skipping.\n",
      "Setting up MCMC sampling for 21 observations...\n",
      "Running MCMC sampling...\n"
     ]
    },
    {
     "name": "stderr",
     "output_type": "stream",
     "text": [
      "/Users/infa/Library/Caches/pypoetry/virtualenvs/babel-PAVoc7qP-py3.12/lib/python3.12/site-packages/tensorflow_probability/python/__init__.py:70: UserWarning: TensorFloat-32 matmul/conv are enabled for NVIDIA Ampere+ GPUs. The resulting loss of precision may hinder MCMC convergence. To turn off, run `tf.config.experimental.enable_tensor_float_32_execution(False)`. For more detail, see https://github.com/tensorflow/community/pull/287.\n",
      "  warnings.warn(\n"
     ]
    },
    {
     "name": "stdout",
     "output_type": "stream",
     "text": [
      "Acceptance rate: 65.60%\n",
      "Sample statistics:\n",
      "  purchases: mean=0.0477, std=3.6601\n",
      "  add_to_carts: mean=-0.3124, std=3.6436\n",
      "  initiated_checkouts: mean=3.0180, std=3.4784\n",
      "  ad_120218905466570217_purchases: mean=-0.0312, std=3.2196\n",
      "  ad_120218905466570217_add_to_carts: mean=-0.1728, std=3.4343\n",
      "  ad_120218905466570217_initiated_checkouts: mean=1.0370, std=3.4309\n",
      "  ad_120218905466570217_impressions: mean=-27.0088, std=57.1529\n",
      "  ad_120218905466570217_clicks: mean=17.1234, std=3.7928\n",
      "  ad_120218905466570217_spend: mean=42.3109, std=3.3500\n",
      "  ad_120218907658700217_purchases: mean=0.0217, std=3.5114\n",
      "  ad_120218907658700217_add_to_carts: mean=-0.1191, std=3.4523\n",
      "  ad_120218907658700217_initiated_checkouts: mean=0.1401, std=3.5135\n",
      "  ad_120218907658700217_impressions: mean=-341.5412, std=30.2520\n",
      "  ad_120218907658700217_clicks: mean=3.8370, std=3.3138\n",
      "  ad_120218907658700217_spend: mean=13.3371, std=3.4281\n",
      "  ad_120219681574260217_purchases: mean=-0.1490, std=3.4273\n",
      "  ad_120219681574260217_add_to_carts: mean=-0.1678, std=3.4693\n",
      "  ad_120219681574260217_initiated_checkouts: mean=0.0466, std=3.6530\n",
      "  ad_120219681574260217_impressions: mean=17.7334, std=60.5400\n",
      "  ad_120219681574260217_clicks: mean=6.0182, std=3.5630\n",
      "  ad_120219681574260217_spend: mean=13.8145, std=3.4456\n",
      "\n",
      "Updating state factors from posterior:\n",
      "  purchases: 0.0000 -> 0.0477 (std: 3.6601)\n",
      "  add_to_carts: 0.0000 -> -0.3124 (std: 3.6436)\n",
      "  initiated_checkouts: 0.0000 -> 3.0180 (std: 3.4784)\n",
      "  ad_120218905466570217_purchases: 0.0000 -> -0.0312 (std: 3.2196)\n",
      "  ad_120218905466570217_add_to_carts: 0.0000 -> -0.1728 (std: 3.4343)\n",
      "  ad_120218905466570217_initiated_checkouts: 0.0000 -> 1.0370 (std: 3.4309)\n",
      "  ad_120218905466570217_impressions: 0.0000 -> -27.0088 (std: 57.1529)\n",
      "  ad_120218905466570217_clicks: 0.0000 -> 17.1234 (std: 3.7928)\n",
      "  ad_120218905466570217_spend: 0.0000 -> 42.3109 (std: 3.3500)\n",
      "  ad_120218907658700217_purchases: 0.0000 -> 0.0217 (std: 3.5114)\n",
      "  ad_120218907658700217_add_to_carts: 0.0000 -> -0.1191 (std: 3.4523)\n",
      "  ad_120218907658700217_initiated_checkouts: 0.0000 -> 0.1401 (std: 3.5135)\n",
      "  ad_120218907658700217_impressions: 0.0000 -> -341.5412 (std: 30.2520)\n",
      "  ad_120218907658700217_clicks: 0.0000 -> 3.8370 (std: 3.3138)\n",
      "  ad_120218907658700217_spend: 0.0000 -> 13.3371 (std: 3.4281)\n",
      "  ad_120219681574260217_purchases: 0.0000 -> -0.1490 (std: 3.4273)\n",
      "  ad_120219681574260217_add_to_carts: 0.0000 -> -0.1678 (std: 3.4693)\n",
      "  ad_120219681574260217_initiated_checkouts: 0.0000 -> 0.0466 (std: 3.6530)\n",
      "  ad_120219681574260217_impressions: 0.0000 -> 17.7334 (std: 60.5400)\n",
      "  ad_120219681574260217_clicks: 0.0000 -> 6.0182 (std: 3.5630)\n",
      "  ad_120219681574260217_spend: 0.0000 -> 13.8145 (std: 3.4456)\n",
      "Campaign objective: OUTCOME_SALES\n",
      "Found 5 ad sets in campaign 120218631288730217\n",
      "Found 19 ads in 5 ad sets\n",
      "Trying date_preset: today\n",
      "Fetching data for 19 ads with today preset...\n",
      "Retrieved 50 records\n",
      "Found latest hour: 10:00:00 - 10:59:59\n",
      "Filtered to 4 records for hour 10:00:00 - 10:59:59\n",
      "Found 4 hourly records\n",
      "Extracted factors for 4 ads\n",
      "Example ad IDs: 120218905466570217, 120218907658700217, 120219395731880217\n",
      "Example factor names: purchases, add_to_carts, initiated_checkouts, ad_120218905466570217_purchases, ad_120218905466570217_add_to_carts, ad_120218905466570217_initiated_checkouts, ad_120218905466570217_impressions, ad_120218905466570217_clicks, ad_120218905466570217_spend, ad_120218907658700217_purchases\n",
      "Sampling posterior distribution...\n",
      "Warning: Factor ad_120219395731880217_purchases not in state. Skipping.\n",
      "Warning: Factor ad_120219395731880217_add_to_carts not in state. Skipping.\n",
      "Warning: Factor ad_120219395731880217_initiated_checkouts not in state. Skipping.\n",
      "Warning: Factor ad_120219395731880217_impressions not in state. Skipping.\n",
      "Warning: Factor ad_120219395731880217_clicks not in state. Skipping.\n",
      "Warning: Factor ad_120219395731880217_spend not in state. Skipping.\n",
      "Setting up MCMC sampling for 21 observations...\n",
      "Running MCMC sampling...\n",
      "Acceptance rate: 78.30%\n",
      "Sample statistics:\n",
      "  purchases: mean=0.2032, std=3.2802\n",
      "  add_to_carts: mean=-0.0922, std=3.5468\n",
      "  initiated_checkouts: mean=2.8836, std=3.5218\n",
      "  ad_120218905466570217_purchases: mean=0.1305, std=3.3270\n",
      "  ad_120218905466570217_add_to_carts: mean=0.0197, std=3.4724\n",
      "  ad_120218905466570217_initiated_checkouts: mean=0.9142, std=3.6001\n",
      "  ad_120218905466570217_impressions: mean=-13.9694, std=71.3562\n",
      "  ad_120218905466570217_clicks: mean=17.1559, std=3.5256\n",
      "  ad_120218905466570217_spend: mean=42.1476, std=3.5191\n",
      "  ad_120218907658700217_purchases: mean=0.0849, std=3.3526\n",
      "  ad_120218907658700217_add_to_carts: mean=0.3617, std=3.5083\n",
      "  ad_120218907658700217_initiated_checkouts: mean=0.2373, std=3.5539\n",
      "  ad_120218907658700217_impressions: mean=-41.9678, std=102.5937\n",
      "  ad_120218907658700217_clicks: mean=3.9540, std=3.4826\n",
      "  ad_120218907658700217_spend: mean=13.5614, std=3.4862\n",
      "  ad_120219681574260217_purchases: mean=0.0026, std=3.6598\n",
      "  ad_120219681574260217_add_to_carts: mean=-0.0461, std=3.5346\n",
      "  ad_120219681574260217_initiated_checkouts: mean=0.1069, std=3.5257\n",
      "  ad_120219681574260217_impressions: mean=-128.3524, std=28.6952\n",
      "  ad_120219681574260217_clicks: mean=6.1215, std=3.5005\n",
      "  ad_120219681574260217_spend: mean=13.5431, std=3.5836\n",
      "Updated posterior samples at 2025-03-28 10:37:07\n",
      "\n",
      "Posterior Sample Statistics:\n",
      "- purchases:\n",
      "  Mean: 0.203\n",
      "  Std: 3.280\n",
      "  Min: -14.871\n",
      "  Max: 9.983\n",
      "- add_to_carts:\n",
      "  Mean: -0.092\n",
      "  Std: 3.547\n",
      "  Min: -11.285\n",
      "  Max: 11.593\n",
      "- initiated_checkouts:\n",
      "  Mean: 2.884\n",
      "  Std: 3.522\n",
      "  Min: -7.325\n",
      "  Max: 13.922\n",
      "- ad_120218905466570217_purchases:\n",
      "  Mean: 0.130\n",
      "  Std: 3.327\n",
      "  Min: -11.612\n",
      "  Max: 11.054\n",
      "- ad_120218905466570217_add_to_carts:\n",
      "  Mean: 0.020\n",
      "  Std: 3.472\n",
      "  Min: -11.232\n",
      "  Max: 10.361\n",
      "- ad_120218905466570217_initiated_checkouts:\n",
      "  Mean: 0.914\n",
      "  Std: 3.600\n",
      "  Min: -12.459\n",
      "  Max: 11.725\n",
      "- ad_120218905466570217_impressions:\n",
      "  Mean: -13.969\n",
      "  Std: 71.356\n",
      "  Min: -141.903\n",
      "  Max: 126.199\n",
      "- ad_120218905466570217_clicks:\n",
      "  Mean: 17.156\n",
      "  Std: 3.526\n",
      "  Min: 6.415\n",
      "  Max: 27.798\n",
      "- ad_120218905466570217_spend:\n",
      "  Mean: 42.148\n",
      "  Std: 3.519\n",
      "  Min: 32.044\n",
      "  Max: 53.737\n",
      "- ad_120218907658700217_purchases:\n",
      "  Mean: 0.085\n",
      "  Std: 3.353\n",
      "  Min: -11.458\n",
      "  Max: 10.877\n",
      "- ad_120218907658700217_add_to_carts:\n",
      "  Mean: 0.362\n",
      "  Std: 3.508\n",
      "  Min: -11.180\n",
      "  Max: 11.957\n",
      "- ad_120218907658700217_initiated_checkouts:\n",
      "  Mean: 0.237\n",
      "  Std: 3.554\n",
      "  Min: -10.176\n",
      "  Max: 10.732\n",
      "- ad_120218907658700217_impressions:\n",
      "  Mean: -41.968\n",
      "  Std: 102.594\n",
      "  Min: -292.076\n",
      "  Max: 95.338\n",
      "- ad_120218907658700217_clicks:\n",
      "  Mean: 3.954\n",
      "  Std: 3.483\n",
      "  Min: -7.285\n",
      "  Max: 15.361\n",
      "- ad_120218907658700217_spend:\n",
      "  Mean: 13.561\n",
      "  Std: 3.486\n",
      "  Min: 3.663\n",
      "  Max: 25.990\n",
      "- ad_120219681574260217_purchases:\n",
      "  Mean: 0.003\n",
      "  Std: 3.660\n",
      "  Min: -11.907\n",
      "  Max: 12.482\n",
      "- ad_120219681574260217_add_to_carts:\n",
      "  Mean: -0.046\n",
      "  Std: 3.535\n",
      "  Min: -11.637\n",
      "  Max: 10.960\n",
      "- ad_120219681574260217_initiated_checkouts:\n",
      "  Mean: 0.107\n",
      "  Std: 3.526\n",
      "  Min: -11.288\n",
      "  Max: 10.782\n",
      "- ad_120219681574260217_impressions:\n",
      "  Mean: -128.352\n",
      "  Std: 28.695\n",
      "  Min: -203.743\n",
      "  Max: -42.651\n",
      "- ad_120219681574260217_clicks:\n",
      "  Mean: 6.122\n",
      "  Std: 3.500\n",
      "  Min: -6.477\n",
      "  Max: 17.184\n",
      "- ad_120219681574260217_spend:\n",
      "  Mean: 13.543\n",
      "  Std: 3.584\n",
      "  Min: 2.817\n",
      "  Max: 25.233\n",
      "Successfully updated beliefs at 2025-03-28 10:37:07\n",
      "Total updates in history: 1\n"
     ]
    },
    {
     "data": {
      "text/plain": [
       "True"
      ]
     },
     "execution_count": 8,
     "metadata": {},
     "output_type": "execute_result"
    }
   ],
   "source": [
    "# Chunk 6: Update from Meta Ads sensor\n",
    "print(\"Updating beliefs from Meta Ads sensor...\")\n",
    "aicon.update_from_sensor(\"meta_ads\")"
   ]
  },
  {
   "cell_type": "code",
   "execution_count": null,
   "metadata": {},
   "outputs": [],
   "source": [
    "# Get best action using the posterior samples from the update\n",
    "best_action, expected_utility = aicon.brain.find_best_action()\n",
    "print(f\"\\nBest action: {best_action}\")\n",
    "print(f\"Expected utility: {expected_utility:.4f}\")\n"
   ]
  },
  {
   "cell_type": "markdown",
   "metadata": {},
   "source": [
    "-------------------"
   ]
  },
  {
   "cell_type": "code",
   "execution_count": 1,
   "metadata": {},
   "outputs": [],
   "source": [
    "import sys\n",
    "import os\n",
    "import numpy as np\n",
    "from pathlib import Path\n",
    "from datetime import datetime\n",
    "import importlib  # For reloading modules during testing\n",
    "\n",
    "# Add parent directory to path for imports\n",
    "notebook_dir = Path.cwd()\n",
    "project_root = notebook_dir.parent\n",
    "sys.path.append(str(project_root))\n",
    "\n",
    "# Import all necessary modules first\n",
    "import aicons.bayesbrainGPT.bayes_brain_ref\n",
    "import aicons.bayesbrainGPT.utility_function.utility_base\n",
    "import aicons.bayesbrainGPT.utility_function.linear_utility\n",
    "import aicons.bayesbrainGPT.utility_function\n",
    "import aicons.definitions.aicon\n",
    "\n",
    "# Now we can reload them\n",
    "importlib.reload(aicons.bayesbrainGPT.bayes_brain_ref)\n",
    "importlib.reload(aicons.bayesbrainGPT.utility_function.utility_base)\n",
    "importlib.reload(aicons.bayesbrainGPT.utility_function)  # Reload the package first\n",
    "importlib.reload(aicons.definitions.aicon)\n",
    "importlib.reload(aicons.bayesbrainGPT)\n",
    "importlib.reload(aicons)\n",
    "\n",
    "# Import the classes we need\n",
    "from aicons.definitions.aicon import AIcon"
   ]
  },
  {
   "cell_type": "code",
   "execution_count": null,
   "metadata": {},
   "outputs": [],
   "source": [
    "# Create the AIcon\n",
    "aicon = AIcon(\"marketing_aicon\")\n",
    "print(f\"AIcon created: {aicon.name}\")"
   ]
  },
  {
   "cell_type": "markdown",
   "metadata": {},
   "source": [
    "### Defining Action Space"
   ]
  },
  {
   "cell_type": "code",
   "execution_count": null,
   "metadata": {},
   "outputs": [],
   "source": [
    "# Define an action space\n",
    "aicon.define_action_space(\n",
    "    space_type='marketing',\n",
    "    total_budget=1000.0,\n",
    "    num_ads=2,\n",
    "    budget_step=100.0,\n",
    "    ad_names=['google', 'facebook']\n",
    ")"
   ]
  },
  {
   "cell_type": "code",
   "execution_count": null,
   "metadata": {},
   "outputs": [],
   "source": [
    "print(aicon.brain.action_space.raw_print()) "
   ]
  },
  {
   "cell_type": "markdown",
   "metadata": {},
   "source": [
    "### Defining Utility Function"
   ]
  },
  {
   "cell_type": "code",
   "execution_count": null,
   "metadata": {},
   "outputs": [],
   "source": [
    "utility = aicon.define_utility_function(\n",
    "    utility_type='linear',\n",
    "    name=\"Marketing Budget Utility\",\n",
    "    weights={'google': 0.6, 'facebook': 0.4}\n",
    ")"
   ]
  },
  {
   "cell_type": "markdown",
   "metadata": {},
   "source": [
    "### Defining State Rep State"
   ]
  },
  {
   "cell_type": "code",
   "execution_count": null,
   "metadata": {},
   "outputs": [],
   "source": [
    "# Add root factors (with empty relationships)\n",
    "aicon.add_state_factor(\n",
    "    name=\"market_size\",\n",
    "    factor_type=\"continuous\",\n",
    "    value=10000.0,\n",
    "    params={\n",
    "        \"loc\": 10000.0,\n",
    "        \"scale\": 1000.0,\n",
    "        \"constraints\": {\"lower\": 0}\n",
    "    },\n",
    "    relationships={\n",
    "        \"depends_on\": []  # Empty list for root factor\n",
    "    }\n",
    ")\n",
    "\n",
    "aicon.add_state_factor(\n",
    "    name=\"competition_level\",\n",
    "    factor_type=\"categorical\",\n",
    "    value=\"medium\",\n",
    "    params={\n",
    "        \"categories\": [\"low\", \"medium\", \"high\"],\n",
    "        \"probs\": [0.2, 0.5, 0.3]\n",
    "    },\n",
    "    relationships={\n",
    "        \"depends_on\": []  # Empty list for root factor\n",
    "    }\n",
    ")\n",
    "\n",
    "# Add dependent factors\n",
    "aicon.add_state_factor(\n",
    "    name=\"conversion_rate\",\n",
    "    factor_type=\"continuous\",\n",
    "    value=0.02,\n",
    "    params={\n",
    "        \"loc\": 0.02,\n",
    "        \"scale\": 0.005,\n",
    "        \"constraints\": {\"lower\": 0, \"upper\": 1}\n",
    "    },\n",
    "    relationships={\n",
    "        \"depends_on\": [\"market_size\", \"competition_level\"]\n",
    "    }\n",
    ")\n",
    "\n",
    "aicon.add_state_factor(\n",
    "    name=\"customer_acquisition_cost\",\n",
    "    factor_type=\"continuous\",\n",
    "    value=50.0,\n",
    "    params={\n",
    "        \"loc\": 50.0,\n",
    "        \"scale\": 10.0,\n",
    "        \"constraints\": {\"lower\": 0}\n",
    "    },\n",
    "    relationships={\n",
    "        \"depends_on\": [\"competition_level\"]\n",
    "    }\n",
    ")\n",
    "\n",
    "# Add a discrete factor for number of competitors\n",
    "aicon.add_state_factor(\n",
    "    name=\"num_competitors\",\n",
    "    factor_type=\"discrete\",\n",
    "    value=5,\n",
    "    params={\n",
    "        \"rate\": 5.0  # Poisson distribution parameter\n",
    "    },\n",
    "    relationships={\n",
    "        \"depends_on\": []  # Empty list for root factor\n",
    "    }\n",
    ")"
   ]
  },
  {
   "cell_type": "code",
   "execution_count": null,
   "metadata": {},
   "outputs": [],
   "source": [
    "print(aicon.brain.state)"
   ]
  },
  {
   "cell_type": "markdown",
   "metadata": {},
   "source": [
    "### Perception"
   ]
  },
  {
   "cell_type": "code",
   "execution_count": null,
   "metadata": {},
   "outputs": [],
   "source": [
    "# Try to update beliefs without any sensors\n",
    "print(\"Current state before update:\")\n",
    "print(aicon.get_state())"
   ]
  },
  {
   "cell_type": "markdown",
   "metadata": {},
   "source": [
    "## Sensors"
   ]
  },
  {
   "cell_type": "code",
   "execution_count": 1,
   "metadata": {},
   "outputs": [],
   "source": [
    "import sys\n",
    "import os\n",
    "import numpy as np\n",
    "from pathlib import Path\n",
    "from datetime import datetime\n",
    "import importlib  # For reloading modules during testing\n",
    "\n",
    "# Add parent directory to path for imports\n",
    "notebook_dir = Path.cwd()\n",
    "project_root = notebook_dir.parent\n",
    "sys.path.append(str(project_root))\n",
    "\n",
    "# Import all necessary modules first\n",
    "import aicons.bayesbrainGPT.bayes_brain_ref\n",
    "import aicons.bayesbrainGPT.utility_function.utility_base\n",
    "import aicons.bayesbrainGPT.utility_function.linear_utility\n",
    "import aicons.bayesbrainGPT.utility_function\n",
    "import aicons.definitions.aicon\n",
    "\n",
    "# Now we can reload them\n",
    "importlib.reload(aicons.bayesbrainGPT.bayes_brain_ref)\n",
    "importlib.reload(aicons.bayesbrainGPT.utility_function.utility_base)\n",
    "importlib.reload(aicons.bayesbrainGPT.utility_function)  # Reload the package first\n",
    "importlib.reload(aicons.definitions.aicon)\n",
    "importlib.reload(aicons.bayesbrainGPT)\n",
    "importlib.reload(aicons)\n",
    "\n",
    "# Import the classes we need\n",
    "from aicons.definitions.aicon import AIcon\n",
    "from aicons.bayesbrainGPT.sensors.meta_s.meta_ads_sales_sensor import MetaAdsSalesSensor\n"
   ]
  },
  {
   "cell_type": "code",
   "execution_count": null,
   "metadata": {},
   "outputs": [],
   "source": [
    "# Create the AIcon\n",
    "aicon = AIcon(\"marketing_aicon\")\n",
    "print(f\"AIcon created: {aicon.name}\")"
   ]
  },
  {
   "cell_type": "code",
   "execution_count": null,
   "metadata": {},
   "outputs": [],
   "source": [
    "# Define an action space\n",
    "aicon.define_action_space(\n",
    "    space_type='marketing',\n",
    "    total_budget=1000.0,\n",
    "    num_ads=2,\n",
    "    budget_step=100.0,\n",
    "    ad_names=['google', 'facebook']\n",
    ")"
   ]
  },
  {
   "cell_type": "code",
   "execution_count": null,
   "metadata": {},
   "outputs": [],
   "source": [
    "print(aicon.brain.action_space.raw_print())"
   ]
  },
  {
   "cell_type": "code",
   "execution_count": null,
   "metadata": {},
   "outputs": [],
   "source": [
    "# Define a utility function\n",
    "utility = aicon.define_utility_function(\n",
    "    utility_type='linear',\n",
    "    name=\"Marketing Budget Utility\",\n",
    "    weights={'google': 0.6, 'facebook': 0.4}\n",
    ")"
   ]
  },
  {
   "cell_type": "code",
   "execution_count": null,
   "metadata": {},
   "outputs": [],
   "source": [
    "aicon.add_state_factor(\n",
    "    name=\"purchases\",\n",
    "    factor_type=\"continuous\",\n",
    "    value=0.0,\n",
    "    params={\n",
    "        \"loc\": 0.0,\n",
    "        \"scale\": 1.0,\n",
    "        \"constraints\": {\"lower\": 0}\n",
    "    },\n",
    "    relationships={\n",
    "        \"depends_on\": []  # Empty list for root factor\n",
    "    }\n",
    ")\n",
    "\n",
    "aicon.add_state_factor(\n",
    "    name=\"add_to_carts\",\n",
    "    factor_type=\"continuous\",\n",
    "    value=0.0,\n",
    "    params={\n",
    "        \"loc\": 0.0,\n",
    "        \"scale\": 5.0,\n",
    "        \"constraints\": {\"lower\": 0}\n",
    "    },\n",
    "    relationships={\n",
    "        \"depends_on\": []  # Empty list for root factor\n",
    "    }\n",
    ")\n",
    "\n",
    "aicon.add_state_factor(\n",
    "    name=\"initiated_checkouts\",\n",
    "    factor_type=\"continuous\",\n",
    "    value=0.0,\n",
    "    params={\n",
    "        \"loc\": 0.0,\n",
    "        \"scale\": 2.0,\n",
    "        \"constraints\": {\"lower\": 0}\n",
    "    },\n",
    "    relationships={\n",
    "        \"depends_on\": []  # Empty list for root factor\n",
    "    }\n",
    ")"
   ]
  },
  {
   "cell_type": "code",
   "execution_count": null,
   "metadata": {},
   "outputs": [],
   "source": [
    "print(aicon.brain.state)"
   ]
  },
  {
   "cell_type": "code",
   "execution_count": null,
   "metadata": {},
   "outputs": [],
   "source": [
    "# Your Meta API credentials\n",
    "access_token = \"EAAZAn8wmq1IEBOZCz8oyDZBBgiazAgnQKIoAr4mFTbkV7jxi6t3APzOSxFybXNIkBgwQACdagbs5lFE8tpnNOBOOpWtS3KjZAdf9MNAlySpwEaDrX32oQwUTNmOZAaSXjT5Os5Q8YqRo57tXOUukB7QtcO8nQ8JuqrnnshCr7A0giynZBnJKfuPakrZBWoZD\"\n",
    "ad_account_id = \"act_252267674525035\"\n",
    "campaign_id = \"120218631288730217\"\n",
    "\n",
    "# Create the Meta Ads Sensor\n",
    "sensor = MetaAdsSalesSensor(\n",
    "    name=\"meta_ads\",\n",
    "    reliability=0.9,\n",
    "    access_token=access_token,\n",
    "    ad_account_id=ad_account_id,\n",
    "    campaign_id=campaign_id,\n",
    "    api_version=\"v18.0\",\n",
    "    time_granularity=\"hour\"\n",
    ")\n",
    "\n",
    "# Add the sensor to the AIcon\n",
    "aicon.add_sensor(\"meta_ads\", sensor)\n",
    "print(\"Meta Ads sensor added\")"
   ]
  },
  {
   "cell_type": "code",
   "execution_count": null,
   "metadata": {},
   "outputs": [],
   "source": [
    "# Get active ads to understand what we're working with\n",
    "active_ads = sensor.get_active_ads()\n",
    "print(f\"Found {len(active_ads)} active ads\")\n",
    "for ad in active_ads:\n",
    "    print(f\"- Ad ID: {ad['ad_id']}, Name: {ad['ad_name']}\")"
   ]
  },
  {
   "cell_type": "code",
   "execution_count": null,
   "metadata": {},
   "outputs": [],
   "source": [
    "aicon.update_from_sensor(\"meta_ads\")"
   ]
  },
  {
   "cell_type": "code",
   "execution_count": null,
   "metadata": {},
   "outputs": [],
   "source": []
  }
 ],
 "metadata": {
  "kernelspec": {
   "display_name": "babel-PAVoc7qP-py3.12",
   "language": "python",
   "name": "python3"
  },
  "language_info": {
   "codemirror_mode": {
    "name": "ipython",
    "version": 3
   },
   "file_extension": ".py",
   "mimetype": "text/x-python",
   "name": "python",
   "nbconvert_exporter": "python",
   "pygments_lexer": "ipython3",
   "version": "3.12.7"
  }
 },
 "nbformat": 4,
 "nbformat_minor": 2
}
