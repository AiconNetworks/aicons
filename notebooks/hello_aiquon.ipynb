{
 "cells": [
  {
   "cell_type": "code",
   "execution_count": 1,
   "metadata": {},
   "outputs": [
    {
     "name": "stdout",
     "output_type": "stream",
     "text": [
      "hello world\n"
     ]
    }
   ],
   "source": [
    "print(\"hello world\")"
   ]
  },
  {
   "cell_type": "markdown",
   "metadata": {},
   "source": [
    "## Checking Action Space"
   ]
  },
  {
   "cell_type": "code",
   "execution_count": 18,
   "metadata": {},
   "outputs": [
    {
     "name": "stdout",
     "output_type": "stream",
     "text": [
      "BadAIcon attributes:\n",
      "- _abc_impl: <_abc._abc_data object at 0x13d956f40>\n",
      "- action_space: None\n",
      "- bayes_brain_config: {'roi': {'type': 'continuous', 'value': 1.0, 'description': 'Return on Investment'}, 'ctr': {'type': 'continuous', 'value': 0.02, 'description': 'Click-through Rate'}, 'cpc': {'type': 'continuous', 'value': 1.0, 'description': 'Cost Per Click'}, 'conversion_rate': {'type': 'continuous', 'value': 0.05, 'description': 'Conversion Rate'}}\n",
      "- budget_increment: 100.0\n",
      "- campaigns: {}\n",
      "- capabilities: ['budget_allocation']\n",
      "- meta_campaign: None\n",
      "- name: EmptyBrainDemo\n",
      "- num_posterior_samples: 1000\n",
      "- posterior_samples: {'phi': None, 'c': None, 'delta': None}\n",
      "- state: None\n",
      "- type: bad\n",
      "\n",
      "Checking __dict__:\n",
      "- name: EmptyBrainDemo\n",
      "- type: bad\n",
      "- capabilities: ['budget_allocation']\n",
      "- campaigns: {}\n",
      "- meta_campaign: None\n",
      "- state: None\n",
      "- bayes_brain_config: {'roi': {'type': 'continuous', 'value': 1.0, 'description': 'Return on Investment'}, 'ctr': {'type': 'continuous', 'value': 0.02, 'description': 'Click-through Rate'}, 'cpc': {'type': 'continuous', 'value': 1.0, 'description': 'Cost Per Click'}, 'conversion_rate': {'type': 'continuous', 'value': 0.05, 'description': 'Conversion Rate'}}\n",
      "- posterior_samples: {'phi': None, 'c': None, 'delta': None}\n",
      "- num_posterior_samples: 1000\n",
      "- budget_increment: 100.0\n",
      "- action_space: None\n"
     ]
    }
   ],
   "source": [
    "from aicons.definitions.aicon_types import BadAIcon\n",
    "import inspect\n",
    "\n",
    "# Create a BadAIcon\n",
    "bad_aicon = BadAIcon(\n",
    "    name=\"EmptyBrainDemo\",\n",
    "    capabilities=[\"budget_allocation\"]\n",
    ")\n",
    "\n",
    "# Print all attributes and their values\n",
    "print(\"BadAIcon attributes:\")\n",
    "for attr_name in dir(bad_aicon):\n",
    "    if not attr_name.startswith('__'):\n",
    "        try:\n",
    "            attr_value = getattr(bad_aicon, attr_name)\n",
    "            if not callable(attr_value):\n",
    "                print(f\"- {attr_name}: {attr_value}\")\n",
    "        except Exception as e:\n",
    "            print(f\"- {attr_name}: Error accessing attribute: {e}\")\n",
    "\n",
    "# Check if brain is in the __dict__\n",
    "print(\"\\nChecking __dict__:\")\n",
    "for key, value in bad_aicon.__dict__.items():\n",
    "    print(f\"- {key}: {value}\")"
   ]
  },
  {
   "cell_type": "markdown",
   "metadata": {},
   "source": []
  },
  {
   "cell_type": "markdown",
   "metadata": {},
   "source": []
  }
 ],
 "metadata": {
  "kernelspec": {
   "display_name": "aicons-gjUkZMUK-py3.13",
   "language": "python",
   "name": "python3"
  },
  "language_info": {
   "codemirror_mode": {
    "name": "ipython",
    "version": 3
   },
   "file_extension": ".py",
   "mimetype": "text/x-python",
   "name": "python",
   "nbconvert_exporter": "python",
   "pygments_lexer": "ipython3",
   "version": "3.13.0"
  }
 },
 "nbformat": 4,
 "nbformat_minor": 2
}
