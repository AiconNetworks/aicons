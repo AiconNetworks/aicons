{
 "cells": [
  {
   "cell_type": "code",
   "execution_count": 2,
   "metadata": {},
   "outputs": [],
   "source": [
    "import sys\n",
    "import os\n",
    "from pathlib import Path\n",
    "\n",
    "# Add parent directory to path for imports\n",
    "notebook_dir = Path.cwd()\n",
    "project_root = notebook_dir.parent\n",
    "sys.path.append(str(project_root))"
   ]
  },
  {
   "cell_type": "markdown",
   "metadata": {},
   "source": [
    "## Checking Action Space"
   ]
  },
  {
   "cell_type": "code",
   "execution_count": 3,
   "metadata": {},
   "outputs": [
    {
     "name": "stdout",
     "output_type": "stream",
     "text": [
      "Creating continuous factor with TensorFlow: conversion_rate\n",
      "Added continuous factor with TensorFlow distribution: conversion_rate\n",
      "Factor created: True\n",
      "Has TF distribution: True\n",
      "Distribution type: TruncatedNormal\n",
      "5 samples from distribution: [0.04220393 0.04540392 0.05376558 0.04160205 0.06353349]\n"
     ]
    }
   ],
   "source": [
    "\n",
    "# Step 2: Import our AIcon class\n",
    "from aicons.definitions.simple_bad_aicon import SimpleBadAIcon\n",
    "\n",
    "# Step 3: Create a new AIcon instance\n",
    "aicon = SimpleBadAIcon(name=\"Test AIcon\")\n",
    "\n",
    "# Step 4: Add a continuous factor\n",
    "aicon.add_factor_continuous(\n",
    "    name=\"conversion_rate\",\n",
    "    value=0.05,\n",
    "    uncertainty=0.01,\n",
    "    lower_bound=0.0,\n",
    "    upper_bound=1.0,\n",
    "    description=\"Conversion rate for ads\"\n",
    ")\n",
    "\n",
    "# Step 5: Verify the TensorFlow distribution was created\n",
    "state_factors = aicon.brain.get_state_factors()\n",
    "print(\"Factor created:\", \"conversion_rate\" in state_factors)\n",
    "\n",
    "# Step 6: Check if the factor has a TensorFlow distribution\n",
    "factor = state_factors[\"conversion_rate\"]\n",
    "print(\"Has TF distribution:\", \"tf_distribution\" in factor)\n",
    "\n",
    "# Step 7: Get info about the distribution\n",
    "if \"tf_distribution\" in factor:\n",
    "    tf_dist = factor[\"tf_distribution\"]\n",
    "    dist_type = type(tf_dist).__name__\n",
    "    print(f\"Distribution type: {dist_type}\")\n",
    "    \n",
    "    # Sample from the distribution\n",
    "    samples = tf_dist.sample(5)\n",
    "    print(f\"5 samples from distribution: {samples.numpy()}\")"
   ]
  },
  {
   "cell_type": "code",
   "execution_count": 4,
   "metadata": {},
   "outputs": [
    {
     "name": "stdout",
     "output_type": "stream",
     "text": [
      "Creating categorical factor with TensorFlow: best_channel\n",
      "Added categorical factor with TensorFlow distribution: best_channel\n",
      "\n",
      "Categorical factor:\n",
      "Distribution type: Categorical\n",
      "Categories: ['facebook', 'google', 'tiktok', 'instagram']\n",
      "5 samples: ['google', 'tiktok', 'facebook', 'tiktok', 'google']\n",
      "Creating discrete factor with TensorFlow: ad_count\n",
      "Added discrete factor with TensorFlow distribution: ad_count\n",
      "\n",
      "Discrete factor:\n",
      "Distribution type: Categorical\n",
      "5 samples: [2 2 2 2 2]\n",
      "\n",
      "Entire state:\n",
      "AIcon State (3 factors):\n",
      "\n",
      "conversion_rate:\n",
      "  Type: continuous\n",
      "  Distribution: normal\n",
      "  Current value: 0.05\n",
      "  Mean: 0.05\n",
      "  Uncertainty: 0.01\n",
      "  Constraints: >= 0.0, <= 1.0\n",
      "  Description: Conversion rate for ads\n",
      "\n",
      "best_channel:\n",
      "  Type: categorical\n",
      "  Distribution: categorical\n",
      "  Current value: facebook\n",
      "  Categories (probability):\n",
      "    facebook: 0.40\n",
      "    google: 0.30\n",
      "    tiktok: 0.20\n",
      "    instagram: 0.10\n",
      "  Description: Best performing ad channel\n",
      "\n",
      "ad_count:\n",
      "  Type: discrete\n",
      "  Distribution: categorical\n",
      "  Current value: 3\n",
      "  Possible values: [1, 2, 3, 4, 5, 6, 7, 8, 9, 10]\n",
      "  Description: Number of ads per campaign\n"
     ]
    }
   ],
   "source": [
    "# Continue from previous code\n",
    "\n",
    "# Step 8: Add a categorical factor\n",
    "aicon.add_factor_categorical(\n",
    "    name=\"best_channel\",\n",
    "    value=\"facebook\",\n",
    "    categories=[\"facebook\", \"google\", \"tiktok\", \"instagram\"],\n",
    "    probs=[0.4, 0.3, 0.2, 0.1],\n",
    "    description=\"Best performing ad channel\"\n",
    ")\n",
    "\n",
    "# Step 9: Verify categorical factor\n",
    "cat_factor = aicon.brain.get_state_factors()[\"best_channel\"]\n",
    "print(\"\\nCategorical factor:\")\n",
    "print(f\"Distribution type: {type(cat_factor['tf_distribution']).__name__}\")\n",
    "print(f\"Categories: {cat_factor['categories']}\")\n",
    "print(f\"5 samples:\", [aicon.brain.get_state_factors()[\"best_channel\"][\"categories\"][int(i)] \n",
    "                    for i in cat_factor[\"tf_distribution\"].sample(5).numpy()])\n",
    "\n",
    "# Step 10: Add a discrete factor\n",
    "aicon.add_factor_discrete(\n",
    "    name=\"ad_count\",\n",
    "    value=3,\n",
    "    min_value=1,\n",
    "    max_value=10,\n",
    "    description=\"Number of ads per campaign\"\n",
    ")\n",
    "\n",
    "# Step 11: Verify discrete factor\n",
    "disc_factor = aicon.brain.get_state_factors()[\"ad_count\"]\n",
    "print(\"\\nDiscrete factor:\")\n",
    "print(f\"Distribution type: {type(disc_factor['tf_distribution']).__name__}\")\n",
    "print(f\"5 samples: {disc_factor['tf_distribution'].sample(5).numpy()}\")\n",
    "\n",
    "# Step 12: Show human-readable state\n",
    "print(\"\\nEntire state:\")\n",
    "print(aicon.get_state(format_nicely=True))"
   ]
  },
  {
   "cell_type": "markdown",
   "metadata": {},
   "source": [
    "### View all priors"
   ]
  },
  {
   "cell_type": "code",
   "execution_count": 5,
   "metadata": {},
   "outputs": [
    {
     "name": "stdout",
     "output_type": "stream",
     "text": [
      "AIcon State (3 factors):\n",
      "\n",
      "conversion_rate:\n",
      "  Type: continuous\n",
      "  Distribution: normal\n",
      "  Current value: 0.05\n",
      "  Mean: 0.05\n",
      "  Uncertainty: 0.01\n",
      "  Constraints: >= 0.0, <= 1.0\n",
      "  Description: Conversion rate for ads\n",
      "\n",
      "best_channel:\n",
      "  Type: categorical\n",
      "  Distribution: categorical\n",
      "  Current value: facebook\n",
      "  Categories (probability):\n",
      "    facebook: 0.40\n",
      "    google: 0.30\n",
      "    tiktok: 0.20\n",
      "    instagram: 0.10\n",
      "  Description: Best performing ad channel\n",
      "\n",
      "ad_count:\n",
      "  Type: discrete\n",
      "  Distribution: categorical\n",
      "  Current value: 3\n",
      "  Possible values: [1, 2, 3, 4, 5, 6, 7, 8, 9, 10]\n",
      "  Description: Number of ads per campaign\n"
     ]
    }
   ],
   "source": [
    "# View all priors\n",
    "print(aicon.get_state(format_nicely=True))"
   ]
  },
  {
   "cell_type": "code",
   "execution_count": 6,
   "metadata": {},
   "outputs": [
    {
     "name": "stdout",
     "output_type": "stream",
     "text": [
      "\n",
      "Prior for conversion_rate:\n",
      "  Distribution type: TruncatedNormal\n",
      "  Mean: 0.050000015646219254\n",
      "  Std Dev: 0.009999962523579597\n",
      "  Sample mean: 0.0505\n",
      "  Sample stddev: 0.0098\n",
      "\n",
      "Prior for best_channel:\n",
      "  Distribution type: Categorical\n",
      "  Mean: 1.0\n",
      "  Std Dev: 1.0\n",
      "  Sample mean: 0.9410\n",
      "  Sample stddev: 0.9877\n",
      "\n",
      "Prior for ad_count:\n",
      "  Distribution type: Categorical\n",
      "  Mean: 2.0\n",
      "  Std Dev: 0.0\n",
      "  Sample mean: 2.0000\n",
      "  Sample stddev: 0.0000\n"
     ]
    }
   ],
   "source": [
    "# Get raw access to all prior distributions\n",
    "state_factors = aicon.brain.get_state_factors()\n",
    "\n",
    "# Loop through all factors and show their TF distributions\n",
    "for name, factor in state_factors.items():\n",
    "    tf_dist = factor[\"tf_distribution\"]\n",
    "    print(f\"\\nPrior for {name}:\")\n",
    "    print(f\"  Distribution type: {type(tf_dist).__name__}\")\n",
    "    \n",
    "    # Sample from the distribution\n",
    "    samples = tf_dist.sample(1000)\n",
    "    \n",
    "    # Show distribution properties\n",
    "    if hasattr(tf_dist, \"mean\"):\n",
    "        print(f\"  Mean: {tf_dist.mean().numpy()}\")\n",
    "    if hasattr(tf_dist, \"stddev\"):\n",
    "        print(f\"  Std Dev: {tf_dist.stddev().numpy()}\")\n",
    "    \n",
    "    # Show sample statistics\n",
    "    print(f\"  Sample mean: {samples.numpy().mean():.4f}\")\n",
    "    print(f\"  Sample stddev: {samples.numpy().std():.4f}\")"
   ]
  },
  {
   "cell_type": "code",
   "execution_count": null,
   "metadata": {},
   "outputs": [],
   "source": []
  }
 ],
 "metadata": {
  "kernelspec": {
   "display_name": "babel-PAVoc7qP-py3.12",
   "language": "python",
   "name": "python3"
  },
  "language_info": {
   "codemirror_mode": {
    "name": "ipython",
    "version": 3
   },
   "file_extension": ".py",
   "mimetype": "text/x-python",
   "name": "python",
   "nbconvert_exporter": "python",
   "pygments_lexer": "ipython3",
   "version": "3.12.7"
  }
 },
 "nbformat": 4,
 "nbformat_minor": 2
}
