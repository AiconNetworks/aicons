{
 "cells": [
  {
   "cell_type": "code",
   "execution_count": 7,
   "metadata": {},
   "outputs": [],
   "source": [
    "import sys\n",
    "import os\n",
    "from pathlib import Path\n",
    "\n",
    "# Add parent directory to path for imports\n",
    "notebook_dir = Path.cwd()\n",
    "project_root = notebook_dir.parent\n",
    "sys.path.append(str(project_root))"
   ]
  },
  {
   "cell_type": "markdown",
   "metadata": {},
   "source": [
    "## Checking Action Space"
   ]
  },
  {
   "cell_type": "code",
   "execution_count": 19,
   "metadata": {},
   "outputs": [
    {
     "name": "stdout",
     "output_type": "stream",
     "text": [
      "SimpleBadAIcon with empty BayesBrain created:\n",
      "Name: EmptyBrainDemo\n",
      "Type: bad\n",
      "Capabilities: ['budget_allocation']\n",
      "\n",
      "Brain properties:\n",
      "Action space: None\n",
      "State factors: {}\n",
      "Utility function: None\n",
      "Sensors: 0\n",
      "Posterior samples: {}\n"
     ]
    }
   ],
   "source": [
    "# Import SimpleBadAIcon from the proper location\n",
    "from aicons.definitions.simple_bad_aicon import SimpleBadAIcon\n",
    "\n",
    "# Create a SimpleBadAIcon with an empty BayesBrain\n",
    "bad_aicon = SimpleBadAIcon(\n",
    "    name=\"EmptyBrainDemo\",\n",
    "    capabilities=[\"budget_allocation\"]\n",
    ")\n",
    "\n",
    "# Verify the BayesBrain is empty\n",
    "print(\"SimpleBadAIcon with empty BayesBrain created:\")\n",
    "print(f\"Name: {bad_aicon.name}\")\n",
    "print(f\"Type: {bad_aicon.type}\")\n",
    "print(f\"Capabilities: {bad_aicon.capabilities}\")\n",
    "\n",
    "print(\"\\nBrain properties:\")\n",
    "print(f\"Action space: {bad_aicon.brain.get_action_space()}\")\n",
    "print(f\"State factors: {bad_aicon.brain.get_state_factors()}\")\n",
    "print(f\"Utility function: {bad_aicon.brain.get_utility_function()}\")\n",
    "print(f\"Sensors: {len(bad_aicon.brain.get_sensors())}\")\n",
    "print(f\"Posterior samples: {bad_aicon.brain.get_posterior_samples()}\")"
   ]
  },
  {
   "cell_type": "markdown",
   "metadata": {},
   "source": [
    "## Adding bayes brain"
   ]
  },
  {
   "cell_type": "code",
   "execution_count": 9,
   "metadata": {},
   "outputs": [
    {
     "name": "stdout",
     "output_type": "stream",
     "text": [
      "Available methods in SimpleBadAIcon:\n",
      "- add_sensor\n",
      "- brain\n",
      "- campaigns\n",
      "- capabilities\n",
      "- configure_posterior_samples\n",
      "- configure_state_factors\n",
      "- configure_utility_function\n",
      "- find_best_allocation\n",
      "- name\n",
      "- perceive_and_decide\n",
      "- sample_allocation\n",
      "- state\n",
      "- type\n"
     ]
    }
   ],
   "source": [
    "from aicons.definitions.simple_bad_aicon import SimpleBadAIcon\n",
    "\n",
    "# Create an instance\n",
    "aicon = SimpleBadAIcon(name=\"Test\")\n",
    "\n",
    "# Get all methods of the class\n",
    "methods = [method for method in dir(aicon) if not method.startswith('__')]\n",
    "print(\"Available methods in SimpleBadAIcon:\")\n",
    "for method in sorted(methods):\n",
    "    print(f\"- {method}\")"
   ]
  },
  {
   "cell_type": "markdown",
   "metadata": {},
   "source": []
  }
 ],
 "metadata": {
  "kernelspec": {
   "display_name": "aicons-gjUkZMUK-py3.13",
   "language": "python",
   "name": "python3"
  },
  "language_info": {
   "codemirror_mode": {
    "name": "ipython",
    "version": 3
   },
   "file_extension": ".py",
   "mimetype": "text/x-python",
   "name": "python",
   "nbconvert_exporter": "python",
   "pygments_lexer": "ipython3",
   "version": "3.13.0"
  }
 },
 "nbformat": 4,
 "nbformat_minor": 2
}
