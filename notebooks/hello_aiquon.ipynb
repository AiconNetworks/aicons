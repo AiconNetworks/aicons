{
 "cells": [
  {
   "cell_type": "code",
   "execution_count": 1,
   "metadata": {},
   "outputs": [],
   "source": [
    "import sys\n",
    "import os\n",
    "from pathlib import Path\n",
    "\n",
    "# Add parent directory to path for imports\n",
    "notebook_dir = Path.cwd()\n",
    "project_root = notebook_dir.parent\n",
    "sys.path.append(str(project_root))"
   ]
  },
  {
   "cell_type": "markdown",
   "metadata": {},
   "source": [
    "## Checking Action Space"
   ]
  },
  {
   "cell_type": "code",
   "execution_count": 2,
   "metadata": {},
   "outputs": [
    {
     "name": "stdout",
     "output_type": "stream",
     "text": [
      "SimpleBadAIcon with empty BayesBrain created:\n",
      "Name: EmptyBrainDemo\n",
      "Type: bad\n",
      "Capabilities: ['budget_allocation']\n",
      "\n",
      "Brain properties:\n",
      "Action space: None\n",
      "State factors: {}\n",
      "Utility function: None\n",
      "Sensors: 0\n",
      "Posterior samples: {}\n"
     ]
    }
   ],
   "source": [
    "# Import SimpleBadAIcon from the proper location\n",
    "from aicons.definitions.simple_bad_aicon import SimpleBadAIcon\n",
    "\n",
    "# Create a SimpleBadAIcon with an empty BayesBrain\n",
    "bad_aicon = SimpleBadAIcon(\n",
    "    name=\"EmptyBrainDemo\",\n",
    "    capabilities=[\"budget_allocation\"]\n",
    ")\n",
    "\n",
    "# Verify the BayesBrain is empty\n",
    "print(\"SimpleBadAIcon with empty BayesBrain created:\")\n",
    "print(f\"Name: {bad_aicon.name}\")\n",
    "print(f\"Type: {bad_aicon.type}\")\n",
    "print(f\"Capabilities: {bad_aicon.capabilities}\")\n",
    "\n",
    "print(\"\\nBrain properties:\")\n",
    "print(f\"Action space: {bad_aicon.brain.get_action_space()}\")\n",
    "print(f\"State factors: {bad_aicon.brain.get_state_factors()}\")\n",
    "print(f\"Utility function: {bad_aicon.brain.get_utility_function()}\")\n",
    "print(f\"Sensors: {len(bad_aicon.brain.get_sensors())}\")\n",
    "print(f\"Posterior samples: {bad_aicon.brain.get_posterior_samples()}\")"
   ]
  },
  {
   "cell_type": "markdown",
   "metadata": {},
   "source": [
    "## Adding bayes brain"
   ]
  },
  {
   "cell_type": "code",
   "execution_count": 7,
   "metadata": {},
   "outputs": [
    {
     "name": "stdout",
     "output_type": "stream",
     "text": [
      "Creating continuous factor: conversion_rate\n",
      "Getting current state factors\n",
      "Adding factor conversion_rate to state\n",
      "Setting updated state factors in brain\n",
      "Added continuous factor: conversion_rate\n",
      "Creating categorical factor: channel\n",
      "Added categorical factor: channel\n",
      "Creating discrete factor: num_ads\n",
      "Added discrete factor: num_ads\n",
      "State has 3 factors: ['conversion_rate', 'channel', 'num_ads']\n",
      "\n",
      "AIcon State (3 factors):\n",
      "\n",
      "conversion_rate:\n",
      "  Type: continuous\n",
      "  Distribution: normal\n",
      "  Current value: 0.05\n",
      "  Mean: 0.05\n",
      "  Uncertainty: 0.01\n",
      "  Constraints: >= 0.0, <= 1.0\n",
      "  Description: Continuous factor: conversion_rate\n",
      "\n",
      "channel:\n",
      "  Type: categorical\n",
      "  Distribution: categorical\n",
      "  Current value: facebook\n",
      "  Categories (probability):\n",
      "    facebook: 0.40\n",
      "    google: 0.30\n",
      "    tiktok: 0.20\n",
      "    instagram: 0.10\n",
      "  Description: Categorical factor: channel\n",
      "\n",
      "num_ads:\n",
      "  Type: discrete\n",
      "  Distribution: categorical\n",
      "  Current value: 3\n",
      "  Possible values: [1, 2, 3, 4, 5, 6, 7, 8, 9, 10]\n",
      "  Description: Discrete factor: num_ads\n"
     ]
    }
   ],
   "source": [
    "# Force reload of the module\n",
    "import importlib\n",
    "import aicons.definitions.simple_bad_aicon\n",
    "importlib.reload(aicons.definitions.simple_bad_aicon)\n",
    "\n",
    "from aicons.definitions.simple_bad_aicon import SimpleBadAIcon\n",
    "\n",
    "# Create AIcon and add some factors\n",
    "aicon = SimpleBadAIcon(name=\"Campaign Manager\")\n",
    "\n",
    "aicon.add_factor_continuous(\n",
    "    name=\"conversion_rate\",\n",
    "    value=0.05, \n",
    "    uncertainty=0.01,\n",
    "    lower_bound=0.0,\n",
    "    upper_bound=1.0\n",
    ")\n",
    "\n",
    "aicon.add_factor_categorical(\n",
    "    name=\"channel\",\n",
    "    value=\"facebook\",\n",
    "    categories=[\"facebook\", \"google\", \"tiktok\", \"instagram\"],\n",
    "    probs=[0.4, 0.3, 0.2, 0.1]\n",
    ")\n",
    "\n",
    "aicon.add_factor_discrete(\n",
    "    name=\"num_ads\",\n",
    "    value=3,\n",
    "    min_value=1,\n",
    "    max_value=10\n",
    ")\n",
    "\n",
    "# Get raw state (for programmatic use)\n",
    "raw_state = aicon.get_state()\n",
    "print(f\"State has {len(raw_state)} factors: {list(raw_state.keys())}\")\n",
    "\n",
    "# Get formatted state (for human readability)\n",
    "formatted_state = aicon.get_state(format_nicely=True)\n",
    "print(\"\\n\" + formatted_state)"
   ]
  },
  {
   "cell_type": "markdown",
   "metadata": {},
   "source": []
  }
 ],
 "metadata": {
  "kernelspec": {
   "display_name": "aicons-gjUkZMUK-py3.13",
   "language": "python",
   "name": "python3"
  },
  "language_info": {
   "codemirror_mode": {
    "name": "ipython",
    "version": 3
   },
   "file_extension": ".py",
   "mimetype": "text/x-python",
   "name": "python",
   "nbconvert_exporter": "python",
   "pygments_lexer": "ipython3",
   "version": "3.13.0"
  }
 },
 "nbformat": 4,
 "nbformat_minor": 2
}
