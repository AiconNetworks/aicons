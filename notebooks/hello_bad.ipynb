{
 "cells": [
  {
   "cell_type": "code",
   "execution_count": 1,
   "metadata": {},
   "outputs": [],
   "source": [
    "import sys\n",
    "import os\n",
    "from pathlib import Path\n",
    "\n",
    "# Add parent directory to path for imports\n",
    "notebook_dir = Path.cwd()\n",
    "project_root = notebook_dir.parent\n",
    "sys.path.append(str(project_root))\n"
   ]
  },
  {
   "cell_type": "markdown",
   "metadata": {},
   "source": [
    "Section 1: Import and Setup"
   ]
  },
  {
   "cell_type": "code",
   "execution_count": 3,
   "metadata": {},
   "outputs": [
    {
     "name": "stdout",
     "output_type": "stream",
     "text": [
      "AIcon created: budget_allocation_aicon\n"
     ]
    }
   ],
   "source": [
    "# Import required libraries\n",
    "import sys\n",
    "import numpy as np\n",
    "from datetime import datetime\n",
    "\n",
    "# Import the SimpleBadAIcon\n",
    "from aicons.definitions.simple_bad_aicon import SimpleBadAIcon\n",
    "from aicons.bayesbrainGPT.sensors.meta_s.meta_ads_sales_sensor import MetaAdsSalesSensor\n",
    "\n",
    "# Create the AIcon\n",
    "aicon = SimpleBadAIcon(\"budget_allocation_aicon\")\n",
    "print(f\"AIcon created: {aicon.name}\")"
   ]
  },
  {
   "cell_type": "code",
   "execution_count": 4,
   "metadata": {},
   "outputs": [
    {
     "name": "stdout",
     "output_type": "stream",
     "text": [
      "Creating Meta Ads Sensor with real API access...\n",
      "✅ Successfully initialized Meta Ads API vv18.0 for account act_252267674525035\n"
     ]
    }
   ],
   "source": [
    "access_token = \"EAAZAn8wmq1IEBOZCz8oyDZBBgiazAgnQKIoAr4mFTbkV7jxi6t3APzOSxFybXNIkBgwQACdagbs5lFE8tpnNOBOOpWtS3KjZAdf9MNAlySpwEaDrX32oQwUTNmOZAaSXjT5Os5Q8YqRo57tXOUukB7QtcO8nQ8JuqrnnshCr7A0giynZBnJKfuPakrZBWoZD\"  # Replace with your actual token\n",
    "ad_account_id = \"act_252267674525035\"     # Replace with your actual ad account ID\n",
    "campaign_id = \"120218631288730217\"           # The campaign ID you provided\n",
    "\n",
    "# Create the Meta Ads Sensor with real API credentials\n",
    "print(\"Creating Meta Ads Sensor with real API access...\")\n",
    "sensor = MetaAdsSalesSensor(\n",
    "    name=\"meta_ads\",\n",
    "    reliability=0.9,\n",
    "    access_token=access_token,\n",
    "    ad_account_id=ad_account_id,\n",
    "    campaign_id=campaign_id,\n",
    "    api_version=\"v18.0\",          # Using the latest API version\n",
    "    time_granularity=\"hour\"       # Hourly data granularity\n",
    ")"
   ]
  },
  {
   "cell_type": "code",
   "execution_count": 5,
   "metadata": {},
   "outputs": [
    {
     "name": "stdout",
     "output_type": "stream",
     "text": [
      "Auto-creating missing factor: purchases (continuous)\n",
      "Creating continuous factor with TensorFlow: purchases\n",
      "Added continuous factor with TensorFlow distribution: purchases\n",
      "Auto-creating missing factor: add_to_carts (continuous)\n",
      "Creating continuous factor with TensorFlow: add_to_carts\n",
      "Added continuous factor with TensorFlow distribution: add_to_carts\n",
      "Auto-creating missing factor: initiated_checkouts (continuous)\n",
      "Creating continuous factor with TensorFlow: initiated_checkouts\n",
      "Added continuous factor with TensorFlow distribution: initiated_checkouts\n",
      "Auto-creating missing factor: ad_*_purchases (continuous)\n",
      "Creating continuous factor with TensorFlow: ad_*_purchases\n",
      "Added continuous factor with TensorFlow distribution: ad_*_purchases\n",
      "Auto-creating missing factor: ad_*_add_to_carts (continuous)\n",
      "Creating continuous factor with TensorFlow: ad_*_add_to_carts\n",
      "Added continuous factor with TensorFlow distribution: ad_*_add_to_carts\n",
      "Auto-creating missing factor: ad_*_initiated_checkouts (continuous)\n",
      "Creating continuous factor with TensorFlow: ad_*_initiated_checkouts\n",
      "Added continuous factor with TensorFlow distribution: ad_*_initiated_checkouts\n",
      "Auto-creating missing factor: ad_*_impressions (continuous)\n",
      "Creating continuous factor with TensorFlow: ad_*_impressions\n",
      "Added continuous factor with TensorFlow distribution: ad_*_impressions\n",
      "Auto-creating missing factor: ad_*_clicks (continuous)\n",
      "Creating continuous factor with TensorFlow: ad_*_clicks\n",
      "Added continuous factor with TensorFlow distribution: ad_*_clicks\n",
      "Auto-creating missing factor: ad_*_spend (continuous)\n",
      "Creating continuous factor with TensorFlow: ad_*_spend\n",
      "Added continuous factor with TensorFlow distribution: ad_*_spend\n",
      "Registered TFSensor: meta_ads (type: MetaAdsSalesSensor)\n",
      "Meta Ads Sales sensor added\n",
      "Number of factors auto-created: 9\n",
      "Factor names: purchases, add_to_carts, initiated_checkouts, ad_*_purchases, ad_*_add_to_carts, ad_*_initiated_checkouts, ad_*_impressions, ad_*_clicks, ad_*_spend\n"
     ]
    }
   ],
   "source": [
    "# Add the sensor to the AIcon\n",
    "# This will automatically create the necessary factors\n",
    "aicon.add_sensor(\"meta_ads\", sensor)\n",
    "print(\"Meta Ads Sales sensor added\")\n",
    "\n",
    "# Verify the factors were created automatically\n",
    "state_factors = aicon.brain.get_state_factors()\n",
    "print(f\"Number of factors auto-created: {len(state_factors)}\")\n",
    "print(\"Factor names:\", \", \".join(state_factors.keys()))"
   ]
  },
  {
   "cell_type": "code",
   "execution_count": null,
   "metadata": {},
   "outputs": [],
   "source": []
  }
 ],
 "metadata": {
  "kernelspec": {
   "display_name": "babel-PAVoc7qP-py3.12",
   "language": "python",
   "name": "python3"
  },
  "language_info": {
   "codemirror_mode": {
    "name": "ipython",
    "version": 3
   },
   "file_extension": ".py",
   "mimetype": "text/x-python",
   "name": "python",
   "nbconvert_exporter": "python",
   "pygments_lexer": "ipython3",
   "version": "3.12.7"
  }
 },
 "nbformat": 4,
 "nbformat_minor": 2
}
