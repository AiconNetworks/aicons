{
 "cells": [
  {
   "cell_type": "markdown",
   "metadata": {},
   "source": [
    "Section 1: Import and Setup"
   ]
  },
  {
   "cell_type": "code",
   "execution_count": 1,
   "metadata": {},
   "outputs": [
    {
     "name": "stdout",
     "output_type": "stream",
     "text": [
      "AIcon created: budget_allocation_aicon\n"
     ]
    }
   ],
   "source": [
    "import sys\n",
    "import os\n",
    "import numpy as np\n",
    "from pathlib import Path\n",
    "from datetime import datetime\n",
    "import importlib  # For reloading modules during testing\n",
    "\n",
    "# Add parent directory to path for imports\n",
    "notebook_dir = Path.cwd()\n",
    "project_root = notebook_dir.parent\n",
    "sys.path.append(str(project_root))\n",
    "\n",
    "# First import the modules\n",
    "import aicons.definitions.simple_bad_aicon\n",
    "import aicons.bayesbrainGPT.sensors.meta_s.meta_ads_sales_sensor\n",
    "\n",
    "# Now reload them for development/testing\n",
    "importlib.reload(aicons.definitions.simple_bad_aicon)\n",
    "importlib.reload(aicons.bayesbrainGPT.sensors.meta_s.meta_ads_sales_sensor)\n",
    "\n",
    "# Import the classes after reloading\n",
    "from aicons.definitions.simple_bad_aicon import SimpleBadAIcon\n",
    "from aicons.bayesbrainGPT.sensors.meta_s.meta_ads_sales_sensor import MetaAdsSalesSensor\n",
    "\n",
    "# Create the AIcon\n",
    "aicon = SimpleBadAIcon(\"budget_allocation_aicon\")\n",
    "print(f\"AIcon created: {aicon.name}\")"
   ]
  },
  {
   "cell_type": "code",
   "execution_count": 2,
   "metadata": {},
   "outputs": [
    {
     "name": "stdout",
     "output_type": "stream",
     "text": [
      "✅ Successfully initialized Meta Ads API vv18.0 for account act_252267674525035\n",
      "Auto-creating missing factor: purchases (continuous)\n",
      "Creating continuous factor with TensorFlow: purchases\n",
      "Added continuous factor with TensorFlow distribution: purchases\n",
      "Auto-creating missing factor: add_to_carts (continuous)\n",
      "Creating continuous factor with TensorFlow: add_to_carts\n",
      "Added continuous factor with TensorFlow distribution: add_to_carts\n",
      "Auto-creating missing factor: initiated_checkouts (continuous)\n",
      "Creating continuous factor with TensorFlow: initiated_checkouts\n",
      "Added continuous factor with TensorFlow distribution: initiated_checkouts\n",
      "Auto-creating missing factor: ad_*_purchases (continuous)\n",
      "Creating continuous factor with TensorFlow: ad_*_purchases\n",
      "Added continuous factor with TensorFlow distribution: ad_*_purchases\n",
      "Auto-creating missing factor: ad_*_add_to_carts (continuous)\n",
      "Creating continuous factor with TensorFlow: ad_*_add_to_carts\n",
      "Added continuous factor with TensorFlow distribution: ad_*_add_to_carts\n",
      "Auto-creating missing factor: ad_*_initiated_checkouts (continuous)\n",
      "Creating continuous factor with TensorFlow: ad_*_initiated_checkouts\n",
      "Added continuous factor with TensorFlow distribution: ad_*_initiated_checkouts\n",
      "Auto-creating missing factor: ad_*_impressions (continuous)\n",
      "Creating continuous factor with TensorFlow: ad_*_impressions\n",
      "Added continuous factor with TensorFlow distribution: ad_*_impressions\n",
      "Auto-creating missing factor: ad_*_clicks (continuous)\n",
      "Creating continuous factor with TensorFlow: ad_*_clicks\n",
      "Added continuous factor with TensorFlow distribution: ad_*_clicks\n",
      "Auto-creating missing factor: ad_*_spend (continuous)\n",
      "Creating continuous factor with TensorFlow: ad_*_spend\n",
      "Added continuous factor with TensorFlow distribution: ad_*_spend\n",
      "Registered TFSensor: meta_ads (type: MetaAdsSalesSensor)\n",
      "Meta Ads sensor added\n",
      "Found 4 ad sets in campaign 120218631288730217\n",
      "Found 10 ads in 4 ad sets\n",
      "Found 5 active ads out of 10 total ads\n",
      "Found 5 active ads\n",
      "- Ad ID: 120218902995700217, Name: Post - Gabito\n",
      "- Ad ID: 120218902777970217, Name: Post - Nata\n",
      "- Ad ID: 120218902726170217, Name: Post - Flyer Bandidos\n",
      "- Ad ID: 120218902629840217, Name: Anuncio 1 - Carrusel 1 (3 artistas)\n",
      "- Ad ID: 120218905466570217, Name: Anuncio 2 - Carrusel 1 (3 artistas)\n",
      "Number of factors: 9\n",
      "Factor names: purchases, add_to_carts, initiated_checkouts, ad_*_purchases, ad_*_add_to_carts, ad_*_initiated_checkouts, ad_*_impressions, ad_*_clicks, ad_*_spend\n"
     ]
    }
   ],
   "source": [
    "# Your Meta API credentials\n",
    "access_token = \"EAAZAn8wmq1IEBOZCz8oyDZBBgiazAgnQKIoAr4mFTbkV7jxi6t3APzOSxFybXNIkBgwQACdagbs5lFE8tpnNOBOOpWtS3KjZAdf9MNAlySpwEaDrX32oQwUTNmOZAaSXjT5Os5Q8YqRo57tXOUukB7QtcO8nQ8JuqrnnshCr7A0giynZBnJKfuPakrZBWoZD\"  \n",
    "ad_account_id = \"act_252267674525035\"     \n",
    "campaign_id = \"120218631288730217\"           \n",
    "\n",
    "# Create and add the Meta Ads Sensor\n",
    "sensor = MetaAdsSalesSensor(\n",
    "    name=\"meta_ads\",\n",
    "    reliability=0.9,\n",
    "    access_token=access_token,\n",
    "    ad_account_id=ad_account_id,\n",
    "    campaign_id=campaign_id,\n",
    "    api_version=\"v18.0\",\n",
    "    time_granularity=\"hour\"\n",
    ")\n",
    "\n",
    "aicon.add_sensor(\"meta_ads\", sensor)\n",
    "print(\"Meta Ads sensor added\")\n",
    "\n",
    "# Get active ads to understand what we're working with\n",
    "active_ads = sensor.get_active_ads()\n",
    "print(f\"Found {len(active_ads)} active ads\")\n",
    "for ad in active_ads:\n",
    "    print(f\"- Ad ID: {ad['ad_id']}, Name: {ad['ad_name']}\")\n",
    "\n",
    "# Check what factors were created\n",
    "state_factors = aicon.brain.get_state_factors()\n",
    "print(f\"Number of factors: {len(state_factors)}\")\n",
    "print(\"Factor names:\", \", \".join(state_factors.keys()))"
   ]
  },
  {
   "cell_type": "markdown",
   "metadata": {},
   "source": [
    "Create Action Space for Budget Allocation"
   ]
  },
  {
   "cell_type": "code",
   "execution_count": 3,
   "metadata": {},
   "outputs": [
    {
     "name": "stdout",
     "output_type": "stream",
     "text": [
      "Created budget_allocation action space 'budget_allocation' with 5 dimensions\n",
      "Created action space with 5 ads and total budget $1000.0\n",
      "Action space dimensions: 5\n",
      "Dimension names: ['ad_1_budget', 'ad_2_budget', 'ad_3_budget', 'ad_4_budget', 'ad_5_budget']\n",
      "\n",
      "Example random budget allocations:\n",
      "Random allocation 1:\n",
      "  - Ad 120218902995700217: $250.00\n",
      "  - Ad 120218902777970217: $150.00\n",
      "  - Ad 120218902726170217: $100.00\n",
      "  - Ad 120218902629840217: $300.00\n",
      "  - Ad 120218905466570217: $200.00\n",
      "Random allocation 2:\n",
      "  - Ad 120218902995700217: $350.00\n",
      "  - Ad 120218902777970217: $150.00\n",
      "  - Ad 120218902726170217: $100.00\n",
      "  - Ad 120218902629840217: $150.00\n",
      "  - Ad 120218905466570217: $250.00\n",
      "Random allocation 3:\n",
      "  - Ad 120218902995700217: $150.00\n",
      "  - Ad 120218902777970217: $100.00\n",
      "  - Ad 120218902726170217: $150.00\n",
      "  - Ad 120218902629840217: $250.00\n",
      "  - Ad 120218905466570217: $350.00\n"
     ]
    }
   ],
   "source": [
    "# Define the total budget to allocate\n",
    "total_budget = 1000.0  # $1,000 total budget\n",
    "\n",
    "# Extract the ad IDs for the action space\n",
    "ad_ids = [ad['ad_id'] for ad in active_ads]\n",
    "\n",
    "# Create an action space for budget allocation\n",
    "action_space = aicon.create_action_space(\n",
    "    'budget_allocation',\n",
    "    total_budget=total_budget,\n",
    "    items=ad_ids,\n",
    "    min_allocation_percent=0.0,\n",
    "    max_allocation_percent=1.0,\n",
    "    step_size=0.05,\n",
    "    name=\"budget_allocation\"\n",
    ")\n",
    "\n",
    "print(f\"Created action space with {len(ad_ids)} ads and total budget ${total_budget}\")\n",
    "\n",
    "# Get information about the action space dimensions\n",
    "dimensions = aicon.get_action_dimensions()\n",
    "print(f\"Action space dimensions: {dimensions['num_dimensions']}\")\n",
    "print(f\"Dimension names: {dimensions['dimension_names']}\")\n",
    "\n",
    "# Generate example allocations\n",
    "print(\"\\nExample random budget allocations:\")\n",
    "for i in range(3):\n",
    "    random_allocation = aicon.sample_action()\n",
    "    print(f\"Random allocation {i+1}:\")\n",
    "    \n",
    "    # Get the values as a list\n",
    "    values = [random_allocation[dim_name] for dim_name in dimensions['dimension_names']]\n",
    "    \n",
    "    # Print allocation for each ad\n",
    "    for j, (ad_id, amount) in enumerate(zip(ad_ids, values)):\n",
    "        print(f\"  - Ad {ad_id}: ${amount:.2f}\")"
   ]
  },
  {
   "cell_type": "markdown",
   "metadata": {},
   "source": []
  },
  {
   "cell_type": "markdown",
   "metadata": {},
   "source": []
  }
 ],
 "metadata": {
  "kernelspec": {
   "display_name": "babel-PAVoc7qP-py3.12",
   "language": "python",
   "name": "python3"
  },
  "language_info": {
   "codemirror_mode": {
    "name": "ipython",
    "version": 3
   },
   "file_extension": ".py",
   "mimetype": "text/x-python",
   "name": "python",
   "nbconvert_exporter": "python",
   "pygments_lexer": "ipython3",
   "version": "3.12.7"
  }
 },
 "nbformat": 4,
 "nbformat_minor": 2
}
