{
 "cells": [
  {
   "cell_type": "code",
   "execution_count": 1,
   "metadata": {},
   "outputs": [
    {
     "name": "stderr",
     "output_type": "stream",
     "text": [
      "/Users/infa/Library/Caches/pypoetry/virtualenvs/babel-PAVoc7qP-py3.12/lib/python3.12/site-packages/tqdm/auto.py:21: TqdmWarning: IProgress not found. Please update jupyter and ipywidgets. See https://ipywidgets.readthedocs.io/en/stable/user_install.html\n",
      "  from .autonotebook import tqdm as notebook_tqdm\n",
      "INFO:aicons.definitions.zero:Initialized marketing_aicon with gemini-1.5-flash (context window: 1,000,000 tokens)\n",
      "INFO:aicons.definitions.zero:Model description: Fast and versatile performance across a diverse variety of tasks\n"
     ]
    }
   ],
   "source": [
    "import sys\n",
    "import os\n",
    "from pathlib import Path\n",
    "import json\n",
    "import matplotlib.pyplot as plt\n",
    "import numpy as np\n",
    "\n",
    "# Add parent directory to path for imports\n",
    "current_dir = Path(os.getcwd())\n",
    "project_root = current_dir.parent\n",
    "sys.path.append(str(project_root))\n",
    "\n",
    "# Import ZeroAIcon\n",
    "from aicons.definitions.zero import ZeroAIcon\n",
    "from aicons.bayesbrainGPT.sensors.meta_s.meta_ads_sales_sensor import MetaAdsSalesSensor\n",
    "from aicons.bayesbrainGPT.decision_making.marketing_action_spaces import create_budget_allocation_space\n",
    "\n",
    "# Create ZeroAIcon\n",
    "aicon = ZeroAIcon(\n",
    "    name=\"marketing_aicon\",\n",
    "    description=\"AIcon for marketing optimization\",\n",
    "    model_name=\"gemini-1.5-flash\"\n",
    ")\n"
   ]
  },
  {
   "cell_type": "code",
   "execution_count": 2,
   "metadata": {},
   "outputs": [
    {
     "name": "stdout",
     "output_type": "stream",
     "text": [
      "✅ Successfully initialized Meta Ads API vv18.0 for account act_252267674525035\n",
      "Found 7 ad sets in campaign 120218631288730217\n",
      "Found 24 ads in 7 ad sets\n",
      "Found 7 active ads out of 24 total ads\n",
      "Found 7 active ads\n",
      "- Ad ID: 120220335053340217, Name: Anuncio 2 - Carrusel 1 (3 artistas)\n",
      "- Ad ID: 120220335053300217, Name: Anuncio 02 - Marzo - Foto - GABITO\n",
      "- Ad ID: 120220644089810217, Name: Anuncio 10 - Estilo AI\n",
      "- Ad ID: 120219893018050217, Name: Anuncio 01 - Conecta MX\n",
      "- Ad ID: 120220660947160217, Name: Anuncio 11- Nata + Maria\n",
      "- Ad ID: 120219379327910217, Name: Anuncio 02 - Marzo - Foto - GABITO\n",
      "- Ad ID: 120218905466570217, Name: Anuncio 2 - Carrusel 1 (3 artistas)\n",
      "Number of factors: 45\n",
      "Factor names: purchases, add_to_carts, initiated_checkouts, ad_120220335053340217_purchases, ad_120220335053340217_add_to_carts, ad_120220335053340217_initiated_checkouts, ad_120220335053340217_impressions, ad_120220335053340217_clicks, ad_120220335053340217_spend, ad_120220335053300217_purchases...\n",
      "Auto-creating missing factor: purchases (continuous)\n",
      "Auto-creating missing factor: add_to_carts (continuous)\n",
      "Auto-creating missing factor: initiated_checkouts (continuous)\n",
      "Auto-creating missing factor: ad_120220335053340217_purchases (continuous)\n",
      "Auto-creating missing factor: ad_120220335053340217_add_to_carts (continuous)\n",
      "Auto-creating missing factor: ad_120220335053340217_initiated_checkouts (continuous)\n",
      "Auto-creating missing factor: ad_120220335053340217_impressions (continuous)\n",
      "Auto-creating missing factor: ad_120220335053340217_clicks (continuous)\n",
      "Auto-creating missing factor: ad_120220335053340217_spend (continuous)\n",
      "Auto-creating missing factor: ad_120220335053300217_purchases (continuous)\n",
      "Auto-creating missing factor: ad_120220335053300217_add_to_carts (continuous)\n",
      "Auto-creating missing factor: ad_120220335053300217_initiated_checkouts (continuous)\n",
      "Auto-creating missing factor: ad_120220335053300217_impressions (continuous)\n",
      "Auto-creating missing factor: ad_120220335053300217_clicks (continuous)\n",
      "Auto-creating missing factor: ad_120220335053300217_spend (continuous)\n",
      "Auto-creating missing factor: ad_120220644089810217_purchases (continuous)\n",
      "Auto-creating missing factor: ad_120220644089810217_add_to_carts (continuous)\n",
      "Auto-creating missing factor: ad_120220644089810217_initiated_checkouts (continuous)\n",
      "Auto-creating missing factor: ad_120220644089810217_impressions (continuous)\n",
      "Auto-creating missing factor: ad_120220644089810217_clicks (continuous)\n",
      "Auto-creating missing factor: ad_120220644089810217_spend (continuous)\n",
      "Auto-creating missing factor: ad_120219893018050217_purchases (continuous)\n",
      "Auto-creating missing factor: ad_120219893018050217_add_to_carts (continuous)\n",
      "Auto-creating missing factor: ad_120219893018050217_initiated_checkouts (continuous)\n",
      "Auto-creating missing factor: ad_120219893018050217_impressions (continuous)\n",
      "Auto-creating missing factor: ad_120219893018050217_clicks (continuous)\n",
      "Auto-creating missing factor: ad_120219893018050217_spend (continuous)\n",
      "Auto-creating missing factor: ad_120220660947160217_purchases (continuous)\n",
      "Auto-creating missing factor: ad_120220660947160217_add_to_carts (continuous)\n",
      "Auto-creating missing factor: ad_120220660947160217_initiated_checkouts (continuous)\n",
      "Auto-creating missing factor: ad_120220660947160217_impressions (continuous)\n",
      "Auto-creating missing factor: ad_120220660947160217_clicks (continuous)\n",
      "Auto-creating missing factor: ad_120220660947160217_spend (continuous)\n",
      "Auto-creating missing factor: ad_120219379327910217_purchases (continuous)\n",
      "Auto-creating missing factor: ad_120219379327910217_add_to_carts (continuous)\n",
      "Auto-creating missing factor: ad_120219379327910217_initiated_checkouts (continuous)\n",
      "Auto-creating missing factor: ad_120219379327910217_impressions (continuous)\n",
      "Auto-creating missing factor: ad_120219379327910217_clicks (continuous)\n",
      "Auto-creating missing factor: ad_120219379327910217_spend (continuous)\n",
      "Auto-creating missing factor: ad_120218905466570217_purchases (continuous)\n",
      "Auto-creating missing factor: ad_120218905466570217_add_to_carts (continuous)\n",
      "Auto-creating missing factor: ad_120218905466570217_initiated_checkouts (continuous)\n",
      "Auto-creating missing factor: ad_120218905466570217_impressions (continuous)\n",
      "Auto-creating missing factor: ad_120218905466570217_clicks (continuous)\n",
      "Auto-creating missing factor: ad_120218905466570217_spend (continuous)\n"
     ]
    },
    {
     "name": "stderr",
     "output_type": "stream",
     "text": [
      "INFO:aicons.definitions.zero:Added sensor: meta_ads\n"
     ]
    },
    {
     "name": "stdout",
     "output_type": "stream",
     "text": [
      "Found 7 ad sets in campaign 120218631288730217\n",
      "Found 24 ads in 7 ad sets\n",
      "Found 7 active ads out of 24 total ads\n",
      "Created budget allocation space with 8008 valid combinations\n",
      "\n",
      "Utility Function: MarketingROIUtility: revenue_per_sale=50.0, num_ads=2, num_days=1, weights={'impressions': 0.2, 'clicks': 0.3, 'conversions': 0.4, 'cost': 1.0, 'risk': 0.1}\n"
     ]
    },
    {
     "data": {
      "text/plain": [
       "<aicons.bayesbrainGPT.utility_function.marketing_utility.MarketingROIUtility at 0x15e9821e0>"
      ]
     },
     "execution_count": 2,
     "metadata": {},
     "output_type": "execute_result"
    }
   ],
   "source": [
    "# Setup Meta Ads sensor\n",
    "access_token = \"EAAZAn8wmq1IEBOZCz8oyDZBBgiazAgnQKIoAr4mFTbkV7jxi6t3APzOSxFybXNIkBgwQACdagbs5lFE8tpnNOBOOpWtS3KjZAdf9MNAlySpwEaDrX32oQwUTNmOZAaSXjT5Os5Q8YqRo57tXOUukB7QtcO8nQ8JuqrnnshCr7A0giynZBnJKfuPakrZBWoZD\"\n",
    "ad_account_id = \"act_252267674525035\"\n",
    "campaign_id = \"120218631288730217\"\n",
    "\n",
    "sensor = MetaAdsSalesSensor(\n",
    "    name=\"meta_ads\",\n",
    "    reliability=0.9,\n",
    "    access_token=access_token,\n",
    "    ad_account_id=ad_account_id,\n",
    "    campaign_id=campaign_id,\n",
    "    api_version=\"v18.0\",\n",
    "    time_granularity=\"hour\"\n",
    ")\n",
    "\n",
    "# Add sensor\n",
    "aicon.add_sensor(\"meta_ads\", sensor)\n",
    "\n",
    "# Get active ads from sensor\n",
    "active_ads = sensor.get_active_ads()\n",
    "ad_ids = [ad['ad_id'] for ad in active_ads]\n",
    "\n",
    "# Define action space\n",
    "aicon.define_action_space(\n",
    "    space_type=\"budget_allocation\",\n",
    "    total_budget=1000.0,\n",
    "    items=ad_ids,\n",
    "    budget_step=100.0,\n",
    "    min_budget=0.0\n",
    ")\n",
    "\n",
    "# Define utility function\n",
    "aicon.define_utility_function(\n",
    "    utility_type=\"marketing_roi\",\n",
    "    revenue_per_sale=50.0,\n",
    "    num_days=1,\n",
    "    ad_names=ad_ids\n",
    ")\n"
   ]
  },
  {
   "cell_type": "code",
   "execution_count": 3,
   "metadata": {},
   "outputs": [
    {
     "name": "stdout",
     "output_type": "stream",
     "text": [
      "dimensions: ['120220335053340217_budget: [0.0, 1000.0] step=100.0', '120220335053300217_budget: [0.0, 1000.0] step=100.0', '120220644089810217_budget: [0.0, 1000.0] step=100.0', '120219893018050217_budget: [0.0, 1000.0] step=100.0', '120220660947160217_budget: [0.0, 1000.0] step=100.0', '120219379327910217_budget: [0.0, 1000.0] step=100.0', '120218905466570217_budget: [0.0, 1000.0] step=100.0']\n",
      "size: 19487171 (stepped continuous)\n",
      "constraints: []\n"
     ]
    }
   ],
   "source": [
    "print(aicon.get_token_usage_report()[\"action_space_text\"])"
   ]
  },
  {
   "cell_type": "markdown",
   "metadata": {},
   "source": [
    "------"
   ]
  },
  {
   "cell_type": "markdown",
   "metadata": {},
   "source": []
  },
  {
   "cell_type": "markdown",
   "metadata": {},
   "source": []
  }
 ],
 "metadata": {
  "kernelspec": {
   "display_name": "babel-PAVoc7qP-py3.12",
   "language": "python",
   "name": "python3"
  },
  "language_info": {
   "codemirror_mode": {
    "name": "ipython",
    "version": 3
   },
   "file_extension": ".py",
   "mimetype": "text/x-python",
   "name": "python",
   "nbconvert_exporter": "python",
   "pygments_lexer": "ipython3",
   "version": "3.12.9"
  }
 },
 "nbformat": 4,
 "nbformat_minor": 2
}
