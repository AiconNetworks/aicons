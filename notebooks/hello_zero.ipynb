{
 "cells": [
  {
   "cell_type": "code",
   "execution_count": 1,
   "metadata": {},
   "outputs": [
    {
     "name": "stderr",
     "output_type": "stream",
     "text": [
      "/Users/infa/Library/Caches/pypoetry/virtualenvs/babel-PAVoc7qP-py3.12/lib/python3.12/site-packages/tqdm/auto.py:21: TqdmWarning: IProgress not found. Please update jupyter and ipywidgets. See https://ipywidgets.readthedocs.io/en/stable/user_install.html\n",
      "  from .autonotebook import tqdm as notebook_tqdm\n",
      "INFO:aicons.definitions.zero:Initialized my_aicon with deepseek-r1:7b\n",
      "INFO:aicons.definitions.zero:Context window: 8,192 tokens\n"
     ]
    }
   ],
   "source": [
    "import sys\n",
    "import os\n",
    "from pathlib import Path\n",
    "import json\n",
    "import matplotlib.pyplot as plt\n",
    "import numpy as np\n",
    "\n",
    "# Add parent directory to path for imports\n",
    "current_dir = Path(os.getcwd())\n",
    "project_root = current_dir.parent\n",
    "sys.path.append(str(project_root))\n",
    "\n",
    "# Import ZeroAIcon\n",
    "from aicons.definitions.zero import ZeroAIcon\n",
    "from aicons.bayesbrainGPT.sensors.meta_s.meta_ads_sales_sensor import MetaAdsSalesSensor\n",
    "from aicons.bayesbrainGPT.decision_making.marketing_action_spaces import create_budget_allocation_space\n",
    "\n",
    "# Create ZeroAIcon\n",
    "aicon = ZeroAIcon(name=\"my_aicon\", description=\"My AIcon\", model_name=\"deepseek-r1:7b\")\n"
   ]
  },
  {
   "cell_type": "code",
   "execution_count": 2,
   "metadata": {},
   "outputs": [
    {
     "name": "stdout",
     "output_type": "stream",
     "text": [
      "✅ Successfully initialized Meta Ads API vv18.0 for account act_252267674525035\n",
      "Found 7 ad sets in campaign 120218631288730217\n",
      "Found 24 ads in 7 ad sets\n",
      "Found 5 active ads out of 24 total ads\n",
      "Found 5 active ads\n",
      "- Ad ID: 120220644089810217, Name: Anuncio 10 - Estilo AI\n",
      "- Ad ID: 120219893018050217, Name: Anuncio 01 - Conecta MX\n",
      "- Ad ID: 120220660947160217, Name: Anuncio 11- Nata + Maria\n",
      "- Ad ID: 120219379327910217, Name: Anuncio 02 - Marzo - Foto - GABITO\n",
      "- Ad ID: 120218905466570217, Name: Anuncio 2 - Carrusel 1 (3 artistas)\n",
      "Number of factors: 33\n",
      "Factor names: purchases, add_to_carts, initiated_checkouts, ad_120220644089810217_purchases, ad_120220644089810217_add_to_carts, ad_120220644089810217_initiated_checkouts, ad_120220644089810217_impressions, ad_120220644089810217_clicks, ad_120220644089810217_spend, ad_120219893018050217_purchases...\n",
      "Auto-creating missing factor: purchases (continuous)\n"
     ]
    },
    {
     "name": "stderr",
     "output_type": "stream",
     "text": [
      "INFO:aicons.definitions.zero:Added sensor: meta_ads\n"
     ]
    },
    {
     "name": "stdout",
     "output_type": "stream",
     "text": [
      "Auto-creating missing factor: add_to_carts (continuous)\n",
      "Auto-creating missing factor: initiated_checkouts (continuous)\n",
      "Auto-creating missing factor: ad_120220644089810217_purchases (continuous)\n",
      "Auto-creating missing factor: ad_120220644089810217_add_to_carts (continuous)\n",
      "Auto-creating missing factor: ad_120220644089810217_initiated_checkouts (continuous)\n",
      "Auto-creating missing factor: ad_120220644089810217_impressions (continuous)\n",
      "Auto-creating missing factor: ad_120220644089810217_clicks (continuous)\n",
      "Auto-creating missing factor: ad_120220644089810217_spend (continuous)\n",
      "Auto-creating missing factor: ad_120219893018050217_purchases (continuous)\n",
      "Auto-creating missing factor: ad_120219893018050217_add_to_carts (continuous)\n",
      "Auto-creating missing factor: ad_120219893018050217_initiated_checkouts (continuous)\n",
      "Auto-creating missing factor: ad_120219893018050217_impressions (continuous)\n",
      "Auto-creating missing factor: ad_120219893018050217_clicks (continuous)\n",
      "Auto-creating missing factor: ad_120219893018050217_spend (continuous)\n",
      "Auto-creating missing factor: ad_120220660947160217_purchases (continuous)\n",
      "Auto-creating missing factor: ad_120220660947160217_add_to_carts (continuous)\n",
      "Auto-creating missing factor: ad_120220660947160217_initiated_checkouts (continuous)\n",
      "Auto-creating missing factor: ad_120220660947160217_impressions (continuous)\n",
      "Auto-creating missing factor: ad_120220660947160217_clicks (continuous)\n",
      "Auto-creating missing factor: ad_120220660947160217_spend (continuous)\n",
      "Auto-creating missing factor: ad_120219379327910217_purchases (continuous)\n",
      "Auto-creating missing factor: ad_120219379327910217_add_to_carts (continuous)\n",
      "Auto-creating missing factor: ad_120219379327910217_initiated_checkouts (continuous)\n",
      "Auto-creating missing factor: ad_120219379327910217_impressions (continuous)\n",
      "Auto-creating missing factor: ad_120219379327910217_clicks (continuous)\n",
      "Auto-creating missing factor: ad_120219379327910217_spend (continuous)\n",
      "Auto-creating missing factor: ad_120218905466570217_purchases (continuous)\n",
      "Auto-creating missing factor: ad_120218905466570217_add_to_carts (continuous)\n",
      "Auto-creating missing factor: ad_120218905466570217_initiated_checkouts (continuous)\n",
      "Auto-creating missing factor: ad_120218905466570217_impressions (continuous)\n",
      "Auto-creating missing factor: ad_120218905466570217_clicks (continuous)\n",
      "Auto-creating missing factor: ad_120218905466570217_spend (continuous)\n",
      "Found 7 ad sets in campaign 120218631288730217\n",
      "Found 24 ads in 7 ad sets\n",
      "Found 5 active ads out of 24 total ads\n",
      "Created budget allocation space with 1001 valid combinations\n",
      "\n",
      "Utility Function: MarketingROIUtility: revenue_per_sale=50.0, num_ads=2, num_days=1, weights={'impressions': 0.2, 'clicks': 0.3, 'conversions': 0.4, 'cost': 1.0, 'risk': 0.1}\n"
     ]
    },
    {
     "data": {
      "text/plain": [
       "<aicons.bayesbrainGPT.utility_function.marketing_utility.MarketingROIUtility at 0x15a4f6000>"
      ]
     },
     "execution_count": 2,
     "metadata": {},
     "output_type": "execute_result"
    }
   ],
   "source": [
    "# Setup Meta Ads sensor\n",
    "access_token = \"EAAZAn8wmq1IEBOZCz8oyDZBBgiazAgnQKIoAr4mFTbkV7jxi6t3APzOSxFybXNIkBgwQACdagbs5lFE8tpnNOBOOpWtS3KjZAdf9MNAlySpwEaDrX32oQwUTNmOZAaSXjT5Os5Q8YqRo57tXOUukB7QtcO8nQ8JuqrnnshCr7A0giynZBnJKfuPakrZBWoZD\"\n",
    "ad_account_id = \"act_252267674525035\"\n",
    "campaign_id = \"120218631288730217\"\n",
    "\n",
    "sensor = MetaAdsSalesSensor(\n",
    "    name=\"meta_ads\",\n",
    "    reliability=0.9,\n",
    "    access_token=access_token,\n",
    "    ad_account_id=ad_account_id,\n",
    "    campaign_id=campaign_id,\n",
    "    api_version=\"v18.0\",\n",
    "    time_granularity=\"hour\"\n",
    ")\n",
    "\n",
    "# Add sensor\n",
    "aicon.add_sensor(\"meta_ads\", sensor)\n",
    "\n",
    "# Get active ads from sensor\n",
    "active_ads = sensor.get_active_ads()\n",
    "ad_ids = [ad['ad_id'] for ad in active_ads]\n",
    "\n",
    "# Define action space\n",
    "aicon.define_action_space(\n",
    "    space_type=\"budget_allocation\",\n",
    "    total_budget=1000.0,\n",
    "    items=ad_ids,\n",
    "    budget_step=100.0,\n",
    "    min_budget=0.0\n",
    ")\n",
    "\n",
    "# Define utility function\n",
    "aicon.define_utility_function(\n",
    "    utility_type=\"marketing_roi\",\n",
    "    revenue_per_sale=50.0,\n",
    "    num_days=1,\n",
    "    ad_names=ad_ids\n",
    ")\n"
   ]
  },
  {
   "cell_type": "code",
   "execution_count": 3,
   "metadata": {},
   "outputs": [
    {
     "data": {
      "text/plain": [
       "{'state_representation': {'tokens': 25,\n",
       "  'content': '=== Ad Performance Metrics ===\\n\\nAd ID: 120220644089810217\\n------------------------------\\npurchases           :       0.00\\nadd_to_carts        :       0.00\\ninitiated_checkouts :       0.00\\nimpressions         :       0.00\\nclicks              :       0.00\\nspend               :       0.00\\n\\nAd ID: 120219893018050217\\n------------------------------\\npurchases           :       0.00\\nadd_to_carts        :       0.00\\ninitiated_checkouts :       0.00\\nimpressions         :       0.00\\nclicks              :       0.00\\nspend               :       0.00\\n\\nAd ID: 120220660947160217\\n------------------------------\\npurchases           :       0.00\\nadd_to_carts        :       0.00\\ninitiated_checkouts :       0.00\\nimpressions         :       0.00\\nclicks              :       0.00\\nspend               :       0.00\\n\\nAd ID: 120219379327910217\\n------------------------------\\npurchases           :       0.00\\nadd_to_carts        :       0.00\\ninitiated_checkouts :       0.00\\nimpressions         :       0.00\\nclicks              :       0.00\\nspend               :       0.00\\n\\nAd ID: 120218905466570217\\n------------------------------\\npurchases           :       0.00\\nadd_to_carts        :       0.00\\ninitiated_checkouts :       0.00\\nimpressions         :       0.00\\nclicks              :       0.00\\nspend               :       0.00'},\n",
       " 'utility_function': {'tokens': 39,\n",
       "  'content': \"MarketingROIUtility: revenue_per_sale=50.0, num_ads=2, num_days=1, weights={'impressions': 0.2, 'clicks': 0.3, 'conversions': 0.4, 'cost': 1.0, 'risk': 0.1}\"},\n",
       " 'action_space': {'tokens': 10,\n",
       "  'content': \"dimensions: ['120220644089810217_budget: [0.0, 1000.0] step=100.0', '120219893018050217_budget: [0.0, 1000.0] step=100.0', '120220660947160217_budget: [0.0, 1000.0] step=100.0', '120219379327910217_budget: [0.0, 1000.0] step=100.0', '120218905466570217_budget: [0.0, 1000.0] step=100.0']\\nsize: 161051 (stepped continuous)\\nconstraints: []\"},\n",
       " 'inference': {'tokens': 0, 'content': 'No inference queries yet'},\n",
       " 'total_used': 74,\n",
       " 'remaining': 8118}"
      ]
     },
     "execution_count": 3,
     "metadata": {},
     "output_type": "execute_result"
    }
   ],
   "source": [
    "aicon.get_token_usage_report()"
   ]
  },
  {
   "cell_type": "code",
   "execution_count": 4,
   "metadata": {},
   "outputs": [
    {
     "ename": "AttributeError",
     "evalue": "'BayesianState' object has no attribute 'get_state'",
     "output_type": "error",
     "traceback": [
      "\u001b[31m---------------------------------------------------------------------------\u001b[39m",
      "\u001b[31mAttributeError\u001b[39m                            Traceback (most recent call last)",
      "\u001b[36mCell\u001b[39m\u001b[36m \u001b[39m\u001b[32mIn[4]\u001b[39m\u001b[32m, line 1\u001b[39m\n\u001b[32m----> \u001b[39m\u001b[32m1\u001b[39m response = \u001b[38;5;28;01mawait\u001b[39;00m aicon.make_inference(\u001b[33m\"\u001b[39m\u001b[33mSay hello world!\u001b[39m\u001b[33m\"\u001b[39m)\n",
      "\u001b[36mFile \u001b[39m\u001b[32m~/Documents/Babel/aicons/definitions/zero.py:412\u001b[39m, in \u001b[36mZeroAIcon.make_inference\u001b[39m\u001b[34m(self, prompt)\u001b[39m\n\u001b[32m    409\u001b[39m \u001b[38;5;250m\u001b[39m\u001b[33;03m\"\"\"Make inference using configured LLM.\"\"\"\u001b[39;00m\n\u001b[32m    410\u001b[39m \u001b[38;5;66;03m# Prepare context with all components\u001b[39;00m\n\u001b[32m    411\u001b[39m context = {\n\u001b[32m--> \u001b[39m\u001b[32m412\u001b[39m     \u001b[33m\"\u001b[39m\u001b[33mstate\u001b[39m\u001b[33m\"\u001b[39m: \u001b[38;5;28;43mself\u001b[39;49m\u001b[43m.\u001b[49m\u001b[43mget_state_representation\u001b[49m\u001b[43m(\u001b[49m\u001b[43m)\u001b[49m,\n\u001b[32m    413\u001b[39m     \u001b[33m\"\u001b[39m\u001b[33mutility_function\u001b[39m\u001b[33m\"\u001b[39m: \u001b[38;5;28mstr\u001b[39m(\u001b[38;5;28mself\u001b[39m.brain.utility_function) \u001b[38;5;28;01mif\u001b[39;00m \u001b[38;5;28mself\u001b[39m.brain.utility_function \u001b[38;5;28;01melse\u001b[39;00m \u001b[38;5;28;01mNone\u001b[39;00m,\n\u001b[32m    414\u001b[39m     \u001b[33m\"\u001b[39m\u001b[33maction_space\u001b[39m\u001b[33m\"\u001b[39m: \u001b[38;5;28mstr\u001b[39m(\u001b[38;5;28mself\u001b[39m.brain.action_space),\n\u001b[32m    415\u001b[39m     \u001b[33m\"\u001b[39m\u001b[33mprompt\u001b[39m\u001b[33m\"\u001b[39m: prompt\n\u001b[32m    416\u001b[39m }\n\u001b[32m    418\u001b[39m \u001b[38;5;66;03m# Update inference token usage\u001b[39;00m\n\u001b[32m    419\u001b[39m \u001b[38;5;28mself\u001b[39m._update_token_usage(\u001b[33m\"\u001b[39m\u001b[33minference\u001b[39m\u001b[33m\"\u001b[39m, json.dumps(context))\n",
      "\u001b[36mFile \u001b[39m\u001b[32m~/Documents/Babel/aicons/definitions/zero.py:402\u001b[39m, in \u001b[36mZeroAIcon.get_state_representation\u001b[39m\u001b[34m(self)\u001b[39m\n\u001b[32m    399\u001b[39m \u001b[38;5;28;01mdef\u001b[39;00m\u001b[38;5;250m \u001b[39m\u001b[34mget_state_representation\u001b[39m(\u001b[38;5;28mself\u001b[39m) -> Dict[\u001b[38;5;28mstr\u001b[39m, Any]:\n\u001b[32m    400\u001b[39m \u001b[38;5;250m    \u001b[39m\u001b[33;03m\"\"\"Get the current state representation.\"\"\"\u001b[39;00m\n\u001b[32m    401\u001b[39m     \u001b[38;5;28;01mreturn\u001b[39;00m {\n\u001b[32m--> \u001b[39m\u001b[32m402\u001b[39m         \u001b[33m\"\u001b[39m\u001b[33mstate\u001b[39m\u001b[33m\"\u001b[39m: \u001b[38;5;28;43mself\u001b[39;49m\u001b[43m.\u001b[49m\u001b[43mbrain\u001b[49m\u001b[43m.\u001b[49m\u001b[43mstate\u001b[49m\u001b[43m.\u001b[49m\u001b[43mget_state\u001b[49m(),\n\u001b[32m    403\u001b[39m         \u001b[33m\"\u001b[39m\u001b[33mposteriors\u001b[39m\u001b[33m\"\u001b[39m: \u001b[38;5;28mself\u001b[39m.brain.state.get_posterior_samples(),\n\u001b[32m    404\u001b[39m         \u001b[33m\"\u001b[39m\u001b[33mutility_function\u001b[39m\u001b[33m\"\u001b[39m: \u001b[38;5;28mstr\u001b[39m(\u001b[38;5;28mself\u001b[39m.brain.utility_function),\n\u001b[32m    405\u001b[39m         \u001b[33m\"\u001b[39m\u001b[33maction_space\u001b[39m\u001b[33m\"\u001b[39m: \u001b[38;5;28mstr\u001b[39m(\u001b[38;5;28mself\u001b[39m.brain.action_space)\n\u001b[32m    406\u001b[39m     }\n",
      "\u001b[31mAttributeError\u001b[39m: 'BayesianState' object has no attribute 'get_state'"
     ]
    }
   ],
   "source": [
    "response = await aicon.make_inference(\"Say hello world!\")"
   ]
  },
  {
   "cell_type": "markdown",
   "metadata": {},
   "source": []
  }
 ],
 "metadata": {
  "kernelspec": {
   "display_name": "babel-PAVoc7qP-py3.12",
   "language": "python",
   "name": "python3"
  },
  "language_info": {
   "codemirror_mode": {
    "name": "ipython",
    "version": 3
   },
   "file_extension": ".py",
   "mimetype": "text/x-python",
   "name": "python",
   "nbconvert_exporter": "python",
   "pygments_lexer": "ipython3",
   "version": "3.12.9"
  }
 },
 "nbformat": 4,
 "nbformat_minor": 2
}
