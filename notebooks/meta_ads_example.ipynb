{
 "cells": [
  {
   "cell_type": "code",
   "execution_count": 8,
   "metadata": {},
   "outputs": [],
   "source": [
    "import sys\n",
    "import os\n",
    "from pathlib import Path\n",
    "\n",
    "# Add parent directory to path for imports\n",
    "notebook_dir = Path.cwd()\n",
    "project_root = notebook_dir.parent\n",
    "sys.path.append(str(project_root))\n",
    "\n"
   ]
  },
  {
   "cell_type": "code",
   "execution_count": 9,
   "metadata": {},
   "outputs": [
    {
     "name": "stdout",
     "output_type": "stream",
     "text": [
      "Creating continuous factor with TensorFlow: purchases\n",
      "Added continuous factor with TensorFlow distribution: purchases\n",
      "Creating continuous factor with TensorFlow: purchase_roas\n",
      "Added continuous factor with TensorFlow distribution: purchase_roas\n",
      "Registered TFSensor: meta_ads (type: MetaAdsSalesSensor)\n",
      "  Mapping: purchases → purchases\n",
      "  Mapping: purchase_roas → purchase_roas\n",
      "Sensor registered: meta_ads\n",
      "Running AIcon once...\n",
      "Running single perception update...\n",
      "Mapping observation: purchases → purchases\n",
      "Mapping observation: add_to_carts → add_to_carts\n",
      "Mapping observation: initiated_checkouts → initiated_checkouts\n",
      "Mapping observation: cost_per_result → cost_per_result\n",
      "Mapping observation: purchase_roas → purchase_roas\n",
      "Mapping observation: results → results\n",
      "Mapping observation: result_type → result_type\n",
      "Sampling posterior distribution...\n",
      "Warning: Factor add_to_carts not in state. Skipping.\n",
      "Warning: Factor initiated_checkouts not in state. Skipping.\n",
      "Warning: Factor cost_per_result not in state. Skipping.\n",
      "Warning: Factor results not in state. Skipping.\n",
      "Warning: Factor result_type not in state. Skipping.\n",
      "Setting up MCMC sampling for 2 observations...\n",
      "Running MCMC sampling...\n",
      "Acceptance rate: 56.30%\n",
      "Sample statistics:\n",
      "  purchases: mean=24.4876, std=3.2174\n",
      "  purchase_roas: mean=2.6152, std=1.2493\n",
      "\n",
      "Updating state factors from posterior:\n",
      "  purchases: 20.0000 -> 24.4876 (std: 3.2174)\n",
      "  purchase_roas: 2.0000 -> 2.6152 (std: 1.2493)\n",
      "Perception update completed. Success: True\n"
     ]
    }
   ],
   "source": [
    "# First, import importlib\n",
    "import importlib\n",
    "\n",
    "# Import the module we need to reload\n",
    "import aicons.definitions.simple_bad_aicon\n",
    "\n",
    "# Reload the module to pick up the new run method\n",
    "importlib.reload(aicons.definitions.simple_bad_aicon)\n",
    "\n",
    "# Now create a new instance of the reloaded class\n",
    "from aicons.definitions.simple_bad_aicon import SimpleBadAIcon\n",
    "from aicons.bayesbrainGPT.sensors.meta_s.meta_ads_sales_sensor import MetaAdsSalesSensor\n",
    "\n",
    "# Create the AIcon\n",
    "aicon = SimpleBadAIcon(name=\"Meta Ads Campaign\")\n",
    "\n",
    "# Add factors (priors)\n",
    "aicon.add_factor_continuous(\n",
    "    name=\"purchases\",\n",
    "    value=20.0,\n",
    "    uncertainty=10.0,\n",
    "    lower_bound=0.0,\n",
    "    description=\"Number of purchases from ads\"\n",
    ")\n",
    "\n",
    "aicon.add_factor_continuous(\n",
    "    name=\"purchase_roas\",\n",
    "    value=2.0,\n",
    "    uncertainty=0.5,\n",
    "    lower_bound=0.0,\n",
    "    description=\"Return on ad spend for purchases\"\n",
    ")\n",
    "\n",
    "# Create and register the Meta Ads sensor\n",
    "sensor = MetaAdsSalesSensor(\n",
    "    name=\"meta_ads\",\n",
    "    reliability=0.9,\n",
    "    access_token=None,\n",
    "    ad_account_id=None,\n",
    "    campaign_id=None\n",
    ")\n",
    "\n",
    "# Define factor mapping\n",
    "factor_mapping = {\n",
    "    \"purchases\": \"purchases\",\n",
    "    \"purchase_roas\": \"purchase_roas\"\n",
    "}\n",
    "\n",
    "# Register sensor\n",
    "aicon.add_sensor(\"meta_ads\", sensor, factor_mapping)\n",
    "print(f\"Sensor registered: {sensor.name}\")\n",
    "\n",
    "# Now you should be able to use the run method\n",
    "print(\"Running AIcon once...\")\n",
    "run_stats = aicon.run(mode='once', sensor_name=\"meta_ads\")\n"
   ]
  },
  {
   "cell_type": "code",
   "execution_count": 10,
   "metadata": {},
   "outputs": [
    {
     "name": "stdout",
     "output_type": "stream",
     "text": [
      "AIcon State (2 factors):\n",
      "\n",
      "purchases:\n",
      "  Type: continuous\n",
      "  Distribution: normal\n",
      "  Current value: 24.487638473510742\n",
      "  Mean: 24.487638473510742\n",
      "  Uncertainty: 3.217418909072876\n",
      "  Constraints: >= 0.0\n",
      "  Description: Number of purchases from ads\n",
      "\n",
      "purchase_roas:\n",
      "  Type: continuous\n",
      "  Distribution: normal\n",
      "  Current value: 2.615150213241577\n",
      "  Mean: 2.615150213241577\n",
      "  Uncertainty: 1.249308705329895\n",
      "  Constraints: >= 0.0\n",
      "  Description: Return on ad spend for purchases\n"
     ]
    }
   ],
   "source": [
    "print(aicon.get_state(format_nicely=True))"
   ]
  },
  {
   "cell_type": "code",
   "execution_count": null,
   "metadata": {},
   "outputs": [],
   "source": []
  }
 ],
 "metadata": {
  "kernelspec": {
   "display_name": "babel-PAVoc7qP-py3.12",
   "language": "python",
   "name": "python3"
  },
  "language_info": {
   "codemirror_mode": {
    "name": "ipython",
    "version": 3
   },
   "file_extension": ".py",
   "mimetype": "text/x-python",
   "name": "python",
   "nbconvert_exporter": "python",
   "pygments_lexer": "ipython3",
   "version": "3.12.7"
  }
 },
 "nbformat": 4,
 "nbformat_minor": 2
}
