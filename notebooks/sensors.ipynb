{
 "cells": [
  {
   "cell_type": "code",
   "execution_count": null,
   "metadata": {},
   "outputs": [
    {
     "name": "stdout",
     "output_type": "stream",
     "text": [
      "Init params: ('self', 'name', 'reliability', 'access_token', 'ad_account_id', 'campaign_id', 'api_version', 'time_granularity', 'factor_mapping', 'e')\n",
      "=== Testing Daily Granularity ===\n",
      "✅ Successfully initialized Meta Ads API vv18.0 for account act_708258299814630\n",
      "Checking campaign 120214741689870347...\n",
      "✅ Found campaign: Ventas__Ventas__Meta__BPA\n",
      "Using daily granularity: 2025-03-12\n",
      "Fetching insights for campaign 120214741689870347...\n",
      "Using parameters: {'level': 'campaign', 'filtering': '[{\"field\":\"campaign.id\",\"operator\":\"EQUAL\",\"value\":\"120214741689870347\"}]', 'time_range': '{\"since\": \"2025-03-12\", \"until\": \"2025-03-12\"}'}\n",
      "API response received. Found 0 insights\n",
      "No insights data returned for the campaign. Check if campaign ID is correct and has data.\n",
      "\n",
      "Daily data:\n",
      "{'purchases': 25.0, 'add_to_carts': 120.0, 'initiated_checkouts': 45.0, 'cost_per_result': 20.0, 'purchase_roas': 2.1, 'results': 25, 'result_type': 'purchase'}\n"
     ]
    }
   ],
   "source": [
    "import sys\n",
    "import os\n",
    "import importlib.util\n",
    "import importlib\n",
    "from pathlib import Path\n",
    "import pandas as pd\n",
    "\n",
    "# Add parent directory to path for imports\n",
    "notebook_dir = Path.cwd()\n",
    "project_root = notebook_dir.parent\n",
    "sys.path.append(str(project_root))\n",
    "\n",
    "# Force a complete reload of modules by removing them from the cache\n",
    "if 'aicons.bayesbrainGPT.sensors.meta_s.meta_ads_sales_sensor' in sys.modules:\n",
    "    del sys.modules['aicons.bayesbrainGPT.sensors.meta_s.meta_ads_sales_sensor']\n",
    "if 'aicons.bayesbrainGPT.sensors.tf_sensors' in sys.modules:\n",
    "    del sys.modules['aicons.bayesbrainGPT.sensors.tf_sensors']\n",
    "\n",
    "# Reimport\n",
    "import aicons.bayesbrainGPT.sensors.tf_sensors\n",
    "import aicons.bayesbrainGPT.sensors.meta_s.meta_ads_sales_sensor\n",
    "from aicons.bayesbrainGPT.sensors.meta_s.meta_ads_sales_sensor import MetaAdsSalesSensor\n",
    "\n",
    "# Double-check that the parameters exist\n",
    "print(\"Init params:\", MetaAdsSalesSensor.__init__.__code__.co_varnames)\n",
    "\n",
    "# Facebook/Meta API credentials\n",
    "ACCESS_TOKEN = 'EAAZAn8wmq1IEBOZCz8oyDZBBgiazAgnQKIoAr4mFTbkV7jxi6t3APzOSxFybXNIkBgwQACdagbs5lFE8tpnNOBOOpWtS3KjZAdf9MNAlySpwEaDrX32oQwUTNmOZAaSXjT5Os5Q8YqRo57tXOUukB7QtcO8nQ8JuqrnnshCr7A0giynZBnJKfuPakrZBWoZD'\n",
    "AD_ACCOUNT_ID = 'act_708258299814630'\n",
    "CAMPAIGN_ID = '120214741689870347'\n",
    "\n",
    "# Test with previous day data (most likely to have data)\n",
    "print(\"=== Testing Yesterday's Data ===\")\n",
    "yesterday_sensor = MetaAdsSalesSensor(\n",
    "    name=\"meta_ads_yesterday\",\n",
    "    reliability=0.9,\n",
    "    access_token=ACCESS_TOKEN,\n",
    "    ad_account_id=AD_ACCOUNT_ID,\n",
    "    campaign_id=CAMPAIGN_ID,\n",
    "    date_offset=1  # Yesterday\n",
    ")\n",
    "\n",
    "yesterday_data = yesterday_sensor.run()\n",
    "print(\"\\nYesterday's data:\")\n",
    "print(yesterday_data)\n",
    "\n",
    "# Test with data from 7 days ago\n",
    "print(\"\\n=== Testing Data from 7 Days Ago ===\")\n",
    "week_ago_sensor = MetaAdsSalesSensor(\n",
    "    name=\"meta_ads_week_ago\",\n",
    "    reliability=0.9,\n",
    "    access_token=ACCESS_TOKEN,\n",
    "    ad_account_id=AD_ACCOUNT_ID,\n",
    "    campaign_id=CAMPAIGN_ID,\n",
    "    date_offset=7  # A week ago\n",
    ")\n",
    "\n",
    "week_ago_data = week_ago_sensor.run()\n",
    "print(\"\\nData from 7 days ago:\")\n",
    "print(week_ago_data)"
   ]
  },
  {
   "cell_type": "code",
   "execution_count": null,
   "metadata": {},
   "outputs": [],
   "source": []
  }
 ],
 "metadata": {
  "kernelspec": {
   "display_name": "babel-PAVoc7qP-py3.12",
   "language": "python",
   "name": "python3"
  },
  "language_info": {
   "codemirror_mode": {
    "name": "ipython",
    "version": 3
   },
   "file_extension": ".py",
   "mimetype": "text/x-python",
   "name": "python",
   "nbconvert_exporter": "python",
   "pygments_lexer": "ipython3",
   "version": "3.12.7"
  }
 },
 "nbformat": 4,
 "nbformat_minor": 2
}
